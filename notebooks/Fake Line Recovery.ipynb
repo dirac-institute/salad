{
 "cells": [
  {
   "cell_type": "code",
   "execution_count": 52,
   "id": "ffb5c252",
   "metadata": {},
   "outputs": [],
   "source": [
    "from salad.serialize import read\n",
    "import astropy.table\n",
    "import pandas as pd\n",
    "from astropy.coordinates import SkyCoord\n",
    "import astropy.units as u\n",
    "import numpy as np\n",
    "from salad.regression import RegressionResult"
   ]
  },
  {
   "cell_type": "code",
   "execution_count": 79,
   "id": "9292d6ad",
   "metadata": {},
   "outputs": [],
   "source": [
    "detector = 1\n",
    "snr = 5.0\n",
    "catalog = read(f\"../search/new_pipeline/DEEP/20190403/A0c/detector_{detector}/snr_{snr}/catalog.pkl\")\n",
    "images = read(f\"../search/new_pipeline/DEEP/20190403/A0c/detector_{detector}/images.pkl\")\n",
    "fakes = read(f\"../search/new_pipeline/DEEP/20190403/A0c/detector_{detector}/fakes.pkl\")\n",
    "clusters = read(f\"../search/new_pipeline/DEEP/20190403/A0c/detector_{detector}/snr_{snr}/unshuffled/clusters.pkl\")\n",
    "projection = read(f\"../search/new_pipeline/DEEP/20190403/A0c/detector_{detector}/snr_{snr}/unshuffled/projection.pkl\")\n",
    "refined1 = read(f\"../search/new_pipeline/DEEP/20190403/A0c/detector_{detector}/snr_{snr}/unshuffled/refined_clusters_1.pkl\")\n",
    "refined2 = read(f\"../search/new_pipeline/DEEP/20190403/A0c/detector_{detector}/snr_{snr}/unshuffled/refined_clusters_2.pkl\")\n",
    "refined_filtered = read(f\"../search/new_pipeline/DEEP/20190403/A0c/detector_{detector}/snr_{snr}/unshuffled/refined_clusters_2_filtered.pkl\")\n",
    "hough = read(f\"../search/new_pipeline/DEEP/20190403/A0c/detector_{detector}/snr_{snr}/unshuffled/hough.pkl\")"
   ]
  },
  {
   "cell_type": "code",
   "execution_count": 184,
   "id": "419da689",
   "metadata": {},
   "outputs": [
    {
     "ename": "AttributeError",
     "evalue": "'numpy.float64' object has no attribute 'value'",
     "output_type": "error",
     "traceback": [
      "\u001b[0;31m---------------------------------------------------------------------------\u001b[0m",
      "\u001b[0;31mAttributeError\u001b[0m                            Traceback (most recent call last)",
      "Cell \u001b[0;32mIn[184], line 1\u001b[0m\n\u001b[0;32m----> 1\u001b[0m \u001b[43mprojection\u001b[49m\u001b[38;5;241;43m.\u001b[39;49m\u001b[43mreference_time\u001b[49m\u001b[38;5;241;43m.\u001b[39;49m\u001b[43mvalue\u001b[49m\n",
      "\u001b[0;31mAttributeError\u001b[0m: 'numpy.float64' object has no attribute 'value'"
     ]
    }
   ],
   "source": [
    "projection.reference_time"
   ]
  },
  {
   "cell_type": "code",
   "execution_count": 85,
   "id": "9e759e18",
   "metadata": {},
   "outputs": [],
   "source": [
    "def recover(fakes, clusters, catalog, match_threshold=1/3600, projection=None, hough=None):\n",
    "    c_fake = SkyCoord(fakes['RA']*u.deg, fakes['DEC']*u.deg)\n",
    "    t_fake = fakes['mjd_mid'].data[:, None]\n",
    "        \n",
    "    t1 = astropy.table.Table(data=[c_fake.ra, c_fake.dec, fakes['ORBITID'], fakes['EXPNUM']], names=['ra', 'dec', 'orbit', 'expnum'])\n",
    "\n",
    "    t_points = []\n",
    "    t_line = []\n",
    "    for i, cluster in enumerate(clusters):\n",
    "        # recover points\n",
    "        e = cluster.points[:, -1].astype(int)\n",
    "        c_cluster = SkyCoord(cluster.points[:, 0] * u.deg, cluster.points[:, 1] * u.deg)\n",
    "        t2 = astropy.table.Table(\n",
    "            data=[[i]*len(e), c_cluster.ra, c_cluster.dec, e], names=['cluster', 'ra', 'dec', 'expnum']\n",
    "        )\n",
    "        t_points.append(t2)\n",
    "        \n",
    "        # recover line\n",
    "        if 'line' in cluster.extra:\n",
    "            line = cluster.extra['line']\n",
    "        elif 'b' in cluster.extra:\n",
    "            alpha = np.array(\n",
    "                [\n",
    "                    (cluster.extra['x'] * hough.dx + hough.min_x), \n",
    "                    (cluster.extra['y'] * hough.dy + hough.min_y)\n",
    "                ]\n",
    "            ) * u.deg\n",
    "            beta = projection.directions.b[cluster.extra['b']][None, :]\n",
    "            line = RegressionResult()\n",
    "            line.beta = beta\n",
    "            line.alpha = alpha\n",
    "            t_fake = (fakes['mjd_mid'].data[:, None] - projection.reference_time)\n",
    "        \n",
    "        line_locations = t_fake @ line.beta * u.day + line.alpha\n",
    "        e = fakes['EXPNUM']\n",
    "        o = fakes['ORBITID']\n",
    "        c_line = SkyCoord(line_locations[:, 0], line_locations[:, 1])\n",
    "        t2 = astropy.table.Table(\n",
    "            data=[[i]*len(e), c_line.ra, c_line.dec, e, o], \n",
    "            names=['cluster', 'ra', 'dec', 'expnum', 'orbit']\n",
    "        )\n",
    "        t_line.append(t2)        \n",
    "\n",
    "    t_points = astropy.table.vstack(t_points)\n",
    "    t_line = astropy.table.vstack(t_line)\n",
    "\n",
    "    \n",
    "    # this matches cluster points to fake detections\n",
    "    matches = {orbit : {\"points\": {}, \"line\": {}, \"catalog\": 0, \"info\": {}} for orbit in set(fakes['ORBITID'])}\n",
    "    \n",
    "    for g in astropy.table.join(t1, t_points, keys=['expnum']).group_by([\"orbit\", \"cluster\"]).groups:\n",
    "        sep = SkyCoord(g['ra_1'], g['dec_1']).separation(SkyCoord(g['ra_2'], g['dec_2']))\n",
    "        n_matches = (sep.value < 1/3600).sum()\n",
    "        o = int(g[0]['orbit'])\n",
    "        c = int(g[0]['cluster'])\n",
    "        if n_matches > 0:\n",
    "            matches[o]['points'][c] = n_matches + matches[o]['points'].get(c, 0)\n",
    "\n",
    "    # this matches cluster lines to fake detections\n",
    "#     matches_line = {orbit : {} for orbit in set(fakes['ORBITID'])}\n",
    "    for g in astropy.table.join(t1, t_line, keys=['expnum', 'orbit']).group_by([\"orbit\", \"cluster\"]).groups:\n",
    "        sep = SkyCoord(g['ra_1'], g['dec_1']).separation(SkyCoord(g['ra_2'], g['dec_2']))\n",
    "        n_matches = (sep.value < 1/3600).sum()\n",
    "        o = int(g[0]['orbit'])\n",
    "        c = int(g[0]['cluster'])\n",
    "        if n_matches > 0:\n",
    "            matches[o]['line'][c] = n_matches + matches[o]['line'].get(c, 0)\n",
    "    \n",
    "    # this matches catalog points to fake detections\n",
    "    x = catalog.X(columns=['ra', 'dec', 'time', 'exposures'])\n",
    "    c_catalog = SkyCoord(x[:, 0]*u.deg, x[:, 1]*u.deg)\n",
    "    t_catalog = astropy.table.Table(\n",
    "        data=[c_catalog.ra, c_catalog.dec, x[:, 3]], \n",
    "        names=['ra', 'dec', 'expnum']\n",
    "    )\n",
    "    for g in astropy.table.join(t1, t_catalog, keys=['expnum']).group_by([\"orbit\"]).groups:\n",
    "        sep = SkyCoord(g['ra_1'], g['dec_1']).separation(SkyCoord(g['ra_2'], g['dec_2']))\n",
    "        n_matches = (sep.value < 1/3600).sum()\n",
    "        o = int(g[0]['orbit'])\n",
    "        matches[o]['catalog'] = n_matches\n",
    "\n",
    "    for g in fakes.group_by(\"ORBITID\").groups:\n",
    "        idx = np.argsort(g['mjd_mid'])\n",
    "        dt = (g[idx]['mjd_mid'][-1] - g[idx]['mjd_mid'][0]) * u.day\n",
    "\n",
    "        if dt == 0:\n",
    "            vra = np.nan\n",
    "            vdec = np.nan\n",
    "        else:\n",
    "            dra = (g[idx]['RA'][-1] - g[idx]['RA'][0]) * u.deg\n",
    "            ddec = (g[idx]['DEC'][-1] - g[idx]['DEC'][0]) * u.deg\n",
    "            vra = dra / dt\n",
    "            vdec = ddec / dt\n",
    "\n",
    "        o = int(g[0]['ORBITID'])\n",
    "        matches[o]['info'] = dict(\n",
    "            vra=vra,\n",
    "            vdec=vdec,\n",
    "        )\n",
    "\n",
    "        if projection is not None:\n",
    "            dv = projection.directions.b - np.array([vra.value, vdec.value]) * u.deg/u.day\n",
    "            min_dv = ((dv**2).sum(axis=1)**0.5).min()\n",
    "            distance = min_dv * dt\n",
    "            matches[o]['info']['min_dv'] = min_dv\n",
    "            matches[o]['info']['distance'] = distance\n",
    "        if hough is not None:\n",
    "            matches[o]['info']['findable'] = (distance < hough.dx * u.deg)\n",
    "        \n",
    "    return matches"
   ]
  },
  {
   "cell_type": "code",
   "execution_count": null,
   "id": "a3593a15",
   "metadata": {},
   "outputs": [],
   "source": [
    "# What I want to know is:\n",
    "# Number of results\n",
    "# Number of fakes recovered\n",
    "# - clusters\n",
    "# - refine\n",
    "# - refine\n",
    "# - filter_n\n",
    "# - filter_v\n",
    "\n",
    "# A successful recovery means:\n",
    "# Points: at least 50% of points in a cluster belong to the fake\n",
    "# Line: at least 50% of the points in the catalog are within dx=1 arcsec of the line\n",
    "\n",
    "# Points: \n",
    "# - what is the fraction of the fake catalog points that are within this cluster\n",
    "# Line: what is the fraction of the catalog points for the fake that lie within 1 arcsec of the line\n",
    "\n",
    "# For each fake: \n",
    "# - Did I find it?\n",
    "# - How often did I find it?\n",
    "# fake + cluster/line -> found\n",
    "\n",
    "# I have a few cases:\n",
    "# - fraction of fakes gathered\n",
    "# - fraction of fakes \n",
    "# I could have gathered all of the points, but I can't distinguish it from other sources (50%)\n",
    "# I could have gathered "
   ]
  },
  {
   "cell_type": "code",
   "execution_count": 87,
   "id": "eb6c66d8",
   "metadata": {},
   "outputs": [],
   "source": [
    "import matplotlib.pyplot as plt"
   ]
  },
  {
   "cell_type": "code",
   "execution_count": 116,
   "id": "8870cf86",
   "metadata": {},
   "outputs": [],
   "source": [
    "steps = [clusters, refined1, refined2, refined_filtered]\n",
    "recoveries = [\n",
    "    recover(fakes, c, catalog, hough=hough, projection=projection)\n",
    "    for c in steps\n",
    "]"
   ]
  },
  {
   "cell_type": "code",
   "execution_count": 113,
   "id": "46e1867e",
   "metadata": {},
   "outputs": [
    {
     "data": {
      "text/plain": [
       "{'points': {6: 85},\n",
       " 'line': {6: 104},\n",
       " 'catalog': 85,\n",
       " 'info': {'vra': <Quantity -0.14885475 deg / d>,\n",
       "  'vdec': <Quantity 0.15269422 deg / d>,\n",
       "  'min_dv': <Quantity 0.00714488 deg / d>,\n",
       "  'distance': <Quantity 0.0012745 deg>,\n",
       "  'findable': True}}"
      ]
     },
     "execution_count": 113,
     "metadata": {},
     "output_type": "execute_result"
    }
   ],
   "source": [
    "recoveries[1][14621325]"
   ]
  },
  {
   "cell_type": "code",
   "execution_count": 151,
   "id": "50695e8a",
   "metadata": {},
   "outputs": [
    {
     "data": {
      "text/plain": [
       "([0.9139784946236559, 0.8679245283018868, 0.21875, 0.03225806451612903],\n",
       " [1.0, 0.9787234042553191, 0.14893617021276595, 0.14285714285714285])"
      ]
     },
     "execution_count": 151,
     "metadata": {},
     "output_type": "execute_result"
    }
   ],
   "source": [
    "i = 0\n",
    "p = []\n",
    "r = []\n",
    "for k in recoveries[i]:\n",
    "    for c in recoveries[i][k]['points']:\n",
    "        precision = recoveries[i][k]['points'][c] / len(steps[i].clusters[c].points)\n",
    "        recall = recoveries[i][k]['points'][c] / recoveries[i][k]['catalog']\n",
    "        p.append(precision)\n",
    "        r.append(recall)\n",
    "        \n",
    "p, r"
   ]
  },
  {
   "cell_type": "code",
   "execution_count": null,
   "id": "f3045ad7",
   "metadata": {},
   "outputs": [],
   "source": [
    "# what I want to know is\n",
    "# for each fake:\n"
   ]
  },
  {
   "cell_type": "code",
   "execution_count": 161,
   "id": "5cc71506",
   "metadata": {},
   "outputs": [
    {
     "data": {
      "image/png": "[encoded data removed]",
      "text/plain": [
       "<Figure size 640x480 with 1 Axes>"
      ]
     },
     "metadata": {},
     "output_type": "display_data"
    }
   ],
   "source": [
    "orbits = list(set(fakes['ORBITID']))\n",
    "\n",
    "for orbit in orbits:\n",
    "    x = []\n",
    "    y = []\n",
    "    for i in range(len(steps)):\n",
    "        r = recoveries[i]\n",
    "        s = steps[i]\n",
    "        if orbit in r:\n",
    "            num_clusters = len(recoveries[i][orbit]['points'])\n",
    "            if num_clusters > 0:\n",
    "\n",
    "                precision = recoveries[i][k]['points'][c] / len(steps[i].clusters[c].points)\n",
    "                recall = recoveries[i][k]['points'][c] / recoveries[i][k]['catalog']                \n",
    "                x.append(i)\n",
    "                y.append(num_clusters)\n",
    "    if x:\n",
    "        plt.plot(x, y)\n",
    "\n",
    "plt.ylim(0, 2.5)\n",
    "plt.show()"
   ]
  },
  {
   "cell_type": "code",
   "execution_count": 144,
   "id": "17e0e300",
   "metadata": {},
   "outputs": [
    {
     "data": {
      "text/plain": [
       "{'points': {6: 85},\n",
       " 'line': {6: 104},\n",
       " 'catalog': 85,\n",
       " 'info': {'vra': <Quantity -0.14885475 deg / d>,\n",
       "  'vdec': <Quantity 0.15269422 deg / d>,\n",
       "  'min_dv': <Quantity 0.00714488 deg / d>,\n",
       "  'distance': <Quantity 0.0012745 deg>,\n",
       "  'findable': True}}"
      ]
     },
     "execution_count": 144,
     "metadata": {},
     "output_type": "execute_result"
    }
   ],
   "source": [
    "# number of clusters with fakes\n",
    "recoveries[1][14621325]"
   ]
  },
  {
   "cell_type": "code",
   "execution_count": null,
   "id": "a21f6a31",
   "metadata": {},
   "outputs": [],
   "source": []
  },
  {
   "cell_type": "code",
   "execution_count": 114,
   "id": "426dcda5",
   "metadata": {},
   "outputs": [
    {
     "data": {
      "text/plain": [
       "(0.8173076923076923, 1.0)"
      ]
     },
     "execution_count": 114,
     "metadata": {},
     "output_type": "execute_result"
    }
   ],
   "source": [
    "# precision = number of fakes in cluster / number of points in cluster\n",
    "# recall = number of fakes in cluster / number of fakes in catalog\n",
    "precision = recoveries[1][14621325]['points'][6] / len(refined1.clusters[6].points)\n",
    "recall = min(recoveries[1][14621325]['points'][6] / recoveries[1][14621325]['catalog'], 1)\n",
    "precision, recall"
   ]
  },
  {
   "cell_type": "code",
   "execution_count": 115,
   "id": "42df2449",
   "metadata": {},
   "outputs": [
    {
     "data": {
      "text/plain": [
       "(1.0, 1)"
      ]
     },
     "execution_count": 115,
     "metadata": {},
     "output_type": "execute_result"
    }
   ],
   "source": [
    "# line:\n",
    "# precision = number of fakes near line / number of fakes in jected\n",
    "# recall = number of fake near line / number of fakes injected\n",
    "precision = recoveries[1][14621325]['line'][6] / len(images.images)\n",
    "recall = min(recoveries[1][14621325]['line'][6] / recoveries[1][14621325]['catalog'], 1)\n",
    "precision, recall"
   ]
  },
  {
   "cell_type": "code",
   "execution_count": 164,
   "id": "d869d401",
   "metadata": {},
   "outputs": [
    {
     "data": {
      "text/plain": [
       "{}"
      ]
     },
     "execution_count": 164,
     "metadata": {},
     "output_type": "execute_result"
    }
   ],
   "source": [
    "r[orbit]['points']"
   ]
  },
  {
   "cell_type": "code",
   "execution_count": 182,
   "id": "cc46bdca",
   "metadata": {},
   "outputs": [
    {
     "name": "stdout",
     "output_type": "stream",
     "text": [
      "[[0.9139784946236559], [0.8679245283018868, 0.21875]]\n",
      "[[1.0], [1.0, 0.2]]\n",
      "[[1.0], [1.0, 0.2857142857142857]]\n",
      "[[1.0], [1.0]]\n"
     ]
    },
    {
     "data": {
      "text/plain": [
       "([1.0, 1.0, 1.0, 1.0], [])"
      ]
     },
     "execution_count": 182,
     "metadata": {},
     "output_type": "execute_result"
    }
   ],
   "source": [
    "num_fakes = len(orbits)\n",
    "fraction_found = [] # fraction found\n",
    "purity = []\n",
    "for i in range(len(steps)):\n",
    "    r = recoveries[i]\n",
    "    s = steps[i]\n",
    "    found = 0\n",
    "    possible = 0\n",
    "    ps = []\n",
    "    for orbit in orbits:\n",
    "        # found at this step?\n",
    "        if orbit in r:\n",
    "            found_in = 0\n",
    "            was_in = len(r[orbit]['points'])\n",
    "            p = []\n",
    "            for c in r[orbit]['points']:\n",
    "                precision = r[orbit]['points'][c] / len(s.clusters[c].points)\n",
    "                recall = r[orbit]['points'][c] / r[orbit]['catalog']\n",
    "                if precision > 0.5:\n",
    "                    found_in += 1\n",
    "                p.append(precision)\n",
    "            if found_in > 0:\n",
    "                found += 1\n",
    "                ps.append(p)\n",
    "            if r[orbit]['info']['findable'] and r[orbit]['catalog'] > 0:\n",
    "                possible += 1\n",
    "\n",
    "    print(ps)\n",
    "#     if p:\n",
    "#         purity.append(p)\n",
    "    fraction_found.append(found / possible)\n",
    "    \n",
    "fraction_found, purity"
   ]
  },
  {
   "cell_type": "code",
   "execution_count": 176,
   "id": "90039385",
   "metadata": {},
   "outputs": [
    {
     "data": {
      "image/png": "[encoded data removed]",
      "text/plain": [
       "<Figure size 640x480 with 1 Axes>"
      ]
     },
     "metadata": {},
     "output_type": "display_data"
    }
   ],
   "source": [
    "lens = [len(clusters.clusters), len(refined1.clusters), len(refined2.clusters), len(refined_filtered.clusters)]\n",
    "x = np.arange(len(lens))\n",
    "plt.plot(x, np.array(lens)/max(lens), label=\"number of results\")\n",
    "plt.plot(x, fraction_found, label=\"fraction of findable fakes found\")\n",
    "plt.plot(x, purity, label=\"purity of fake clusters\")\n",
    "plt.ylabel(\"number of clusters\")\n",
    "plt.xticks(x, [\"cluster\", \"refine 1\", \"refine 2\", \"filter\"])\n",
    "plt.legend()\n",
    "plt.show()"
   ]
  },
  {
   "cell_type": "code",
   "execution_count": null,
   "id": "79dd5ca8",
   "metadata": {},
   "outputs": [],
   "source": [
    "# I'm trying to characterize the true positive rate as a function of the refinement/filtering\n"
   ]
  },
  {
   "cell_type": "code",
   "execution_count": 86,
   "id": "3a5bb202",
   "metadata": {},
   "outputs": [
    {
     "data": {
      "text/plain": [
       "{13039521: {'points': {},\n",
       "  'line': {},\n",
       "  'catalog': 0,\n",
       "  'info': {'vra': <Quantity -0.14286354 deg / d>,\n",
       "   'vdec': <Quantity 0.00333632 deg / d>,\n",
       "   'min_dv': <Quantity 0.01059939 deg / d>,\n",
       "   'distance': <Quantity 0.00189071 deg>,\n",
       "   'findable': True}},\n",
       " 10564514: {'points': {},\n",
       "  'line': {},\n",
       "  'catalog': 0,\n",
       "  'info': {'vra': <Quantity -0.11873689 deg / d>,\n",
       "   'vdec': <Quantity 0.12091516 deg / d>,\n",
       "   'min_dv': <Quantity 0.00778315 deg / d>,\n",
       "   'distance': <Quantity 0.00027088 deg>,\n",
       "   'findable': True}},\n",
       " 14621325: {'points': {6: 85},\n",
       "  'line': {},\n",
       "  'catalog': 85,\n",
       "  'info': {'vra': <Quantity -0.14885475 deg / d>,\n",
       "   'vdec': <Quantity 0.15269422 deg / d>,\n",
       "   'min_dv': <Quantity 0.00714488 deg / d>,\n",
       "   'distance': <Quantity 0.0012745 deg>,\n",
       "   'findable': True}},\n",
       " 10053463: {'points': {},\n",
       "  'line': {},\n",
       "  'catalog': 0,\n",
       "  'info': {'vra': <Quantity -0.15100897 deg / d>,\n",
       "   'vdec': <Quantity 0.00298646 deg / d>,\n",
       "   'min_dv': <Quantity 0.01263974 deg / d>,\n",
       "   'distance': <Quantity 0.00225467 deg>,\n",
       "   'findable': True}},\n",
       " 13776855: {'points': {18: 46, 108: 7},\n",
       "  'line': {},\n",
       "  'catalog': 47,\n",
       "  'info': {'vra': <Quantity -0.12566953 deg / d>,\n",
       "   'vdec': <Quantity 0.18511984 deg / d>,\n",
       "   'min_dv': <Quantity 0.00059843 deg / d>,\n",
       "   'distance': <Quantity 0.00010675 deg>,\n",
       "   'findable': True}},\n",
       " 14813564: {'points': {111: 1},\n",
       "  'line': {},\n",
       "  'catalog': 7,\n",
       "  'info': {'vra': <Quantity -0.16369937 deg / d>,\n",
       "   'vdec': <Quantity -0.01746633 deg / d>,\n",
       "   'min_dv': <Quantity 0.03197695 deg / d>,\n",
       "   'distance': <Quantity 0.00570403 deg>,\n",
       "   'findable': False}},\n",
       " 10041343: {'points': {},\n",
       "  'line': {},\n",
       "  'catalog': 100,\n",
       "  'info': {'vra': <Quantity -0.29713809 deg / d>,\n",
       "   'vdec': <Quantity -0.09604964 deg / d>,\n",
       "   'min_dv': <Quantity 0.10993634 deg / d>,\n",
       "   'distance': <Quantity 0.01961038 deg>,\n",
       "   'findable': False}}}"
      ]
     },
     "execution_count": 86,
     "metadata": {},
     "output_type": "execute_result"
    }
   ],
   "source": [
    "recover(fakes, clusters, catalog, hough=hough, projection=projection)"
   ]
  },
  {
   "cell_type": "code",
   "execution_count": 197,
   "id": "65d62924",
   "metadata": {},
   "outputs": [
    {
     "data": {
      "text/plain": [
       "<salad.cluster.cluster.Cluster at 0x7fc2b3d84d90>"
      ]
     },
     "execution_count": 197,
     "metadata": {},
     "output_type": "execute_result"
    }
   ],
   "source": [
    "refined1.clusters[70]"
   ]
  },
  {
   "cell_type": "code",
   "execution_count": 201,
   "id": "a965b5f5",
   "metadata": {},
   "outputs": [
    {
     "data": {
      "text/plain": [
       "51"
      ]
     },
     "execution_count": 201,
     "metadata": {},
     "output_type": "execute_result"
    }
   ],
   "source": [
    "len(refined_filtered.clusters)"
   ]
  },
  {
   "cell_type": "code",
   "execution_count": 200,
   "id": "80122ff8",
   "metadata": {},
   "outputs": [
    {
     "data": {
      "text/plain": [
       "({13039521: {},\n",
       "  10564514: {},\n",
       "  14621325: {6: 85},\n",
       "  10053463: {},\n",
       "  13776855: {18: 47, 50: 7},\n",
       "  14813564: {},\n",
       "  10041343: {}},\n",
       " {13039521: {},\n",
       "  10564514: {},\n",
       "  14621325: {6: 104},\n",
       "  10053463: {},\n",
       "  13776855: {18: 104, 50: 1},\n",
       "  14813564: {},\n",
       "  10041343: {}})"
      ]
     },
     "execution_count": 200,
     "metadata": {},
     "output_type": "execute_result"
    }
   ],
   "source": [
    "recover(fakes, refined_filtered)"
   ]
  },
  {
   "cell_type": "code",
   "execution_count": 189,
   "id": "23d27bda",
   "metadata": {},
   "outputs": [
    {
     "name": "stdout",
     "output_type": "stream",
     "text": [
      "0 0 0\n"
     ]
    }
   ],
   "source": [
    "i = 0\n",
    "cluster = refined1.clusters[i]\n",
    "line = cluster.extra['line']\n",
    "t_fake = fakes['mjd_mid'].data[:, None]\n",
    "line_locations = t_fake @ line.beta * u.day + line.alpha\n",
    "e = fakes['EXPNUM']\n",
    "c_line = SkyCoord(\n",
    "    line_locations[:, 0], \n",
    "    line_locations[:, 1]\n",
    ")\n",
    "t2 = astropy.table.Table(\n",
    "    data=[[i]*len(e), c_line.ra, c_line.dec, fakes['EXPNUM'], fakes['ORBITID']], \n",
    "    names=['cluster', 'ra', 'dec', 'expnum', 'orbit']\n",
    ")\n",
    "\n",
    "c_fake = SkyCoord(\n",
    "    fakes['RA']*u.deg, \n",
    "    fakes['DEC']*u.deg\n",
    ")\n",
    "t1 = astropy.table.Table(\n",
    "    data=[c_fake.ra, c_fake.dec, fakes['ORBITID'], fakes['EXPNUM']], \n",
    "    names=['ra', 'dec', 'orbit', 'expnum']\n",
    ")\n",
    "for j, g in enumerate(astropy.table.join(t1, t2, keys=['expnum', 'orbit']).group_by([\"cluster\"]).groups):\n",
    "    sep = SkyCoord(g['ra_1'], g['dec_1']).separation(SkyCoord(g['ra_2'], g['dec_2']))\n",
    "    n_matches = (sep.value < 1/3600).sum()\n",
    "    print(i, j, n_matches)"
   ]
  },
  {
   "cell_type": "code",
   "execution_count": 194,
   "id": "f39aef89",
   "metadata": {},
   "outputs": [
    {
     "data": {
      "text/html": [
       "<div><i>Table length=104</i>\n",
       "<table id=\"table140474215983312\" class=\"table-striped table-bordered table-condensed\">\n",
       "<thead><tr><th>ra_1</th><th>dec_1</th><th>orbit</th><th>expnum</th><th>cluster</th><th>ra_2</th><th>dec_2</th></tr></thead>\n",
       "<thead><tr><th>deg</th><th>deg</th><th></th><th></th><th></th><th>deg</th><th>deg</th></tr></thead>\n",
       "<thead><tr><th>float64</th><th>float64</th><th>int64</th><th>int32</th><th>int64</th><th>float64</th><th>float64</th></tr></thead>\n",
       "<tr><td>216.23981819681916</td><td>-11.057866904456185</td><td>10041343</td><td>845872</td><td>0</td><td>216.22033450785057</td><td>-11.02005318013471</td></tr>\n",
       "<tr><td>216.23931011341227</td><td>-11.058032589707828</td><td>10041343</td><td>845873</td><td>0</td><td>216.2200630874413</td><td>-11.019888328181878</td></tr>\n",
       "<tr><td>216.2387825978006</td><td>-11.058204565388465</td><td>10041343</td><td>845874</td><td>0</td><td>216.2197813183684</td><td>-11.01971719078665</td></tr>\n",
       "<tr><td>216.23827445314677</td><td>-11.05837018180243</td><td>10041343</td><td>845875</td><td>0</td><td>216.21950992611346</td><td>-11.019552355933229</td></tr>\n",
       "<tr><td>216.2377653240385</td><td>-11.05853607609234</td><td>10041343</td><td>845876</td><td>0</td><td>216.2192380368033</td><td>-11.019387219184864</td></tr>\n",
       "<tr><td>216.23725563669248</td><td>-11.058702109512968</td><td>10041343</td><td>845877</td><td>0</td><td>216.21896587753872</td><td>-11.019221918476433</td></tr>\n",
       "<tr><td>216.236745910815</td><td>-11.05886811316398</td><td>10041343</td><td>845878</td><td>0</td><td>216.21869372492802</td><td>-11.019056621807977</td></tr>\n",
       "<tr><td>216.23623388570857</td><td>-11.059034823503007</td><td>10041343</td><td>845879</td><td>0</td><td>216.21842037146416</td><td>-11.018890595780249</td></tr>\n",
       "<tr><td>216.23572683070557</td><td>-11.059199874185031</td><td>10041343</td><td>845880</td><td>0</td><td>216.2181496970843</td><td>-11.018726196942225</td></tr>\n",
       "<tr><td>...</td><td>...</td><td>...</td><td>...</td><td>...</td><td>...</td><td>...</td></tr>\n",
       "<tr><td>216.191393292977</td><td>-11.073525431527043</td><td>10041343</td><td>845966</td><td>0</td><td>216.1944947470547</td><td>-11.004358947567198</td></tr>\n",
       "<tr><td>216.19088460035277</td><td>-11.073689266574947</td><td>10041343</td><td>845967</td><td>0</td><td>216.1942224816903</td><td>-11.004193582417429</td></tr>\n",
       "<tr><td>216.19037648745882</td><td>-11.073852918579334</td><td>10041343</td><td>845968</td><td>0</td><td>216.19395048717524</td><td>-11.004028381770695</td></tr>\n",
       "<tr><td>216.18987023804272</td><td>-11.074015974702709</td><td>10041343</td><td>845969</td><td>0</td><td>216.19367945030353</td><td>-11.003863762766741</td></tr>\n",
       "<tr><td>216.18935680789056</td><td>-11.074181348163481</td><td>10041343</td><td>845970</td><td>0</td><td>216.1934045279213</td><td>-11.003696783828673</td></tr>\n",
       "<tr><td>216.18885035133076</td><td>-11.07434448073159</td><td>10041343</td><td>845971</td><td>0</td><td>216.19313329842953</td><td>-11.003532047832778</td></tr>\n",
       "<tr><td>216.1883404745989</td><td>-11.074508720932947</td><td>10041343</td><td>845972</td><td>0</td><td>216.19286019525316</td><td>-11.003366173821632</td></tr>\n",
       "<tr><td>216.1878340205213</td><td>-11.074671864966527</td><td>10041343</td><td>845973</td><td>0</td><td>216.19258888302284</td><td>-11.003201387573426</td></tr>\n",
       "<tr><td>216.18732433864514</td><td>-11.074836055654409</td><td>10041343</td><td>845974</td><td>0</td><td>216.19231579863663</td><td>-11.00303552497553</td></tr>\n",
       "<tr><td>216.1868148760918</td><td>-11.0750001831737</td><td>10041343</td><td>845975</td><td>0</td><td>216.19204278792495</td><td>-11.002869707123864</td></tr>\n",
       "</table></div>"
      ],
      "text/plain": [
       "<Table length=104>\n",
       "       ra_1               dec_1        ...        dec_2       \n",
       "       deg                 deg         ...         deg        \n",
       "     float64             float64       ...       float64      \n",
       "------------------ ------------------- ... -------------------\n",
       "216.23981819681916 -11.057866904456185 ...  -11.02005318013471\n",
       "216.23931011341227 -11.058032589707828 ... -11.019888328181878\n",
       " 216.2387825978006 -11.058204565388465 ...  -11.01971719078665\n",
       "216.23827445314677  -11.05837018180243 ... -11.019552355933229\n",
       " 216.2377653240385  -11.05853607609234 ... -11.019387219184864\n",
       "216.23725563669248 -11.058702109512968 ... -11.019221918476433\n",
       "  216.236745910815  -11.05886811316398 ... -11.019056621807977\n",
       "216.23623388570857 -11.059034823503007 ... -11.018890595780249\n",
       "216.23572683070557 -11.059199874185031 ... -11.018726196942225\n",
       "               ...                 ... ...                 ...\n",
       "  216.191393292977 -11.073525431527043 ... -11.004358947567198\n",
       "216.19088460035277 -11.073689266574947 ... -11.004193582417429\n",
       "216.19037648745882 -11.073852918579334 ... -11.004028381770695\n",
       "216.18987023804272 -11.074015974702709 ... -11.003863762766741\n",
       "216.18935680789056 -11.074181348163481 ... -11.003696783828673\n",
       "216.18885035133076  -11.07434448073159 ... -11.003532047832778\n",
       " 216.1883404745989 -11.074508720932947 ... -11.003366173821632\n",
       " 216.1878340205213 -11.074671864966527 ... -11.003201387573426\n",
       "216.18732433864514 -11.074836055654409 ...  -11.00303552497553\n",
       " 216.1868148760918   -11.0750001831737 ... -11.002869707123864"
      ]
     },
     "execution_count": 194,
     "metadata": {},
     "output_type": "execute_result"
    }
   ],
   "source": [
    "astropy.table.join(t1, t2, keys=['expnum', 'orbit']).group_by([\"orbit\", \"cluster\"]).groups[0]"
   ]
  },
  {
   "cell_type": "code",
   "execution_count": 187,
   "id": "c1708860",
   "metadata": {},
   "outputs": [
    {
     "data": {
      "text/html": [
       "<div><i>Table length=645</i>\n",
       "<table id=\"table140474222852368\" class=\"table-striped table-bordered table-condensed\">\n",
       "<thead><tr><th>cluster</th><th>ra</th><th>dec</th><th>expnum</th></tr></thead>\n",
       "<thead><tr><th></th><th>deg</th><th>deg</th><th></th></tr></thead>\n",
       "<thead><tr><th>int64</th><th>float64</th><th>float64</th><th>int32</th></tr></thead>\n",
       "<tr><td>6</td><td>216.0264182455703</td><td>-11.023502971918788</td><td>845872</td></tr>\n",
       "<tr><td>6</td><td>216.0264182455703</td><td>-11.023502971918788</td><td>845872</td></tr>\n",
       "<tr><td>6</td><td>216.0264182455703</td><td>-11.023502971918788</td><td>845872</td></tr>\n",
       "<tr><td>6</td><td>216.0264182455703</td><td>-11.023502971918788</td><td>845872</td></tr>\n",
       "<tr><td>6</td><td>216.0264182455703</td><td>-11.023502971918788</td><td>845872</td></tr>\n",
       "<tr><td>6</td><td>216.0264182455703</td><td>-11.023502971918788</td><td>845872</td></tr>\n",
       "<tr><td>6</td><td>216.02616320217567</td><td>-11.023241680213687</td><td>845873</td></tr>\n",
       "<tr><td>6</td><td>216.02616320217567</td><td>-11.023241680213687</td><td>845873</td></tr>\n",
       "<tr><td>6</td><td>216.02616320217567</td><td>-11.023241680213687</td><td>845873</td></tr>\n",
       "<tr><td>...</td><td>...</td><td>...</td><td>...</td></tr>\n",
       "<tr><td>6</td><td>216.00009013435374</td><td>-10.996529848178398</td><td>845974</td></tr>\n",
       "<tr><td>6</td><td>216.00009013435374</td><td>-10.996529848178398</td><td>845974</td></tr>\n",
       "<tr><td>6</td><td>216.00009013435374</td><td>-10.996529848178398</td><td>845974</td></tr>\n",
       "<tr><td>6</td><td>215.999833596612</td><td>-10.996267025517227</td><td>845975</td></tr>\n",
       "<tr><td>6</td><td>215.999833596612</td><td>-10.996267025517227</td><td>845975</td></tr>\n",
       "<tr><td>6</td><td>215.999833596612</td><td>-10.996267025517227</td><td>845975</td></tr>\n",
       "<tr><td>6</td><td>215.999833596612</td><td>-10.996267025517227</td><td>845975</td></tr>\n",
       "<tr><td>6</td><td>215.999833596612</td><td>-10.996267025517227</td><td>845975</td></tr>\n",
       "<tr><td>6</td><td>215.999833596612</td><td>-10.996267025517227</td><td>845975</td></tr>\n",
       "<tr><td>6</td><td>215.999833596612</td><td>-10.996267025517227</td><td>845975</td></tr>\n",
       "</table></div>"
      ],
      "text/plain": [
       "<Table length=645>\n",
       "cluster         ra                 dec         expnum\n",
       "               deg                 deg               \n",
       " int64       float64             float64       int32 \n",
       "------- ------------------ ------------------- ------\n",
       "      6  216.0264182455703 -11.023502971918788 845872\n",
       "      6  216.0264182455703 -11.023502971918788 845872\n",
       "      6  216.0264182455703 -11.023502971918788 845872\n",
       "      6  216.0264182455703 -11.023502971918788 845872\n",
       "      6  216.0264182455703 -11.023502971918788 845872\n",
       "      6  216.0264182455703 -11.023502971918788 845872\n",
       "      6 216.02616320217567 -11.023241680213687 845873\n",
       "      6 216.02616320217567 -11.023241680213687 845873\n",
       "      6 216.02616320217567 -11.023241680213687 845873\n",
       "    ...                ...                 ...    ...\n",
       "      6 216.00009013435374 -10.996529848178398 845974\n",
       "      6 216.00009013435374 -10.996529848178398 845974\n",
       "      6 216.00009013435374 -10.996529848178398 845974\n",
       "      6   215.999833596612 -10.996267025517227 845975\n",
       "      6   215.999833596612 -10.996267025517227 845975\n",
       "      6   215.999833596612 -10.996267025517227 845975\n",
       "      6   215.999833596612 -10.996267025517227 845975\n",
       "      6   215.999833596612 -10.996267025517227 845975\n",
       "      6   215.999833596612 -10.996267025517227 845975\n",
       "      6   215.999833596612 -10.996267025517227 845975"
      ]
     },
     "execution_count": 187,
     "metadata": {},
     "output_type": "execute_result"
    }
   ],
   "source": [
    "t2"
   ]
  },
  {
   "cell_type": "code",
   "execution_count": 180,
   "id": "85c5a374",
   "metadata": {},
   "outputs": [
    {
     "data": {
      "text/html": [
       "<div><i>Table length=645</i>\n",
       "<table id=\"table140473701152656\" class=\"table-striped table-bordered table-condensed\">\n",
       "<thead><tr><th>cluster</th><th>ra</th><th>dec</th><th>expnum</th></tr></thead>\n",
       "<thead><tr><th></th><th>deg</th><th>deg</th><th></th></tr></thead>\n",
       "<thead><tr><th>int64</th><th>float64</th><th>float64</th><th>int32</th></tr></thead>\n",
       "<tr><td>6</td><td>216.0264182455703</td><td>-11.023502971918788</td><td>845872</td></tr>\n",
       "<tr><td>6</td><td>216.0264182455703</td><td>-11.023502971918788</td><td>845872</td></tr>\n",
       "<tr><td>6</td><td>216.0264182455703</td><td>-11.023502971918788</td><td>845872</td></tr>\n",
       "<tr><td>6</td><td>216.0264182455703</td><td>-11.023502971918788</td><td>845872</td></tr>\n",
       "<tr><td>6</td><td>216.0264182455703</td><td>-11.023502971918788</td><td>845872</td></tr>\n",
       "<tr><td>6</td><td>216.0264182455703</td><td>-11.023502971918788</td><td>845872</td></tr>\n",
       "<tr><td>6</td><td>216.02616320217567</td><td>-11.023241680213687</td><td>845873</td></tr>\n",
       "<tr><td>6</td><td>216.02616320217567</td><td>-11.023241680213687</td><td>845873</td></tr>\n",
       "<tr><td>6</td><td>216.02616320217567</td><td>-11.023241680213687</td><td>845873</td></tr>\n",
       "<tr><td>...</td><td>...</td><td>...</td><td>...</td></tr>\n",
       "<tr><td>6</td><td>216.00009013435374</td><td>-10.996529848178398</td><td>845974</td></tr>\n",
       "<tr><td>6</td><td>216.00009013435374</td><td>-10.996529848178398</td><td>845974</td></tr>\n",
       "<tr><td>6</td><td>216.00009013435374</td><td>-10.996529848178398</td><td>845974</td></tr>\n",
       "<tr><td>6</td><td>215.999833596612</td><td>-10.996267025517227</td><td>845975</td></tr>\n",
       "<tr><td>6</td><td>215.999833596612</td><td>-10.996267025517227</td><td>845975</td></tr>\n",
       "<tr><td>6</td><td>215.999833596612</td><td>-10.996267025517227</td><td>845975</td></tr>\n",
       "<tr><td>6</td><td>215.999833596612</td><td>-10.996267025517227</td><td>845975</td></tr>\n",
       "<tr><td>6</td><td>215.999833596612</td><td>-10.996267025517227</td><td>845975</td></tr>\n",
       "<tr><td>6</td><td>215.999833596612</td><td>-10.996267025517227</td><td>845975</td></tr>\n",
       "<tr><td>6</td><td>215.999833596612</td><td>-10.996267025517227</td><td>845975</td></tr>\n",
       "</table></div>"
      ],
      "text/plain": [
       "<Table length=645>\n",
       "cluster         ra                 dec         expnum\n",
       "               deg                 deg               \n",
       " int64       float64             float64       int32 \n",
       "------- ------------------ ------------------- ------\n",
       "      6  216.0264182455703 -11.023502971918788 845872\n",
       "      6  216.0264182455703 -11.023502971918788 845872\n",
       "      6  216.0264182455703 -11.023502971918788 845872\n",
       "      6  216.0264182455703 -11.023502971918788 845872\n",
       "      6  216.0264182455703 -11.023502971918788 845872\n",
       "      6  216.0264182455703 -11.023502971918788 845872\n",
       "      6 216.02616320217567 -11.023241680213687 845873\n",
       "      6 216.02616320217567 -11.023241680213687 845873\n",
       "      6 216.02616320217567 -11.023241680213687 845873\n",
       "    ...                ...                 ...    ...\n",
       "      6 216.00009013435374 -10.996529848178398 845974\n",
       "      6 216.00009013435374 -10.996529848178398 845974\n",
       "      6 216.00009013435374 -10.996529848178398 845974\n",
       "      6   215.999833596612 -10.996267025517227 845975\n",
       "      6   215.999833596612 -10.996267025517227 845975\n",
       "      6   215.999833596612 -10.996267025517227 845975\n",
       "      6   215.999833596612 -10.996267025517227 845975\n",
       "      6   215.999833596612 -10.996267025517227 845975\n",
       "      6   215.999833596612 -10.996267025517227 845975\n",
       "      6   215.999833596612 -10.996267025517227 845975"
      ]
     },
     "execution_count": 180,
     "metadata": {},
     "output_type": "execute_result"
    }
   ],
   "source": [
    "t2"
   ]
  },
  {
   "cell_type": "code",
   "execution_count": 168,
   "id": "c49f0a66",
   "metadata": {},
   "outputs": [
    {
     "data": {
      "text/plain": [
       "645"
      ]
     },
     "execution_count": 168,
     "metadata": {},
     "output_type": "execute_result"
    }
   ],
   "source": [
    "g = astropy.table.join(t1, t2, keys=['expnum']).group_by([\"orbit\", \"cluster\"]).groups[5]\n",
    "sep = SkyCoord(g['ra_1'], g['dec_1']).separation(SkyCoord(g['ra_2'], g['dec_2']))\n",
    "n_matches = (sep.value < 1/3600).sum()\n",
    "n_matches"
   ]
  },
  {
   "cell_type": "code",
   "execution_count": 178,
   "id": "f342403e",
   "metadata": {},
   "outputs": [
    {
     "data": {
      "text/html": [
       "<div><i>Table length=645</i>\n",
       "<table id=\"table140474511412176\" class=\"table-striped table-bordered table-condensed\">\n",
       "<thead><tr><th>cluster</th><th>ra</th><th>dec</th><th>expnum</th></tr></thead>\n",
       "<thead><tr><th></th><th>deg</th><th>deg</th><th></th></tr></thead>\n",
       "<thead><tr><th>int64</th><th>float64</th><th>float64</th><th>int32</th></tr></thead>\n",
       "<tr><td>6</td><td>216.0264182455703</td><td>-11.023502971918788</td><td>845872</td></tr>\n",
       "<tr><td>6</td><td>216.0264182455703</td><td>-11.023502971918788</td><td>845872</td></tr>\n",
       "<tr><td>6</td><td>216.0264182455703</td><td>-11.023502971918788</td><td>845872</td></tr>\n",
       "<tr><td>6</td><td>216.0264182455703</td><td>-11.023502971918788</td><td>845872</td></tr>\n",
       "<tr><td>6</td><td>216.0264182455703</td><td>-11.023502971918788</td><td>845872</td></tr>\n",
       "<tr><td>6</td><td>216.0264182455703</td><td>-11.023502971918788</td><td>845872</td></tr>\n",
       "<tr><td>6</td><td>216.02616320217567</td><td>-11.023241680213687</td><td>845873</td></tr>\n",
       "<tr><td>6</td><td>216.02616320217567</td><td>-11.023241680213687</td><td>845873</td></tr>\n",
       "<tr><td>6</td><td>216.02616320217567</td><td>-11.023241680213687</td><td>845873</td></tr>\n",
       "<tr><td>...</td><td>...</td><td>...</td><td>...</td></tr>\n",
       "<tr><td>6</td><td>216.00009013435374</td><td>-10.996529848178398</td><td>845974</td></tr>\n",
       "<tr><td>6</td><td>216.00009013435374</td><td>-10.996529848178398</td><td>845974</td></tr>\n",
       "<tr><td>6</td><td>216.00009013435374</td><td>-10.996529848178398</td><td>845974</td></tr>\n",
       "<tr><td>6</td><td>215.999833596612</td><td>-10.996267025517227</td><td>845975</td></tr>\n",
       "<tr><td>6</td><td>215.999833596612</td><td>-10.996267025517227</td><td>845975</td></tr>\n",
       "<tr><td>6</td><td>215.999833596612</td><td>-10.996267025517227</td><td>845975</td></tr>\n",
       "<tr><td>6</td><td>215.999833596612</td><td>-10.996267025517227</td><td>845975</td></tr>\n",
       "<tr><td>6</td><td>215.999833596612</td><td>-10.996267025517227</td><td>845975</td></tr>\n",
       "<tr><td>6</td><td>215.999833596612</td><td>-10.996267025517227</td><td>845975</td></tr>\n",
       "<tr><td>6</td><td>215.999833596612</td><td>-10.996267025517227</td><td>845975</td></tr>\n",
       "</table></div>"
      ],
      "text/plain": [
       "<Table length=645>\n",
       "cluster         ra                 dec         expnum\n",
       "               deg                 deg               \n",
       " int64       float64             float64       int32 \n",
       "------- ------------------ ------------------- ------\n",
       "      6  216.0264182455703 -11.023502971918788 845872\n",
       "      6  216.0264182455703 -11.023502971918788 845872\n",
       "      6  216.0264182455703 -11.023502971918788 845872\n",
       "      6  216.0264182455703 -11.023502971918788 845872\n",
       "      6  216.0264182455703 -11.023502971918788 845872\n",
       "      6  216.0264182455703 -11.023502971918788 845872\n",
       "      6 216.02616320217567 -11.023241680213687 845873\n",
       "      6 216.02616320217567 -11.023241680213687 845873\n",
       "      6 216.02616320217567 -11.023241680213687 845873\n",
       "    ...                ...                 ...    ...\n",
       "      6 216.00009013435374 -10.996529848178398 845974\n",
       "      6 216.00009013435374 -10.996529848178398 845974\n",
       "      6 216.00009013435374 -10.996529848178398 845974\n",
       "      6   215.999833596612 -10.996267025517227 845975\n",
       "      6   215.999833596612 -10.996267025517227 845975\n",
       "      6   215.999833596612 -10.996267025517227 845975\n",
       "      6   215.999833596612 -10.996267025517227 845975\n",
       "      6   215.999833596612 -10.996267025517227 845975\n",
       "      6   215.999833596612 -10.996267025517227 845975\n",
       "      6   215.999833596612 -10.996267025517227 845975"
      ]
     },
     "execution_count": 178,
     "metadata": {},
     "output_type": "execute_result"
    }
   ],
   "source": [
    "t2"
   ]
  },
  {
   "cell_type": "code",
   "execution_count": 177,
   "id": "c2d6efa9",
   "metadata": {},
   "outputs": [
    {
     "data": {
      "text/html": [
       "<div><i>Table length=104</i>\n",
       "<table id=\"table140474218486352\" class=\"table-striped table-bordered table-condensed\">\n",
       "<thead><tr><th>ra</th><th>dec</th><th>orbit</th><th>expnum</th></tr></thead>\n",
       "<thead><tr><th>deg</th><th>deg</th><th></th><th></th></tr></thead>\n",
       "<thead><tr><th>float64</th><th>float64</th><th>int64</th><th>int32</th></tr></thead>\n",
       "<tr><td>216.0262513802975</td><td>-11.023316132846931</td><td>14621325</td><td>845872</td></tr>\n",
       "<tr><td>216.02599674227972</td><td>-11.023055741795972</td><td>14621325</td><td>845873</td></tr>\n",
       "<tr><td>216.02573236281933</td><td>-11.02278540382131</td><td>14621325</td><td>845874</td></tr>\n",
       "<tr><td>216.02547768938064</td><td>-11.022525003675817</td><td>14621325</td><td>845875</td></tr>\n",
       "<tr><td>216.02522252044062</td><td>-11.022264108794822</td><td>14621325</td><td>845876</td></tr>\n",
       "<tr><td>216.02496706972605</td><td>-11.022002936891178</td><td>14621325</td><td>845877</td></tr>\n",
       "<tr><td>216.02471159784704</td><td>-11.021741753485696</td><td>14621325</td><td>845878</td></tr>\n",
       "<tr><td>216.02445497188765</td><td>-11.021479399435536</td><td>14621325</td><td>845879</td></tr>\n",
       "<tr><td>216.02420083533244</td><td>-11.021219598728553</td><td>14621325</td><td>845880</td></tr>\n",
       "<tr><td>...</td><td>...</td><td>...</td><td>...</td></tr>\n",
       "<tr><td>216.0019897666742</td><td>-10.99844633299072</td><td>14621325</td><td>845966</td></tr>\n",
       "<tr><td>216.00173518090523</td><td>-10.998183479867196</td><td>14621325</td><td>845967</td></tr>\n",
       "<tr><td>216.00148089484043</td><td>-10.997920873796039</td><td>14621325</td><td>845968</td></tr>\n",
       "<tr><td>216.00122755098326</td><td>-10.997659178102525</td><td>14621325</td><td>845969</td></tr>\n",
       "<tr><td>216.00097062350983</td><td>-10.997393716431509</td><td>14621325</td><td>845970</td></tr>\n",
       "<tr><td>216.0007171955842</td><td>-10.997131806455386</td><td>14621325</td><td>845971</td></tr>\n",
       "<tr><td>216.00046206624438</td><td>-10.996868073160314</td><td>14621325</td><td>845972</td></tr>\n",
       "<tr><td>216.0002086595457</td><td>-10.996606055604955</td><td>14621325</td><td>845973</td></tr>\n",
       "<tr><td>215.9999536479923</td><td>-10.996342312724083</td><td>14621325</td><td>845974</td></tr>\n",
       "<tr><td>215.99969875649344</td><td>-10.996078627330409</td><td>14621325</td><td>845975</td></tr>\n",
       "</table></div>"
      ],
      "text/plain": [
       "<Table length=104>\n",
       "        ra                 dec          orbit   expnum\n",
       "       deg                 deg                        \n",
       "     float64             float64        int64   int32 \n",
       "------------------ ------------------- -------- ------\n",
       " 216.0262513802975 -11.023316132846931 14621325 845872\n",
       "216.02599674227972 -11.023055741795972 14621325 845873\n",
       "216.02573236281933  -11.02278540382131 14621325 845874\n",
       "216.02547768938064 -11.022525003675817 14621325 845875\n",
       "216.02522252044062 -11.022264108794822 14621325 845876\n",
       "216.02496706972605 -11.022002936891178 14621325 845877\n",
       "216.02471159784704 -11.021741753485696 14621325 845878\n",
       "216.02445497188765 -11.021479399435536 14621325 845879\n",
       "216.02420083533244 -11.021219598728553 14621325 845880\n",
       "               ...                 ...      ...    ...\n",
       " 216.0019897666742  -10.99844633299072 14621325 845966\n",
       "216.00173518090523 -10.998183479867196 14621325 845967\n",
       "216.00148089484043 -10.997920873796039 14621325 845968\n",
       "216.00122755098326 -10.997659178102525 14621325 845969\n",
       "216.00097062350983 -10.997393716431509 14621325 845970\n",
       " 216.0007171955842 -10.997131806455386 14621325 845971\n",
       "216.00046206624438 -10.996868073160314 14621325 845972\n",
       " 216.0002086595457 -10.996606055604955 14621325 845973\n",
       " 215.9999536479923 -10.996342312724083 14621325 845974\n",
       "215.99969875649344 -10.996078627330409 14621325 845975"
      ]
     },
     "execution_count": 177,
     "metadata": {},
     "output_type": "execute_result"
    }
   ],
   "source": [
    "t1[t1['orbit'] == 14621325]"
   ]
  },
  {
   "cell_type": "code",
   "execution_count": 173,
   "id": "0b764895",
   "metadata": {},
   "outputs": [
    {
     "data": {
      "text/html": [
       "<div><i>Table length=645</i>\n",
       "<table id=\"table140474511986896\" class=\"table-striped table-bordered table-condensed\">\n",
       "<thead><tr><th>ra_1</th><th>dec_1</th><th>orbit</th><th>expnum</th><th>cluster</th><th>ra_2</th><th>dec_2</th></tr></thead>\n",
       "<thead><tr><th>deg</th><th>deg</th><th></th><th></th><th></th><th>deg</th><th>deg</th></tr></thead>\n",
       "<thead><tr><th>float64</th><th>float64</th><th>int64</th><th>int32</th><th>int64</th><th>float64</th><th>float64</th></tr></thead>\n",
       "<tr><td>216.0262513802975</td><td>-11.023316132846931</td><td>14621325</td><td>845872</td><td>6</td><td>216.0264182455703</td><td>-11.023502971918788</td></tr>\n",
       "<tr><td>216.0262513802975</td><td>-11.023316132846931</td><td>14621325</td><td>845872</td><td>6</td><td>216.0264182455703</td><td>-11.023502971918788</td></tr>\n",
       "<tr><td>216.0262513802975</td><td>-11.023316132846931</td><td>14621325</td><td>845872</td><td>6</td><td>216.0264182455703</td><td>-11.023502971918788</td></tr>\n",
       "<tr><td>216.0262513802975</td><td>-11.023316132846931</td><td>14621325</td><td>845872</td><td>6</td><td>216.0264182455703</td><td>-11.023502971918788</td></tr>\n",
       "<tr><td>216.0262513802975</td><td>-11.023316132846931</td><td>14621325</td><td>845872</td><td>6</td><td>216.0264182455703</td><td>-11.023502971918788</td></tr>\n",
       "<tr><td>216.0262513802975</td><td>-11.023316132846931</td><td>14621325</td><td>845872</td><td>6</td><td>216.0264182455703</td><td>-11.023502971918788</td></tr>\n",
       "<tr><td>216.02599674227972</td><td>-11.023055741795972</td><td>14621325</td><td>845873</td><td>6</td><td>216.02616320217567</td><td>-11.023241680213687</td></tr>\n",
       "<tr><td>216.02599674227972</td><td>-11.023055741795972</td><td>14621325</td><td>845873</td><td>6</td><td>216.02616320217567</td><td>-11.023241680213687</td></tr>\n",
       "<tr><td>216.02599674227972</td><td>-11.023055741795972</td><td>14621325</td><td>845873</td><td>6</td><td>216.02616320217567</td><td>-11.023241680213687</td></tr>\n",
       "<tr><td>...</td><td>...</td><td>...</td><td>...</td><td>...</td><td>...</td><td>...</td></tr>\n",
       "<tr><td>215.9999536479923</td><td>-10.996342312724083</td><td>14621325</td><td>845974</td><td>6</td><td>216.00009013435374</td><td>-10.996529848178398</td></tr>\n",
       "<tr><td>215.9999536479923</td><td>-10.996342312724083</td><td>14621325</td><td>845974</td><td>6</td><td>216.00009013435374</td><td>-10.996529848178398</td></tr>\n",
       "<tr><td>215.9999536479923</td><td>-10.996342312724083</td><td>14621325</td><td>845974</td><td>6</td><td>216.00009013435374</td><td>-10.996529848178398</td></tr>\n",
       "<tr><td>215.99969875649344</td><td>-10.996078627330409</td><td>14621325</td><td>845975</td><td>6</td><td>215.999833596612</td><td>-10.996267025517227</td></tr>\n",
       "<tr><td>215.99969875649344</td><td>-10.996078627330409</td><td>14621325</td><td>845975</td><td>6</td><td>215.999833596612</td><td>-10.996267025517227</td></tr>\n",
       "<tr><td>215.99969875649344</td><td>-10.996078627330409</td><td>14621325</td><td>845975</td><td>6</td><td>215.999833596612</td><td>-10.996267025517227</td></tr>\n",
       "<tr><td>215.99969875649344</td><td>-10.996078627330409</td><td>14621325</td><td>845975</td><td>6</td><td>215.999833596612</td><td>-10.996267025517227</td></tr>\n",
       "<tr><td>215.99969875649344</td><td>-10.996078627330409</td><td>14621325</td><td>845975</td><td>6</td><td>215.999833596612</td><td>-10.996267025517227</td></tr>\n",
       "<tr><td>215.99969875649344</td><td>-10.996078627330409</td><td>14621325</td><td>845975</td><td>6</td><td>215.999833596612</td><td>-10.996267025517227</td></tr>\n",
       "<tr><td>215.99969875649344</td><td>-10.996078627330409</td><td>14621325</td><td>845975</td><td>6</td><td>215.999833596612</td><td>-10.996267025517227</td></tr>\n",
       "</table></div>"
      ],
      "text/plain": [
       "<Table length=645>\n",
       "       ra_1               dec_1        ...        dec_2       \n",
       "       deg                 deg         ...         deg        \n",
       "     float64             float64       ...       float64      \n",
       "------------------ ------------------- ... -------------------\n",
       " 216.0262513802975 -11.023316132846931 ... -11.023502971918788\n",
       " 216.0262513802975 -11.023316132846931 ... -11.023502971918788\n",
       " 216.0262513802975 -11.023316132846931 ... -11.023502971918788\n",
       " 216.0262513802975 -11.023316132846931 ... -11.023502971918788\n",
       " 216.0262513802975 -11.023316132846931 ... -11.023502971918788\n",
       " 216.0262513802975 -11.023316132846931 ... -11.023502971918788\n",
       "216.02599674227972 -11.023055741795972 ... -11.023241680213687\n",
       "216.02599674227972 -11.023055741795972 ... -11.023241680213687\n",
       "216.02599674227972 -11.023055741795972 ... -11.023241680213687\n",
       "               ...                 ... ...                 ...\n",
       " 215.9999536479923 -10.996342312724083 ... -10.996529848178398\n",
       " 215.9999536479923 -10.996342312724083 ... -10.996529848178398\n",
       " 215.9999536479923 -10.996342312724083 ... -10.996529848178398\n",
       "215.99969875649344 -10.996078627330409 ... -10.996267025517227\n",
       "215.99969875649344 -10.996078627330409 ... -10.996267025517227\n",
       "215.99969875649344 -10.996078627330409 ... -10.996267025517227\n",
       "215.99969875649344 -10.996078627330409 ... -10.996267025517227\n",
       "215.99969875649344 -10.996078627330409 ... -10.996267025517227\n",
       "215.99969875649344 -10.996078627330409 ... -10.996267025517227\n",
       "215.99969875649344 -10.996078627330409 ... -10.996267025517227"
      ]
     },
     "execution_count": 173,
     "metadata": {},
     "output_type": "execute_result"
    }
   ],
   "source": [
    "g"
   ]
  },
  {
   "cell_type": "code",
   "execution_count": 128,
   "id": "ebd9b85c",
   "metadata": {},
   "outputs": [
    {
     "data": {
      "text/plain": [
       "({13039521: {},\n",
       "  10564514: {},\n",
       "  14621325: {6: 85},\n",
       "  10053463: {},\n",
       "  13776855: {18: 46, 108: 7},\n",
       "  14813564: {111: 1},\n",
       "  10041343: {}},\n",
       " {13039521: {},\n",
       "  10564514: {},\n",
       "  14621325: {},\n",
       "  10053463: {},\n",
       "  13776855: {},\n",
       "  14813564: {},\n",
       "  10041343: {}})"
      ]
     },
     "execution_count": 128,
     "metadata": {},
     "output_type": "execute_result"
    }
   ],
   "source": [
    "recover(fakes, clusters, hough=hough, projection=projection)"
   ]
  },
  {
   "cell_type": "code",
   "execution_count": 114,
   "id": "293334c5",
   "metadata": {},
   "outputs": [
    {
     "name": "stdout",
     "output_type": "stream",
     "text": [
      "CPU times: user 3.54 s, sys: 17 ms, total: 3.56 s\n",
      "Wall time: 3.54 s\n"
     ]
    },
    {
     "data": {
      "text/plain": [
       "{13039521: {},\n",
       " 10564514: {},\n",
       " 14621325: {6: 85},\n",
       " 10053463: {},\n",
       " 13776855: {18: 47, 108: 7},\n",
       " 14813564: {},\n",
       " 10041343: {70: 3}}"
      ]
     },
     "execution_count": 114,
     "metadata": {},
     "output_type": "execute_result"
    }
   ],
   "source": [
    "%%time\n",
    "\n",
    "c_fake = SkyCoord(fakes['RA']*u.deg, fakes['DEC']*u.deg)\n",
    "t1 = astropy.table.Table(data=[c_fake.ra, c_fake.dec, fakes['ORBITID'], fakes['EXPNUM']], names=['ra', 'dec', 'orbit', 'expnum'])\n",
    "\n",
    "t3 = []\n",
    "for i, cluster in enumerate(refined1):\n",
    "    e = cluster.points[:, -1].astype(int)\n",
    "    c_cluster = SkyCoord(cluster.points[:, 0] * u.deg, cluster.points[:, 1] * u.deg)\n",
    "    t2 = astropy.table.Table(data=[[i]*len(e), c_cluster.ra, c_cluster.dec, e], names=['cluster', 'ra', 'dec', 'expnum'])\n",
    "    t3.append(t2)\n",
    "    \n",
    "matches = {orbit : {} for orbit in set(fakes['ORBITID'])}\n",
    "    \n",
    "t3 = astropy.table.vstack(t3)\n",
    "\n",
    "for g in astropy.table.join(t1, t3, keys=['expnum']).group_by([\"orbit\", \"cluster\"]).groups:\n",
    "    sep = SkyCoord(g['ra_1'], g['dec_1']).separation(SkyCoord(g['ra_2'], g['dec_2']))\n",
    "    n_matches = (sep.value < 1/3600).sum()\n",
    "    if n_matches > 0:\n",
    "        matches[g[0]['orbit']][g[0]['cluster']] = n_matches + matches[g[0]['orbit']].get(g[0]['cluster'], 0)\n",
    "        \n",
    "matches\n",
    "\n"
   ]
  },
  {
   "cell_type": "code",
   "execution_count": 115,
   "id": "1697cc37",
   "metadata": {},
   "outputs": [
    {
     "data": {
      "text/plain": [
       "{13039521: {},\n",
       " 10564514: {},\n",
       " 14621325: {6: 85},\n",
       " 10053463: {},\n",
       " 13776855: {18: 47, 108: 7},\n",
       " 14813564: {},\n",
       " 10041343: {70: 3}}"
      ]
     },
     "execution_count": 115,
     "metadata": {},
     "output_type": "execute_result"
    }
   ],
   "source": [
    "matches"
   ]
  },
  {
   "cell_type": "code",
   "execution_count": 112,
   "id": "93560b55",
   "metadata": {},
   "outputs": [],
   "source": []
  },
  {
   "cell_type": "code",
   "execution_count": 113,
   "id": "7986ba9a",
   "metadata": {},
   "outputs": [
    {
     "data": {
      "text/plain": [
       "{13039521: {},\n",
       " 10564514: {},\n",
       " 14621325: {6: 85},\n",
       " 10053463: {},\n",
       " 13776855: {18: 47, 108: 7},\n",
       " 14813564: {},\n",
       " 10041343: {70: 3}}"
      ]
     },
     "execution_count": 113,
     "metadata": {},
     "output_type": "execute_result"
    }
   ],
   "source": [
    "matches"
   ]
  },
  {
   "cell_type": "code",
   "execution_count": 76,
   "id": "95aacfca",
   "metadata": {},
   "outputs": [
    {
     "data": {
      "text/html": [
       "<div><i>Table length=1</i>\n",
       "<table id=\"table140473899204048\" class=\"table-striped table-bordered table-condensed\">\n",
       "<thead><tr><th>ra_1</th><th>dec_1</th><th>expnum</th><th>cluster</th><th>ra_2</th><th>dec_2</th></tr></thead>\n",
       "<thead><tr><th>deg</th><th>deg</th><th></th><th></th><th>deg</th><th>deg</th></tr></thead>\n",
       "<thead><tr><th>float64</th><th>float64</th><th>int64</th><th>int64</th><th>float64</th><th>float64</th></tr></thead>\n",
       "<tr><td>216.27868739584582</td><td>-11.039067138719107</td><td>845872</td><td>0</td><td>216.2201427829152</td><td>-11.019911675277973</td></tr>\n",
       "</table></div>"
      ],
      "text/plain": [
       "<Table length=1>\n",
       "       ra_1               dec_1        ...        ra_2              dec_2       \n",
       "       deg                 deg         ...        deg                deg        \n",
       "     float64             float64       ...      float64            float64      \n",
       "------------------ ------------------- ... ----------------- -------------------\n",
       "216.27868739584582 -11.039067138719107 ... 216.2201427829152 -11.019911675277973"
      ]
     },
     "execution_count": 76,
     "metadata": {},
     "output_type": "execute_result"
    }
   ],
   "source": [
    "astropy.table.join(t1, t3, keys=['expnum']).group_by([\"expnum\", \"cluster\"]).groups[0]"
   ]
  },
  {
   "cell_type": "code",
   "execution_count": 75,
   "id": "84f3cd1e",
   "metadata": {},
   "outputs": [
    {
     "name": "stderr",
     "output_type": "stream",
     "text": [
      "\n",
      "KeyboardInterrupt\n",
      "\n"
     ]
    }
   ],
   "source": [
    "\n",
    "for group in astropy.table.join(t1, t3, keys=['expnum']).group_by([\"expnum\", \"cluster\"]).groups:\n",
    "    sep = SkyCoord(g['ra_1'], g['dec_1']).separation(SkyCoord(g['ra_2'], g['dec_2']))\n",
    "    n_matches += (sep < 1 * u.arcsec).sum()\n",
    "    "
   ]
  },
  {
   "cell_type": "code",
   "execution_count": null,
   "id": "cb866a7c",
   "metadata": {},
   "outputs": [],
   "source": []
  },
  {
   "cell_type": "code",
   "execution_count": 71,
   "id": "a40de7e6",
   "metadata": {},
   "outputs": [
    {
     "name": "stdout",
     "output_type": "stream",
     "text": [
      "10041343 70 3\n"
     ]
    },
    {
     "name": "stderr",
     "output_type": "stream",
     "text": [
      "\n",
      "KeyboardInterrupt\n",
      "\n"
     ]
    }
   ],
   "source": [
    "from salad.analysis.plot import plot_cluster, plot_fake, plot_result\n",
    "from salad.regression import RegressionResult\n",
    "import astropy.units as u\n",
    "from astropy.coordinates import SkyCoord\n",
    "import matplotlib.pyplot as plt\n",
    "import numpy as np\n",
    "\n",
    "cluster = refined1.clusters[0]\n",
    "match_threshold = 10 * u.arcsec\n",
    "\n",
    "for fake in fakes.group_by(\"ORBITID\").groups:\n",
    "    c_fake = SkyCoord(fake['RA']*u.deg, fake['DEC']*u.deg)\n",
    "    t1 = astropy.table.Table(data=[c_fake.ra, c_fake.dec, fake['EXPNUM']], names=['ra', 'dec', 'expnum'])\n",
    "    \n",
    "    for i, cluster in enumerate(refined1):\n",
    "        e = cluster.points[:, -1].astype(int)\n",
    "        c_cluster = SkyCoord(cluster.points[:, 0] * u.deg, cluster.points[:, 1] * u.deg)\n",
    "        t2 = astropy.table.Table(data=[c_cluster.ra, c_cluster.dec, e], names=['ra', 'dec', 'expnum'])\n",
    "        \n",
    "        n_matches = 0\n",
    "        for g in astropy.table.join(t1, t2, keys=['expnum']).group_by(\"expnum\").groups:\n",
    "            sep = SkyCoord(g['ra_1'], g['dec_1']).separation(SkyCoord(g['ra_2'], g['dec_2']))\n",
    "            n_matches += (sep < 1 * u.arcsec).sum()\n",
    "        \n",
    "        if n_matches > 0:\n",
    "            print(fake[0]['ORBITID'], i, n_matches)\n",
    "                \n",
    "        \n",
    "#     for row in fake:\n",
    "#         mask = e == row['EXPNUM']\n",
    "#         if mask.sum() > 0:\n",
    "#             f_p = p[mask]\n",
    "            \n",
    "# #     astropy.table.join(fake, astropy.table.Table(p), keys_left='EXPNUM', keys_right='')"
   ]
  },
  {
   "cell_type": "code",
   "execution_count": 278,
   "id": "94aecc3b",
   "metadata": {
    "scrolled": false
   },
   "outputs": [
    {
     "data": {
      "image/png": "[encoded data removed]",
      "text/plain": [
       "<Figure size 960x720 with 1 Axes>"
      ]
     },
     "metadata": {},
     "output_type": "display_data"
    },
    {
     "data": {
      "image/png": "[encoded data removed]",
      "text/plain": [
       "<Figure size 960x720 with 1 Axes>"
      ]
     },
     "metadata": {},
     "output_type": "display_data"
    },
    {
     "data": {
      "image/png": "[encoded data removed]",
      "text/plain": [
       "<Figure size 960x720 with 1 Axes>"
      ]
     },
     "metadata": {},
     "output_type": "display_data"
    },
    {
     "data": {
      "image/png": "[encoded data removed]",
      "text/plain": [
       "<Figure size 960x720 with 1 Axes>"
      ]
     },
     "metadata": {},
     "output_type": "display_data"
    },
    {
     "data": {
      "text/plain": [
       "{10041343: {},\n",
       " 10053463: {106: {'possible': 16, 'points': 26, 'in_cluster': 1}},\n",
       " 10564514: {},\n",
       " 13039521: {},\n",
       " 13776855: {18: {'possible': 52, 'points': 53, 'in_cluster': 47}},\n",
       " 14621325: {6: {'possible': 104, 'points': 93, 'in_cluster': 93}},\n",
       " 14813564: {111: {'possible': 24, 'points': 31, 'in_cluster': 1}}}"
      ]
     },
     "execution_count": 278,
     "metadata": {},
     "output_type": "execute_result"
    }
   ],
   "source": [
    "\n",
    "\n",
    "detections = {}\n",
    "match_threshold = 10 * u.arcsec\n",
    "\n",
    "for fake in fakes.group_by(\"ORBITID\").groups:\n",
    "    orbit = fake[0]['ORBITID']\n",
    "    detections[orbit] = {}\n",
    "    \n",
    "    c_fake = SkyCoord(fake['RA']*u.deg, fake['DEC']*u.deg)\n",
    "    fakes_lookup = {}\n",
    "\n",
    "    for i, cluster in enumerate(clusters):\n",
    "        for x, y, t in cluster.points:\n",
    "            exposure = match_time_to_exposure(t, catalog)[0]\n",
    "            if exposure not in fakes_lookup:\n",
    "                fakes_lookup[exposure] = c_fake[fake['EXPNUM'] == exposure]\n",
    "\n",
    "    # Q: how many detections made it into the catalog?\n",
    "    for i, cluster in enumerate(clusters):\n",
    "        if 'line' in cluster.extra:\n",
    "            line = cluster.extra['line']\n",
    "            t_fake = fake['mjd_mid'].data[:, None]\n",
    "        elif 'b' in cluster.extra:\n",
    "            alpha = np.array(\n",
    "                [\n",
    "                    (cluster.extra['x'] * hough.dx + hough.min_x), \n",
    "                    (cluster.extra['y'] * hough.dy + hough.min_y)\n",
    "                ]\n",
    "            ) * u.deg\n",
    "            beta = projection.directions.b[cluster.extra['b']][None, :]\n",
    "            line = RegressionResult()\n",
    "            line.beta = beta\n",
    "            line.alpha = alpha\n",
    "            t_fake = (fake['mjd_mid'].data[:, None] - projection.reference_time)\n",
    "        \n",
    "        line_locations = t_fake @ line.beta * u.day + line.alpha\n",
    "        \n",
    "        c_line = SkyCoord(line_locations[:, 0], line_locations[:, 1])\n",
    "        \n",
    "        fakes_in_cluster = 0\n",
    "        cluster_coords = SkyCoord(cluster.points[:, 0] * u.deg, cluster.points[:, 1] * u.deg)\n",
    "        for j, (coord, t) in enumerate(zip(cluster_coords, cluster.points[:, 2])):\n",
    "            exposure = match_time_to_exposure(t, catalog)[0]\n",
    "            fake_coord = fakes_lookup[exposure]\n",
    "            if len(fake_coord) == 0:\n",
    "                continue\n",
    "\n",
    "            if len(fake_coord) > 1:\n",
    "                print(orbit_id, exposure, len(fake_coord))\n",
    "\n",
    "            fake_coord = fake_coord[0]\n",
    "            sep = fake_coord.separation(coord)\n",
    "            if sep < match_threshold:\n",
    "                fakes_in_cluster += 1\n",
    "                \n",
    "        sep_line = c_fake.separation(c_line)\n",
    "        \n",
    "        mask = sep_line < match_threshold\n",
    "        n_possible = mask.sum()\n",
    "        n_points = len(cluster.points)\n",
    "        n_images = len(images.images)\n",
    "        if fakes_in_cluster/n_points > 0.5:\n",
    "            detections[orbit][i] = {\"possible\": n_possible, \"points\": n_points, \"in_cluster\": fakes_in_cluster}\n",
    "            fig = plt.figure(dpi=150)\n",
    "            plot_result(line, t_fake, color='k', alpha=0.5)\n",
    "            plot_cluster(cluster, color=\"C0\", s=2)\n",
    "            plot_fake(orbit, fake, c=mask, s=1, alpha=0.5)\n",
    "            plt.show()\n",
    "            \n",
    "detections"
   ]
  },
  {
   "cell_type": "code",
   "execution_count": 25,
   "id": "27360eef",
   "metadata": {},
   "outputs": [
    {
     "data": {
      "text/plain": [
       "<TableGroups indices=[  0 104 208 229 333 437 541 645]>"
      ]
     },
     "execution_count": 25,
     "metadata": {},
     "output_type": "execute_result"
    }
   ],
   "source": [
    "fakes.group_by(\"ORBITID\").groups"
   ]
  },
  {
   "cell_type": "code",
   "execution_count": 45,
   "id": "93b68ebd",
   "metadata": {},
   "outputs": [
    {
     "name": "stdout",
     "output_type": "stream",
     "text": [
      "     mjd_mid      \n",
      "------------------\n",
      " 58577.21447994315\n",
      " 58577.21619125002\n",
      " 58577.21796780527\n",
      " 58577.21967893464\n",
      " 58577.22139319794\n",
      "  58577.2231091633\n",
      " 58577.22482508671\n",
      "58577.226548581515\n",
      "58577.228255184666\n",
      " 58577.22997172023\n",
      "               ...\n",
      "58577.375687471955\n",
      "58577.377399748984\n",
      "  58577.3791163833\n",
      " 58577.38083130992\n",
      " 58577.38254019859\n",
      " 58577.38427358543\n",
      " 58577.38598368857\n",
      "  58577.3877056053\n",
      "58577.389416230115\n",
      " 58577.39113802837\n",
      " 58577.39285936212\n",
      "Length = 104 rows\n",
      "     mjd_mid      \n",
      "------------------\n",
      " 58577.21447994315\n",
      " 58577.21619125002\n",
      " 58577.21796780527\n",
      " 58577.21967893464\n",
      " 58577.22139319794\n",
      "  58577.2231091633\n",
      " 58577.22482508671\n",
      "58577.226548581515\n",
      "58577.228255184666\n",
      " 58577.22997172023\n",
      "               ...\n",
      "58577.375687471955\n",
      "58577.377399748984\n",
      "  58577.3791163833\n",
      " 58577.38083130992\n",
      " 58577.38254019859\n",
      " 58577.38427358543\n",
      " 58577.38598368857\n",
      "  58577.3877056053\n",
      "58577.389416230115\n",
      " 58577.39113802837\n",
      " 58577.39285936212\n",
      "Length = 104 rows\n",
      "     mjd_mid      \n",
      "------------------\n",
      " 58577.35805620967\n",
      " 58577.35978515923\n",
      " 58577.36150269572\n",
      " 58577.36323413724\n",
      " 58577.36497451091\n",
      " 58577.36668247074\n",
      " 58577.36840798074\n",
      " 58577.37052587865\n",
      " 58577.37223985097\n",
      "58577.373972736634\n",
      "58577.375687471955\n",
      "58577.377399748984\n",
      "  58577.3791163833\n",
      " 58577.38083130992\n",
      " 58577.38254019859\n",
      " 58577.38427358543\n",
      " 58577.38598368857\n",
      "  58577.3877056053\n",
      "58577.389416230115\n",
      " 58577.39113802837\n",
      " 58577.39285936212\n",
      "     mjd_mid      \n",
      "------------------\n",
      " 58577.21447994315\n",
      " 58577.21619125002\n",
      " 58577.21796780527\n",
      " 58577.21967893464\n",
      " 58577.22139319794\n",
      "  58577.2231091633\n",
      " 58577.22482508671\n",
      "58577.226548581515\n",
      "58577.228255184666\n",
      " 58577.22997172023\n",
      "               ...\n",
      "58577.375687471955\n",
      "58577.377399748984\n",
      "  58577.3791163833\n",
      " 58577.38083130992\n",
      " 58577.38254019859\n",
      " 58577.38427358543\n",
      " 58577.38598368857\n",
      "  58577.3877056053\n",
      "58577.389416230115\n",
      " 58577.39113802837\n",
      " 58577.39285936212\n",
      "Length = 104 rows\n",
      "     mjd_mid      \n",
      "------------------\n",
      " 58577.21447994315\n",
      " 58577.21619125002\n",
      " 58577.21796780527\n",
      " 58577.21967893464\n",
      " 58577.22139319794\n",
      "  58577.2231091633\n",
      " 58577.22482508671\n",
      "58577.226548581515\n",
      "58577.228255184666\n",
      " 58577.22997172023\n",
      "               ...\n",
      "58577.375687471955\n",
      "58577.377399748984\n",
      "  58577.3791163833\n",
      " 58577.38083130992\n",
      " 58577.38254019859\n",
      " 58577.38427358543\n",
      " 58577.38598368857\n",
      "  58577.3877056053\n",
      "58577.389416230115\n",
      " 58577.39113802837\n",
      " 58577.39285936212\n",
      "Length = 104 rows\n",
      "     mjd_mid      \n",
      "------------------\n",
      " 58577.21447994315\n",
      " 58577.21619125002\n",
      " 58577.21796780527\n",
      " 58577.21967893464\n",
      " 58577.22139319794\n",
      "  58577.2231091633\n",
      " 58577.22482508671\n",
      "58577.226548581515\n",
      "58577.228255184666\n",
      " 58577.22997172023\n",
      "               ...\n",
      "58577.375687471955\n",
      "58577.377399748984\n",
      "  58577.3791163833\n",
      " 58577.38083130992\n",
      " 58577.38254019859\n",
      " 58577.38427358543\n",
      " 58577.38598368857\n",
      "  58577.3877056053\n",
      "58577.389416230115\n",
      " 58577.39113802837\n",
      " 58577.39285936212\n",
      "Length = 104 rows\n",
      "     mjd_mid      \n",
      "------------------\n",
      " 58577.21447994315\n",
      " 58577.21619125002\n",
      " 58577.21796780527\n",
      " 58577.21967893464\n",
      " 58577.22139319794\n",
      "  58577.2231091633\n",
      " 58577.22482508671\n",
      "58577.226548581515\n",
      "58577.228255184666\n",
      " 58577.22997172023\n",
      "               ...\n",
      "58577.375687471955\n",
      "58577.377399748984\n",
      "  58577.3791163833\n",
      " 58577.38083130992\n",
      " 58577.38254019859\n",
      " 58577.38427358543\n",
      " 58577.38598368857\n",
      "  58577.3877056053\n",
      "58577.389416230115\n",
      " 58577.39113802837\n",
      " 58577.39285936212\n",
      "Length = 104 rows\n"
     ]
    }
   ],
   "source": [
    "for fake in fakes.group_by(\"ORBITID\").groups:\n",
    "    print(fake['mjd_mid'])"
   ]
  },
  {
   "cell_type": "code",
   "execution_count": 59,
   "id": "7579c888",
   "metadata": {},
   "outputs": [
    {
     "data": {
      "text/plain": [
       "(104, 1)"
      ]
     },
     "execution_count": 59,
     "metadata": {},
     "output_type": "execute_result"
    }
   ],
   "source": [
    "(fake['mjd_mid'] - projection.reference_time)[:, None].shape"
   ]
  },
  {
   "cell_type": "code",
   "execution_count": 63,
   "id": "286bba7f",
   "metadata": {},
   "outputs": [
    {
     "data": {
      "text/latex": [
       "$[[0.0001771767,~-0.00012079678],~\n",
       " [-9.2199094 \\times 10^{-5},~6.2860146 \\times 10^{-5}],~\n",
       " [-0.0003718456,~0.0002535195],~\n",
       " \\dots,~\n",
       " [-0.02735944,~0.018653311],~\n",
       " [-0.027630467,~0.018838094],~\n",
       " [-0.027901422,~0.019022827]] \\; \\mathrm{\\frac{{}^{\\circ}}{d}}$"
      ],
      "text/plain": [
       "<Quantity [[ 1.77176704e-04, -1.20796778e-04],\n",
       "           [-9.21990937e-05,  6.28601456e-05],\n",
       "           [-3.71845599e-04,  2.53519504e-04],\n",
       "           [-6.41193456e-04,  4.37157378e-04],\n",
       "           [-9.11034624e-04,  6.21131584e-04],\n",
       "           [-1.18114371e-03,  8.05288454e-04],\n",
       "           [-1.45124620e-03,  9.89440823e-04],\n",
       "           [-1.72254049e-03,  1.17440575e-03],\n",
       "           [-1.99117588e-03,  1.35755787e-03],\n",
       "           [-2.26137472e-03,  1.54177594e-03],\n",
       "           [-2.53029324e-03,  1.72512109e-03],\n",
       "           [-2.80042533e-03,  1.90929365e-03],\n",
       "           [-3.07077648e-03,  2.09361555e-03],\n",
       "           [-3.34091358e-03,  2.27779152e-03],\n",
       "           [-3.61048532e-03,  2.46158204e-03],\n",
       "           [-3.88046002e-03,  2.64564728e-03],\n",
       "           [-4.15015125e-03,  2.82951926e-03],\n",
       "           [-4.41974582e-03,  3.01332534e-03],\n",
       "           [-4.68980936e-03,  3.19745116e-03],\n",
       "           [-4.96020124e-03,  3.38180084e-03],\n",
       "           [-5.23058725e-03,  3.56614651e-03],\n",
       "           [-5.49986699e-03,  3.74973794e-03],\n",
       "           [-5.77125418e-03,  3.93476621e-03],\n",
       "           [-6.03994940e-03,  4.11795912e-03],\n",
       "           [-6.30941540e-03,  4.30167754e-03],\n",
       "           [-6.58003664e-03,  4.48618359e-03],\n",
       "           [-6.84918768e-03,  4.66968728e-03],\n",
       "           [-7.11945085e-03,  4.85394920e-03],\n",
       "           [-7.38929308e-03,  5.03792413e-03],\n",
       "           [-7.66004364e-03,  5.22251835e-03],\n",
       "           [-8.01235977e-03,  5.46272292e-03],\n",
       "           [-8.28148977e-03,  5.64621226e-03],\n",
       "           [-8.55137078e-03,  5.83021362e-03],\n",
       "           [-8.82155559e-03,  6.01442212e-03],\n",
       "           [-9.09317040e-03,  6.19960558e-03],\n",
       "           [-9.36250873e-03,  6.38323696e-03],\n",
       "           [-9.63218875e-03,  6.56710129e-03],\n",
       "           [-9.90284262e-03,  6.75162959e-03],\n",
       "           [-1.01725337e-02,  6.93550147e-03],\n",
       "           [-1.04417531e-02,  7.11905175e-03],\n",
       "           [-1.07103203e-02,  7.30215740e-03],\n",
       "           [-1.09818422e-02,  7.48727747e-03],\n",
       "           [-1.12553174e-02,  7.67372932e-03],\n",
       "           [-1.15261189e-02,  7.85835831e-03],\n",
       "           [-1.17970522e-02,  8.04307711e-03],\n",
       "           [-1.20957640e-02,  8.24673494e-03],\n",
       "           [-1.23668707e-02,  8.43157195e-03],\n",
       "           [-1.26364114e-02,  8.61534132e-03],\n",
       "           [-1.29075130e-02,  8.80017486e-03],\n",
       "           [-1.31779912e-02,  8.98458342e-03],\n",
       "           [-1.34480456e-02,  9.16870299e-03],\n",
       "           [-1.37182767e-02,  9.35294306e-03],\n",
       "           [-1.39869611e-02,  9.53612856e-03],\n",
       "           [-1.42577282e-02,  9.72073405e-03],\n",
       "           [-1.45280259e-02,  9.90501952e-03],\n",
       "           [-1.47973188e-02,  1.00886200e-02],\n",
       "           [-1.50672174e-02,  1.02726333e-02],\n",
       "           [-1.53372585e-02,  1.04567438e-02],\n",
       "           [-1.56065105e-02,  1.06403163e-02],\n",
       "           [-1.58765473e-02,  1.08244239e-02],\n",
       "           [-1.61461256e-02,  1.10082189e-02],\n",
       "           [-1.64188192e-02,  1.11941379e-02],\n",
       "           [-1.66882886e-02,  1.13778586e-02],\n",
       "           [-1.69584209e-02,  1.15620313e-02],\n",
       "           [-1.72281574e-02,  1.17459342e-02],\n",
       "           [-1.74987222e-02,  1.19304017e-02],\n",
       "           [-1.77684596e-02,  1.21143052e-02],\n",
       "           [-1.80385881e-02,  1.22984752e-02],\n",
       "           [-1.83084641e-02,  1.24824732e-02],\n",
       "           [-1.85780098e-02,  1.26662460e-02],\n",
       "           [-1.88485894e-02,  1.28507237e-02],\n",
       "           [-1.91184959e-02,  1.30347424e-02],\n",
       "           [-1.93900367e-02,  1.32198754e-02],\n",
       "           [-1.96592099e-02,  1.34033942e-02],\n",
       "           [-1.99293235e-02,  1.35875541e-02],\n",
       "           [-2.02558916e-02,  1.38102041e-02],\n",
       "           [-2.05273667e-02,  1.39952923e-02],\n",
       "           [-2.08003201e-02,  1.41813883e-02],\n",
       "           [-2.10707048e-02,  1.43657331e-02],\n",
       "           [-2.13421466e-02,  1.45507986e-02],\n",
       "           [-2.16124028e-02,  1.47350558e-02],\n",
       "           [-2.18827580e-02,  1.49193804e-02],\n",
       "           [-2.21533253e-02,  1.51038497e-02],\n",
       "           [-2.24230781e-02,  1.52877636e-02],\n",
       "           [-2.26952310e-02,  1.54733140e-02],\n",
       "           [-2.29655874e-02,  1.56576395e-02],\n",
       "           [-2.32381326e-02,  1.58434572e-02],\n",
       "           [-2.35120838e-02,  1.60302336e-02],\n",
       "           [-2.37809327e-02,  1.62135313e-02],\n",
       "           [-2.40525442e-02,  1.63987125e-02],\n",
       "           [-2.43859213e-02,  1.66260047e-02],\n",
       "           [-2.46557166e-02,  1.68099476e-02],\n",
       "           [-2.49284891e-02,  1.69959204e-02],\n",
       "           [-2.51984046e-02,  1.71799452e-02],\n",
       "           [-2.54679331e-02,  1.73637063e-02],\n",
       "           [-2.57381475e-02,  1.75479350e-02],\n",
       "           [-2.60080931e-02,  1.77319803e-02],\n",
       "           [-2.62770882e-02,  1.79153777e-02],\n",
       "           [-2.65499396e-02,  1.81014043e-02],\n",
       "           [-2.68191259e-02,  1.82849320e-02],\n",
       "           [-2.70901718e-02,  1.84697276e-02],\n",
       "           [-2.73594402e-02,  1.86533113e-02],\n",
       "           [-2.76304675e-02,  1.88380942e-02],\n",
       "           [-2.79014216e-02,  1.90228272e-02]] deg / d>"
      ]
     },
     "execution_count": 63,
     "metadata": {},
     "output_type": "execute_result"
    }
   ],
   "source": [
    "(fake['mjd_mid'] - projection.reference_time)[:, None] @ projection.directions.b[179, None]"
   ]
  },
  {
   "cell_type": "code",
   "execution_count": null,
   "id": "9160fb00",
   "metadata": {},
   "outputs": [],
   "source": []
  },
  {
   "cell_type": "code",
   "execution_count": 81,
   "id": "ab0a4b01",
   "metadata": {},
   "outputs": [],
   "source": [
    "from salad.project import project\n",
    "import numpy as np"
   ]
  },
  {
   "cell_type": "code",
   "execution_count": 74,
   "id": "fdf3dc9a",
   "metadata": {},
   "outputs": [],
   "source": [
    "t = fake[['RA', 'DEC', 'mjd_mid']]"
   ]
  },
  {
   "cell_type": "code",
   "execution_count": 83,
   "id": "4e36e0b9",
   "metadata": {},
   "outputs": [
    {
     "name": "stdout",
     "output_type": "stream",
     "text": [
      "(104, 3)\n"
     ]
    }
   ],
   "source": [
    "a = np.array([fake['RA'], fake['DEC'], fake['mjd_mid']]).T\n",
    "print(a.shape)"
   ]
  },
  {
   "cell_type": "code",
   "execution_count": 85,
   "id": "2baeb86a",
   "metadata": {},
   "outputs": [],
   "source": [
    "p = project(a, projection.directions, projection.reference_time)"
   ]
  },
  {
   "cell_type": "code",
   "execution_count": 86,
   "id": "1e3f29c6",
   "metadata": {},
   "outputs": [
    {
     "data": {
      "text/plain": [
       "array([[[-143.78514106,  -11.00315489],\n",
       "        [-143.78459207,  -11.00320916],\n",
       "        [-143.78402218,  -11.0032655 ],\n",
       "        ...,\n",
       "        [-143.72903594,  -11.00864067],\n",
       "        [-143.72848278,  -11.00869408],\n",
       "        [-143.72792973,  -11.00874748]],\n",
       "\n",
       "       [[-143.78512353,  -11.00315489],\n",
       "        [-143.78460119,  -11.00320916],\n",
       "        [-143.78405896,  -11.0032655 ],\n",
       "        ...,\n",
       "        [-143.73174257,  -11.00864067],\n",
       "        [-143.73121622,  -11.00869408],\n",
       "        [-143.73068998,  -11.00874748]],\n",
       "\n",
       "       [[-143.785106  ,  -11.00315489],\n",
       "        [-143.78461031,  -11.00320916],\n",
       "        [-143.78409575,  -11.0032655 ],\n",
       "        ...,\n",
       "        [-143.7344492 ,  -11.00864067],\n",
       "        [-143.73394967,  -11.00869408],\n",
       "        [-143.73345023,  -11.00874748]],\n",
       "\n",
       "       ...,\n",
       "\n",
       "       [[-143.78486061,  -11.00271669],\n",
       "        [-143.78473801,  -11.00343719],\n",
       "        [-143.78461076,  -11.00418515],\n",
       "        ...,\n",
       "        [-143.77234206,  -11.07630648],\n",
       "        [-143.77221789,  -11.0770302 ],\n",
       "        [-143.77209373,  -11.07775373]],\n",
       "\n",
       "       [[-143.78489567,  -11.00269916],\n",
       "        [-143.78471977,  -11.00344631],\n",
       "        [-143.78453718,  -11.00422194],\n",
       "        ...,\n",
       "        [-143.76692879,  -11.07901311],\n",
       "        [-143.766751  ,  -11.07976365],\n",
       "        [-143.76657323,  -11.08051398]],\n",
       "\n",
       "       [[-143.78487814,  -11.00269916],\n",
       "        [-143.78472889,  -11.00344631],\n",
       "        [-143.78457397,  -11.00422194],\n",
       "        ...,\n",
       "        [-143.76963542,  -11.07901311],\n",
       "        [-143.76948445,  -11.07976365],\n",
       "        [-143.76933348,  -11.08051398]]])"
      ]
     },
     "execution_count": 86,
     "metadata": {},
     "output_type": "execute_result"
    }
   ],
   "source": [
    "p.projected"
   ]
  },
  {
   "cell_type": "code",
   "execution_count": 93,
   "id": "3e4f6c6d",
   "metadata": {},
   "outputs": [
    {
     "data": {
      "text/plain": [
       "(<Quantity [[-0.15860417,  0.09633103]] deg / d>,\n",
       " <Quantity [ 9506.81089549, -5653.82340943] deg>)"
      ]
     },
     "execution_count": 93,
     "metadata": {},
     "output_type": "execute_result"
    }
   ],
   "source": [
    "refined1.clusters[0].extra['line'].beta, refined1.clusters[0].extra['line'].alpha"
   ]
  },
  {
   "cell_type": "code",
   "execution_count": 132,
   "id": "8ee6edcf",
   "metadata": {},
   "outputs": [],
   "source": []
  },
  {
   "cell_type": "code",
   "execution_count": 142,
   "id": "4b24068d",
   "metadata": {
    "scrolled": false
   },
   "outputs": [
    {
     "data": {
      "image/png": "[encoded data removed]",
      "text/plain": [
       "<Figure size 640x480 with 1 Axes>"
      ]
     },
     "metadata": {},
     "output_type": "display_data"
    },
    {
     "data": {
      "image/png": "[encoded data removed]",
      "text/plain": [
       "<Figure size 640x480 with 1 Axes>"
      ]
     },
     "metadata": {},
     "output_type": "display_data"
    },
    {
     "data": {
      "text/plain": [
       "{10041343: [],\n",
       " 10053463: [],\n",
       " 10564514: [],\n",
       " 13039521: [],\n",
       " 13776855: [(18, 104, 47)],\n",
       " 14621325: [(6, 104, 85)],\n",
       " 14813564: []}"
      ]
     },
     "execution_count": 142,
     "metadata": {},
     "output_type": "execute_result"
    }
   ],
   "source": [
    "from salad.analysis.plot import plot_cluster, plot_fake\n",
    "import astropy.units as u\n",
    "from astropy.coordinates import SkyCoord\n",
    "import matplotlib.pyplot as plt\n",
    "\n",
    "detections = {}\n",
    "for fake in fakes.group_by(\"ORBITID\").groups:\n",
    "    orbit = fake[0]['ORBITID']\n",
    "    detections[orbit] = []\n",
    "    # Q: how many detections made it into the catalog?\n",
    "    for i, cluster in enumerate(refined1):\n",
    "        line = cluster.extra['line']\n",
    "\n",
    "        locations = fake['mjd_mid'].data[:, None] @ line.beta * u.day + line.alpha\n",
    "        c_fake = SkyCoord(fake['RA']*u.deg, fake['DEC']*u.deg)\n",
    "        c_line = SkyCoord(locations[:, 0], locations[:, 1])\n",
    "\n",
    "        mask = c_fake.separation(c_line) < 1 * u.arcsec\n",
    "        n_detected = mask.sum()\n",
    "        n_points = len(cluster.points)\n",
    "        n_images = len(images.images)\n",
    "        if n_detected/n_images > 0.5:\n",
    "            detections[orbit].append((i, n_detected, n_points))\n",
    "            plot_cluster(cluster, color=\"C0\", s=2)\n",
    "            plot_fake(orbit, fake, c=mask, s=1, alpha=0.5)\n",
    "            plt.show()\n",
    "            \n",
    "detections"
   ]
  },
  {
   "cell_type": "code",
   "execution_count": 125,
   "id": "e0cb444b",
   "metadata": {},
   "outputs": [
    {
     "data": {
      "text/plain": [
       "{10041343: [(58, 10)],\n",
       " 10053463: [(87, 18)],\n",
       " 10564514: [],\n",
       " 13039521: [],\n",
       " 13776855: [(15, 104), (89, 20)],\n",
       " 14621325: [(6, 104)],\n",
       " 14813564: []}"
      ]
     },
     "execution_count": 125,
     "metadata": {},
     "output_type": "execute_result"
    }
   ],
   "source": [
    "detections = {}\n",
    "for fake in fakes.group_by(\"ORBITID\").groups:\n",
    "    orbit = fake[0]['ORBITID']\n",
    "    detections[orbit] = []\n",
    "    for i, cluster in enumerate(refined2):\n",
    "        line = cluster.extra['line']\n",
    "\n",
    "        locations = fake['mjd_mid'].data[:, None] @ line.beta * u.day + line.alpha\n",
    "        c_fake = SkyCoord(fake['RA']*u.deg, fake['DEC']*u.deg)\n",
    "        c_line = SkyCoord(locations[:, 0], locations[:, 1])\n",
    "\n",
    "        mask = c_fake.separation(c_line) < 10 * u.arcsec\n",
    "        n_detected = mask.sum()\n",
    "        if n_detected > 0:\n",
    "            detections[orbit].append((i, n_detected))\n",
    "            \n",
    "detections"
   ]
  },
  {
   "cell_type": "code",
   "execution_count": 95,
   "id": "c39f6e39",
   "metadata": {},
   "outputs": [
    {
     "ename": "ValueError",
     "evalue": "matmul: Input operand 1 has a mismatch in its core dimension 0, with gufunc signature (n?,k),(k,m?)->(n?,m?) (size 1 is different from 104)",
     "output_type": "error",
     "traceback": [
      "\u001b[0;31m---------------------------------------------------------------------------\u001b[0m",
      "\u001b[0;31mValueError\u001b[0m                                Traceback (most recent call last)",
      "Cell \u001b[0;32mIn[95], line 1\u001b[0m\n\u001b[0;32m----> 1\u001b[0m \u001b[43mfake\u001b[49m\u001b[43m[\u001b[49m\u001b[38;5;124;43m'\u001b[39;49m\u001b[38;5;124;43mmjd_mid\u001b[39;49m\u001b[38;5;124;43m'\u001b[39;49m\u001b[43m]\u001b[49m\u001b[43m \u001b[49m\u001b[38;5;241;43m@\u001b[39;49m\u001b[43m \u001b[49m\u001b[43mrefined1\u001b[49m\u001b[38;5;241;43m.\u001b[39;49m\u001b[43mclusters\u001b[49m\u001b[43m[\u001b[49m\u001b[38;5;241;43m0\u001b[39;49m\u001b[43m]\u001b[49m\u001b[38;5;241;43m.\u001b[39;49m\u001b[43mextra\u001b[49m\u001b[43m[\u001b[49m\u001b[38;5;124;43m'\u001b[39;49m\u001b[38;5;124;43mline\u001b[39;49m\u001b[38;5;124;43m'\u001b[39;49m\u001b[43m]\u001b[49m\u001b[38;5;241;43m.\u001b[39;49m\u001b[43mbeta\u001b[49m\u001b[43m[\u001b[49m\u001b[43m:\u001b[49m\u001b[43m,\u001b[49m\u001b[43m \u001b[49m\u001b[38;5;28;43;01mNone\u001b[39;49;00m\u001b[43m]\u001b[49m\n",
      "File \u001b[0;32m/nvme/users/stevengs/opt_lsst/conda/envs/lsst-scipipe-8.0.0/lib/python3.11/site-packages/astropy/units/quantity.py:691\u001b[0m, in \u001b[0;36mQuantity.__array_ufunc__\u001b[0;34m(self, function, method, *inputs, **kwargs)\u001b[0m\n\u001b[1;32m    689\u001b[0m     \u001b[38;5;28;01mreturn\u001b[39;00m \u001b[38;5;28mNotImplemented\u001b[39m\n\u001b[1;32m    690\u001b[0m \u001b[38;5;28;01melse\u001b[39;00m:\n\u001b[0;32m--> 691\u001b[0m     \u001b[38;5;28;01mraise\u001b[39;00m e\n",
      "File \u001b[0;32m/nvme/users/stevengs/opt_lsst/conda/envs/lsst-scipipe-8.0.0/lib/python3.11/site-packages/astropy/units/quantity.py:666\u001b[0m, in \u001b[0;36mQuantity.__array_ufunc__\u001b[0;34m(self, function, method, *inputs, **kwargs)\u001b[0m\n\u001b[1;32m    663\u001b[0m     arrays\u001b[38;5;241m.\u001b[39mappend(converter(input_) \u001b[38;5;28;01mif\u001b[39;00m converter \u001b[38;5;28;01melse\u001b[39;00m input_)\n\u001b[1;32m    665\u001b[0m \u001b[38;5;66;03m# Call our superclass's __array_ufunc__\u001b[39;00m\n\u001b[0;32m--> 666\u001b[0m result \u001b[38;5;241m=\u001b[39m \u001b[38;5;28;43msuper\u001b[39;49m\u001b[43m(\u001b[49m\u001b[43m)\u001b[49m\u001b[38;5;241;43m.\u001b[39;49m\u001b[43m__array_ufunc__\u001b[49m\u001b[43m(\u001b[49m\u001b[43mfunction\u001b[49m\u001b[43m,\u001b[49m\u001b[43m \u001b[49m\u001b[43mmethod\u001b[49m\u001b[43m,\u001b[49m\u001b[43m \u001b[49m\u001b[38;5;241;43m*\u001b[39;49m\u001b[43marrays\u001b[49m\u001b[43m,\u001b[49m\u001b[43m \u001b[49m\u001b[38;5;241;43m*\u001b[39;49m\u001b[38;5;241;43m*\u001b[39;49m\u001b[43mkwargs\u001b[49m\u001b[43m)\u001b[49m\n\u001b[1;32m    667\u001b[0m \u001b[38;5;66;03m# If unit is None, a plain array is expected (e.g., comparisons), which\u001b[39;00m\n\u001b[1;32m    668\u001b[0m \u001b[38;5;66;03m# means we're done.\u001b[39;00m\n\u001b[1;32m    669\u001b[0m \u001b[38;5;66;03m# We're also done if the result was None (for method 'at') or\u001b[39;00m\n\u001b[1;32m    670\u001b[0m \u001b[38;5;66;03m# NotImplemented, which can happen if other inputs/outputs override\u001b[39;00m\n\u001b[1;32m    671\u001b[0m \u001b[38;5;66;03m# __array_ufunc__; hopefully, they can then deal with us.\u001b[39;00m\n\u001b[1;32m    672\u001b[0m \u001b[38;5;28;01mif\u001b[39;00m unit \u001b[38;5;129;01mis\u001b[39;00m \u001b[38;5;28;01mNone\u001b[39;00m \u001b[38;5;129;01mor\u001b[39;00m result \u001b[38;5;129;01mis\u001b[39;00m \u001b[38;5;28;01mNone\u001b[39;00m \u001b[38;5;129;01mor\u001b[39;00m result \u001b[38;5;129;01mis\u001b[39;00m \u001b[38;5;28mNotImplemented\u001b[39m:\n",
      "\u001b[0;31mValueError\u001b[0m: matmul: Input operand 1 has a mismatch in its core dimension 0, with gufunc signature (n?,k),(k,m?)->(n?,m?) (size 1 is different from 104)"
     ]
    }
   ],
   "source": [
    "fake['mjd_mid'] @ refined1.clusters[0].extra['line'].beta[:, None]"
   ]
  },
  {
   "cell_type": "code",
   "execution_count": 88,
   "id": "576bb78e",
   "metadata": {},
   "outputs": [
    {
     "name": "stdout",
     "output_type": "stream",
     "text": [
      "58577.34162331978\n",
      "58577.33991330024\n",
      "58577.28995492682\n",
      "58577.33818823891\n",
      "58577.314166565426\n",
      "58577.239668010734\n",
      "58577.345413955394\n",
      "58577.350590350106\n",
      "58577.2744987444\n",
      "58577.376813050825\n",
      "58577.324465583544\n",
      "58577.33132773498\n",
      "58577.29167612828\n",
      "58577.27620981308\n",
      "58577.38024196215\n",
      "58577.25167098874\n",
      "58577.22767416015\n",
      "58577.34887263365\n",
      "58577.36953355977\n",
      "58577.28823456215\n",
      "58577.28306610184\n",
      "58577.385399164166\n",
      "58577.34333931329\n",
      "58577.305588313844\n",
      "58577.35403168155\n",
      "58577.31930518523\n",
      "58577.25853315601\n",
      "58577.35918178875\n",
      "58577.295296105556\n",
      "58577.390541809145\n",
      "58577.31759259151\n",
      "58577.24652480567\n",
      "58577.33475460578\n",
      "58577.36091073789\n",
      "58577.29700846039\n",
      "58577.32103756955\n",
      "58577.37165145762\n",
      "58577.22595066577\n",
      "58577.26539428998\n",
      "58577.21560552204\n",
      "58577.28477227222\n",
      "58577.373365429696\n",
      "58577.37852532789\n",
      "58577.31245103199\n",
      "58577.30216465937\n",
      "58577.24824256776\n",
      "58577.33304221975\n",
      "58577.36435971595\n",
      "58577.27105676662\n",
      "58577.388831184246\n",
      "58577.357468087226\n",
      "58577.34713859856\n",
      "58577.32789804274\n",
      "58577.32961164648\n",
      "58577.277923052665\n",
      "58577.23280570097\n",
      "58577.35231478186\n",
      "58577.387109267525\n",
      "58577.309025622904\n",
      "58577.2293807636\n",
      "58577.22080451343\n",
      "58577.234521812294\n",
      "58577.298730730545\n",
      "58577.35574921034\n",
      "58577.236239315476\n",
      "58577.22423474211\n",
      "58577.366100089625\n",
      "58577.300449041184\n",
      "58577.307308459654\n",
      "58577.315877085086\n",
      "58577.22251877701\n",
      "58577.27277321322\n",
      "58577.367808049545\n",
      "58577.39226360712\n",
      "58577.21909338422\n",
      "58577.24138312228\n",
      "58577.24480912974\n",
      "58577.25339507358\n",
      "58577.38366577728\n",
      "58577.267632504925\n",
      "58577.25510205701\n",
      "58577.33647356043\n",
      "58577.393984940834\n",
      "58577.2935738028\n",
      "58577.243096433114\n",
      "58577.3626282746\n",
      "58577.23795545893\n",
      "58577.37509831553\n",
      "58577.28649721248\n",
      "58577.26934225019\n",
      "58577.27964247903\n",
      "58577.21731682867\n",
      "58577.32617918216\n",
      "58577.25681393687\n",
      "58577.3038813998\n",
      "58577.322749470826\n",
      "58577.26195997931\n",
      "58577.23109729914\n",
      "58577.28135578893\n",
      "58577.38195688883\n",
      "58577.3107364038\n",
      "58577.24996029213\n",
      "58577.26024303492\n",
      "58577.26367424941\n"
     ]
    },
    {
     "data": {
      "text/plain": [
       "DateTime(\"2019-04-04T08:10:55.754802000\", TAI)"
      ]
     },
     "execution_count": 88,
     "metadata": {},
     "output_type": "execute_result"
    }
   ],
   "source": [
    "import astropy.time\n",
    "\n",
    "times = []\n",
    "for image in images:\n",
    "    exposure_info = image.reader.readExposureInfo()\n",
    "    visit_info = exposure_info.getVisitInfo()\n",
    "    exposure_date = visit_info.getDate()\n",
    "    exposure_time = visit_info.getExposureTime()\n",
    "    half = (exposure_time / 2 + 1/2) / (24*60*60)\n",
    "    mjd = astropy.time.Time(exposure_date.get(exposure_date.JD) + half, format='jd', scale='utc').mjd\n",
    "    print(mjd)\n"
   ]
  },
  {
   "cell_type": "code",
   "execution_count": 29,
   "id": "7e262889",
   "metadata": {},
   "outputs": [
    {
     "data": {
      "text/latex": [
       "$[[-0.15846679,~0.096328551]] \\; \\mathrm{\\frac{{}^{\\circ}}{d}}$"
      ],
      "text/plain": [
       "<Quantity [[-0.15846679,  0.09632855]] deg / d>"
      ]
     },
     "execution_count": 29,
     "metadata": {},
     "output_type": "execute_result"
    }
   ],
   "source": [
    "refined2.clusters[0].extra['line']"
   ]
  },
  {
   "cell_type": "code",
   "execution_count": 48,
   "id": "62db30c0",
   "metadata": {},
   "outputs": [
    {
     "data": {
      "text/latex": [
       "$[-0.15740941,~0.10731969] \\; \\mathrm{\\frac{{}^{\\circ}}{d}}$"
      ],
      "text/plain": [
       "<Quantity [-0.15740941,  0.10731969] deg / d>"
      ]
     },
     "execution_count": 48,
     "metadata": {},
     "output_type": "execute_result"
    }
   ],
   "source": [
    "projection.directions.b[179]"
   ]
  },
  {
   "cell_type": "code",
   "execution_count": 50,
   "id": "5f15ee58",
   "metadata": {},
   "outputs": [
    {
     "data": {
      "text/plain": [
       "58577.21560552204"
      ]
     },
     "execution_count": 50,
     "metadata": {},
     "output_type": "execute_result"
    }
   ],
   "source": []
  },
  {
   "cell_type": "code",
   "execution_count": 9,
   "id": "9c53e3fd",
   "metadata": {},
   "outputs": [
    {
     "data": {
      "text/plain": [
       "{'votes': 109, 'b': 179, 'y': 64, 'x': 83}"
      ]
     },
     "execution_count": 9,
     "metadata": {},
     "output_type": "execute_result"
    }
   ],
   "source": [
    "clusters.clusters[0].extra"
   ]
  },
  {
   "cell_type": "code",
   "execution_count": null,
   "id": "d61217a0",
   "metadata": {},
   "outputs": [],
   "source": []
  }
 ],
 "metadata": {
  "kernelspec": {
   "display_name": "SALAD",
   "language": "python",
   "name": "salad"
  },
  "language_info": {
   "codemirror_mode": {
    "name": "ipython",
    "version": 3
   },
   "file_extension": ".py",
   "mimetype": "text/x-python",
   "name": "python",
   "nbconvert_exporter": "python",
   "pygments_lexer": "ipython3",
   "version": "3.11.7"
  }
 },
 "nbformat": 4,
 "nbformat_minor": 5
}
