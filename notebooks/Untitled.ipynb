{
 "cells": [
  {
   "cell_type": "code",
   "execution_count": 9,
   "id": "2a1a6c04",
   "metadata": {},
   "outputs": [],
   "source": [
    "from salad.serialize import read, write\n",
    "from salad.analysis.plot import plot_cluster, plot_result, plot_fake, plot_catalog\n",
    "import astropy.table\n",
    "import os\n",
    "import matplotlib.pyplot as plt"
   ]
  },
  {
   "cell_type": "code",
   "execution_count": 2,
   "id": "4f40a211",
   "metadata": {},
   "outputs": [],
   "source": [
    "def load_recovery(pg, detector, snr):\n",
    "    search_path = f\"../search/tmp/DEEP/{pg}/detector_{detector}/snr_{snr}\"\n",
    "    \n",
    "    catalog = read(os.path.join(search_path, \"catalog.pkl\"))\n",
    "    recovery = read(os.path.join(search_path, \"recovery.pkl\"))\n",
    "    catalog_findable = read(os.path.join(search_path, \"catalog_detectable.pkl\"))\n",
    "    search_findable = read(os.path.join(search_path, \"search_detectable.pkl\"))\n",
    "    detector_fakes = read(os.path.join(search_path, \"..\", \"fakes.pkl\"))\n",
    "    clusters = read(os.path.join(search_path, \"gather_2.pkl\"))\n",
    "    \n",
    "    return catalog, detector_fakes, recovery, catalog_findable, search_findable, clusters"
   ]
  },
  {
   "cell_type": "code",
   "execution_count": 5,
   "id": "1788749f",
   "metadata": {},
   "outputs": [],
   "source": [
    "def completeness(pointing_group, snr):\n",
    "    c = []\n",
    "    for detector in [i for i in range(1, 63)]:\n",
    "        try:\n",
    "            detector_catalog, detector_fakes, recovery, catalog_findable, search_findable, clusters = load_recovery(\n",
    "                pointing_group, detector, snr\n",
    "            )\n",
    "        except (FileNotFoundError, EOFError) as e:\n",
    "            print(e)\n",
    "            continue\n",
    "            \n",
    "        did_find = {\n",
    "            orbit: any([v/catalog_findable[orbit] > 0.6 for k, v in recovery[orbit].items()]) for orbit in recovery\n",
    "        }\n",
    "        for orbit in did_find:\n",
    "            c.append(\n",
    "                dict(\n",
    "                    orbit=orbit,\n",
    "                    detector=detector,\n",
    "                    mag=detector_fakes[detector_fakes['ORBITID'] == orbit][0]['MAG'],\n",
    "                    found=did_find[orbit],\n",
    "                    catalog_possible=catalog_findable[orbit] > 25,\n",
    "                    search_possible=search_findable[orbit]['findable'],\n",
    "                    n_detection=catalog_findable[orbit],\n",
    "                )\n",
    "            )\n",
    "\n",
    "    c = astropy.table.Table(c)\n",
    "    return c\n"
   ]
  },
  {
   "cell_type": "code",
   "execution_count": 6,
   "id": "ecc22cce",
   "metadata": {},
   "outputs": [
    {
     "name": "stdout",
     "output_type": "stream",
     "text": [
      "Ran out of input\n",
      "[Errno 2] No such file or directory: '../search/tmp/DEEP/20190403/A0c/detector_21/snr_5/recovery.pkl'\n",
      "Ran out of input\n",
      "[Errno 2] No such file or directory: '../search/tmp/DEEP/20190403/A0c/detector_30/snr_5/recovery.pkl'\n",
      "Ran out of input\n",
      "Ran out of input\n",
      "Ran out of input\n",
      "Ran out of input\n",
      "[Errno 2] No such file or directory: '../search/tmp/DEEP/20190403/A0c/detector_21/snr_4/recovery.pkl'\n",
      "Ran out of input\n",
      "Ran out of input\n",
      "[Errno 2] No such file or directory: '../search/tmp/DEEP/20190403/A0c/detector_51/snr_4/recovery.pkl'\n",
      "Ran out of input\n",
      "Ran out of input\n",
      "Ran out of input\n",
      "[Errno 2] No such file or directory: '../search/tmp/DEEP/20190403/A0c/detector_5/snr_3/recovery.pkl'\n",
      "[Errno 2] No such file or directory: '../search/tmp/DEEP/20190403/A0c/detector_6/snr_3/recovery.pkl'\n",
      "[Errno 2] No such file or directory: '../search/tmp/DEEP/20190403/A0c/detector_10/snr_3/recovery.pkl'\n",
      "[Errno 2] No such file or directory: '../search/tmp/DEEP/20190403/A0c/detector_13/snr_3/recovery.pkl'\n",
      "[Errno 2] No such file or directory: '../search/tmp/DEEP/20190403/A0c/detector_19/snr_3/recovery.pkl'\n",
      "Ran out of input\n",
      "[Errno 2] No such file or directory: '../search/tmp/DEEP/20190403/A0c/detector_27/snr_3/recovery.pkl'\n",
      "[Errno 2] No such file or directory: '../search/tmp/DEEP/20190403/A0c/detector_30/snr_3/recovery.pkl'\n",
      "Ran out of input\n",
      "[Errno 2] No such file or directory: '../search/tmp/DEEP/20190403/A0c/detector_43/snr_3/recovery.pkl'\n",
      "[Errno 2] No such file or directory: '../search/tmp/DEEP/20190403/A0c/detector_45/snr_3/recovery.pkl'\n",
      "[Errno 2] No such file or directory: '../search/tmp/DEEP/20190403/A0c/detector_46/snr_3/recovery.pkl'\n",
      "Ran out of input\n",
      "Ran out of input\n"
     ]
    }
   ],
   "source": [
    "d = []\n",
    "\n",
    "for snr in [5, 4, 3]:\n",
    "    c = completeness(\"20190403/A0c\", snr)\n",
    "    c['snr'] = snr\n",
    "    d.append(c)\n",
    "    \n",
    "pg_c = astropy.table.vstack(d)"
   ]
  },
  {
   "cell_type": "code",
   "execution_count": 13,
   "id": "ae059fdf",
   "metadata": {},
   "outputs": [
    {
     "data": {
      "text/plain": [
       "104"
      ]
     },
     "execution_count": 13,
     "metadata": {},
     "output_type": "execute_result"
    }
   ],
   "source": [
    "load_recovery(\"20190403/A0c\", 1, 3)[0].num_times"
   ]
  },
  {
   "cell_type": "code",
   "execution_count": 15,
   "id": "f3cd1389",
   "metadata": {},
   "outputs": [
    {
     "data": {
      "image/png": "[encoded data removed]",
      "text/plain": [
       "<Figure size 640x480 with 1 Axes>"
      ]
     },
     "metadata": {},
     "output_type": "display_data"
    }
   ],
   "source": [
    "for snr in [5, 4, 3]:\n",
    "    c = pg_c[pg_c['snr'] == snr]\n",
    "    plt.scatter(c['mag'], c['n_detection']/104, s=1)\n",
    "    \n",
    "plt.show()"
   ]
  },
  {
   "cell_type": "code",
   "execution_count": null,
   "id": "5fd8554f",
   "metadata": {},
   "outputs": [],
   "source": []
  }
 ],
 "metadata": {
  "kernelspec": {
   "display_name": "SALAD",
   "language": "python",
   "name": "salad"
  },
  "language_info": {
   "codemirror_mode": {
    "name": "ipython",
    "version": 3
   },
   "file_extension": ".py",
   "mimetype": "text/x-python",
   "name": "python",
   "nbconvert_exporter": "python",
   "pygments_lexer": "ipython3",
   "version": "3.11.7"
  }
 },
 "nbformat": 4,
 "nbformat_minor": 5
}
