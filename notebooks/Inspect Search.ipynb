{
 "cells": [
  {
   "cell_type": "code",
   "execution_count": 3,
   "id": "23e7f935",
   "metadata": {},
   "outputs": [],
   "source": [
    "import pickle\n",
    "with open(\"../results.1.pkl\", \"rb\") as fd:\n",
    "    search = pickle.load(fd)"
   ]
  },
  {
   "cell_type": "code",
   "execution_count": 1,
   "id": "fd294ea3",
   "metadata": {},
   "outputs": [],
   "source": [
    "import pympler"
   ]
  },
  {
   "cell_type": "code",
   "execution_count": 6,
   "id": "91b515d0",
   "metadata": {},
   "outputs": [
    {
     "data": {
      "text/plain": [
       "1304151800"
      ]
     },
     "execution_count": 6,
     "metadata": {},
     "output_type": "execute_result"
    }
   ],
   "source": [
    "from pympler import asizeof\n",
    "asizeof.asizeof(search)"
   ]
  },
  {
   "cell_type": "code",
   "execution_count": 13,
   "id": "0c38d34d",
   "metadata": {},
   "outputs": [
    {
     "data": {
      "text/plain": [
       "401.58663177490234"
      ]
     },
     "execution_count": 13,
     "metadata": {},
     "output_type": "execute_result"
    }
   ],
   "source": [
    "asizeof.asizeof(search.hough.) / 2**20"
   ]
  },
  {
   "cell_type": "code",
   "execution_count": 6,
   "id": "e6009fa0",
   "metadata": {},
   "outputs": [
    {
     "data": {
      "text/plain": [
       "<salad.search.SearchResult at 0x7ff1cc11fc90>"
      ]
     },
     "execution_count": 6,
     "metadata": {},
     "output_type": "execute_result"
    }
   ],
   "source": [
    "search.results[0]"
   ]
  },
  {
   "cell_type": "code",
   "execution_count": 10,
   "id": "d910e225",
   "metadata": {},
   "outputs": [
    {
     "data": {
      "text/plain": [
       "56"
      ]
     },
     "execution_count": 10,
     "metadata": {},
     "output_type": "execute_result"
    }
   ],
   "source": [
    "import sys\n",
    "sys.getsizeof(search.hough)"
   ]
  },
  {
   "cell_type": "code",
   "execution_count": 13,
   "id": "2f43a894",
   "metadata": {},
   "outputs": [],
   "source": [
    "import sys\n",
    "from numbers import Number\n",
    "from collections import deque\n",
    "from collections.abc import Set, Mapping\n",
    "\n",
    "\n",
    "ZERO_DEPTH_BASES = (str, bytes, Number, range, bytearray)\n",
    "\n",
    "\n",
    "def getsize(obj_0):\n",
    "    \"\"\"Recursively iterate to sum size of object & members.\"\"\"\n",
    "    _seen_ids = set()\n",
    "    def inner(obj):\n",
    "        obj_id = id(obj)\n",
    "        if obj_id in _seen_ids:\n",
    "            return 0\n",
    "        _seen_ids.add(obj_id)\n",
    "        size = sys.getsizeof(obj)\n",
    "        if isinstance(obj, ZERO_DEPTH_BASES):\n",
    "            pass # bypass remaining control flow and return\n",
    "        elif isinstance(obj, (tuple, list, Set, deque)):\n",
    "            size += sum(inner(i) for i in obj)\n",
    "        elif isinstance(obj, Mapping) or hasattr(obj, 'items'):\n",
    "            size += sum(inner(k) + inner(v) for k, v in getattr(obj, 'items')())\n",
    "        # Check for custom object instances - may subclass above too\n",
    "        if hasattr(obj, '__dict__'):\n",
    "            size += inner(vars(obj))\n",
    "        if hasattr(obj, '__slots__'): # can have __slots__ with __dict__\n",
    "            size += sum(inner(getattr(obj, s)) for s in obj.__slots__ if hasattr(obj, s))\n",
    "        return size\n",
    "    return inner(obj_0)"
   ]
  },
  {
   "cell_type": "code",
   "execution_count": 15,
   "id": "8f14ddbf",
   "metadata": {},
   "outputs": [
    {
     "data": {
      "text/plain": [
       "144"
      ]
     },
     "execution_count": 15,
     "metadata": {},
     "output_type": "execute_result"
    }
   ],
   "source": [
    "getsize(search.hough.array)"
   ]
  },
  {
   "cell_type": "code",
   "execution_count": 17,
   "id": "791df8c4",
   "metadata": {},
   "outputs": [
    {
     "data": {
      "text/plain": [
       "(507, 110, 54)"
      ]
     },
     "execution_count": 17,
     "metadata": {},
     "output_type": "execute_result"
    }
   ],
   "source": [
    "search.hough.array.shape"
   ]
  },
  {
   "cell_type": "code",
   "execution_count": 18,
   "id": "f106e5d7",
   "metadata": {},
   "outputs": [
    {
     "ename": "ModuleNotFoundError",
     "evalue": "No module named 'pympler'",
     "output_type": "error",
     "traceback": [
      "\u001b[0;31m---------------------------------------------------------------------------\u001b[0m",
      "\u001b[0;31mModuleNotFoundError\u001b[0m                       Traceback (most recent call last)",
      "Cell \u001b[0;32mIn[18], line 1\u001b[0m\n\u001b[0;32m----> 1\u001b[0m \u001b[38;5;28;01mimport\u001b[39;00m \u001b[38;5;21;01mpympler\u001b[39;00m\n",
      "\u001b[0;31mModuleNotFoundError\u001b[0m: No module named 'pympler'"
     ]
    }
   ],
   "source": [
    "import pympler"
   ]
  },
  {
   "cell_type": "code",
   "execution_count": null,
   "id": "75d08d98",
   "metadata": {},
   "outputs": [],
   "source": []
  }
 ],
 "metadata": {
  "kernelspec": {
   "display_name": "SALAD",
   "language": "python",
   "name": "salad"
  },
  "language_info": {
   "codemirror_mode": {
    "name": "ipython",
    "version": 3
   },
   "file_extension": ".py",
   "mimetype": "text/x-python",
   "name": "python",
   "nbconvert_exporter": "python",
   "pygments_lexer": "ipython3",
   "version": "3.11.7"
  }
 },
 "nbformat": 4,
 "nbformat_minor": 5
}
