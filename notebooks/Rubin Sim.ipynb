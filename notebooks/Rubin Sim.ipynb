{
 "cells": [
  {
   "cell_type": "code",
   "execution_count": 2,
   "id": "4ceb67c9",
   "metadata": {},
   "outputs": [],
   "source": [
    "import sqlite3"
   ]
  },
  {
   "cell_type": "code",
   "execution_count": 4,
   "id": "19455aa0",
   "metadata": {},
   "outputs": [],
   "source": [
    "conn = sqlite3.connect(\"baseline_v3.4_10yrs.db\")"
   ]
  },
  {
   "cell_type": "code",
   "execution_count": null,
   "id": "8f6b18cd",
   "metadata": {},
   "outputs": [],
   "source": [
    "conn.execute(\"\")"
   ]
  }
 ],
 "metadata": {
  "kernelspec": {
   "display_name": "SALAD",
   "language": "python",
   "name": "salad"
  },
  "language_info": {
   "codemirror_mode": {
    "name": "ipython",
    "version": 3
   },
   "file_extension": ".py",
   "mimetype": "text/x-python",
   "name": "python",
   "nbconvert_exporter": "python",
   "pygments_lexer": "ipython3",
   "version": "3.11.7"
  }
 },
 "nbformat": 4,
 "nbformat_minor": 5
}
