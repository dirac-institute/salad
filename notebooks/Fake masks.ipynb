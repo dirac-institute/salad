{
 "cells": [
  {
   "cell_type": "code",
   "execution_count": 2,
   "id": "f369084a",
   "metadata": {},
   "outputs": [],
   "source": [
    "from salad.serialize import read"
   ]
  },
  {
   "cell_type": "code",
   "execution_count": 3,
   "id": "273fff55",
   "metadata": {},
   "outputs": [],
   "source": [
    "fakes = read(\"/epyc/projects/salad/search/new2/DEEP/20190403/A0c/detector_1/fakes.pkl\")\n",
    "catalog = read(\"/epyc/projects/salad/search/new2/DEEP/20190403/A0c/detector_1/snr_3.0/regular/catalog.pkl\")\n",
    "catalog_no_masks = read(\"/epyc/projects/salad/search/new2/DEEP/20190403/A0c/detector_1/snr_3.0/regular/catalog_no_masks.pkl\")\n"
   ]
  },
  {
   "cell_type": "code",
   "execution_count": 4,
   "id": "a799bb5b",
   "metadata": {},
   "outputs": [],
   "source": [
    "def recover(catalog, fakes, match_threshold_points=1/3600):\n",
    "    import astropy.table\n",
    "    from astropy.coordinates import SkyCoord\n",
    "    import astropy.units as u\n",
    "    \n",
    "    matches = {orbit : {\"points\": {}, \"line\": {}, \"catalog\": 0, \"info\": {}} for orbit in set(fakes['ORBITID'])}\n",
    "    c_fake = SkyCoord(fakes['RA']*u.deg, fakes['DEC']*u.deg)\n",
    "    t1 = astropy.table.Table(data=[c_fake.ra, c_fake.dec, fakes['ORBITID'], fakes['EXPNUM']], names=['ra', 'dec', 'orbit', 'expnum'])\n",
    "    \n",
    "    x = catalog.X(columns=['ra', 'dec', 'time', 'exposures'])\n",
    "    c_catalog = SkyCoord(x[:, 0]*u.deg, x[:, 1]*u.deg)\n",
    "    t_catalog = astropy.table.Table(\n",
    "        data=[c_catalog.ra, c_catalog.dec, x[:, 3]], \n",
    "        names=['ra', 'dec', 'expnum']\n",
    "    )\n",
    "\n",
    "    for g in astropy.table.join(t1, t_catalog, keys=['expnum']).group_by([\"orbit\"]).groups:\n",
    "        sep = SkyCoord(g['ra_1'], g['dec_1']).separation(SkyCoord(g['ra_2'], g['dec_2']))\n",
    "        n_matches = (sep.value < match_threshold_points).sum()\n",
    "        o = int(g[0]['orbit'])\n",
    "        matches[o]['catalog'] = {\n",
    "            \"fake\": n_matches, # number of matches to fakes\n",
    "            \"total\": len(fakes[fakes['ORBITID'] == o]), # number of injected fakes\n",
    "        }\n",
    "\n",
    "    return matches"
   ]
  },
  {
   "cell_type": "code",
   "execution_count": 5,
   "id": "7e74d649",
   "metadata": {},
   "outputs": [],
   "source": [
    "c = recover(catalog, fakes)\n",
    "cn = recover(catalog_no_masks, fakes)"
   ]
  },
  {
   "cell_type": "code",
   "execution_count": 14,
   "id": "92622203",
   "metadata": {},
   "outputs": [
    {
     "name": "stdout",
     "output_type": "stream",
     "text": [
      "{'fake': 1, 'total': 104} {'fake': 1, 'total': 104}\n",
      "{'fake': 1, 'total': 104} {'fake': 2, 'total': 104}\n",
      "{'fake': 0, 'total': 21} {'fake': 0, 'total': 21}\n",
      "{'fake': 0, 'total': 104} {'fake': 5, 'total': 104}\n",
      "{'fake': 85, 'total': 104} {'fake': 104, 'total': 104}\n",
      "{'fake': 3, 'total': 104} {'fake': 3, 'total': 104}\n",
      "{'fake': 0, 'total': 104} {'fake': 0, 'total': 104}\n",
      "{'fake': 72, 'total': 104} {'fake': 92, 'total': 104}\n",
      "{'fake': 11, 'total': 104} {'fake': 11, 'total': 104}\n",
      "{'fake': 0, 'total': 104} {'fake': 1, 'total': 104}\n",
      "{'fake': 61, 'total': 104} {'fake': 64, 'total': 104}\n",
      "{'fake': 1, 'total': 104} {'fake': 1, 'total': 104}\n",
      "{'fake': 100, 'total': 104} {'fake': 101, 'total': 104}\n",
      "{'fake': 19, 'total': 104} {'fake': 19, 'total': 104}\n",
      "{'fake': 20, 'total': 104} {'fake': 20, 'total': 104}\n",
      "{'fake': 0, 'total': 104} {'fake': 2, 'total': 104}\n"
     ]
    }
   ],
   "source": [
    "_c = 0\n",
    "_cn = 0\n",
    "for k in c:\n",
    "    print(c[k]['catalog'], cn[k]['catalog'])\n",
    "    _c += c[k]['catalog']['fake']\n",
    "    _cn += cn[k]['catalog']['fake']"
   ]
  },
  {
   "cell_type": "code",
   "execution_count": 7,
   "id": "6e6a08cf",
   "metadata": {},
   "outputs": [
    {
     "data": {
      "text/plain": [
       "0.1401200810304055"
      ]
     },
     "execution_count": 7,
     "metadata": {},
     "output_type": "execute_result"
    }
   ],
   "source": [
    "catalog.mask_summary['masked'].sum() / catalog.mask_summary['total'].sum()"
   ]
  },
  {
   "cell_type": "code",
   "execution_count": 15,
   "id": "183d5598",
   "metadata": {},
   "outputs": [
    {
     "data": {
      "text/plain": [
       "0.12206572769953052"
      ]
     },
     "execution_count": 15,
     "metadata": {},
     "output_type": "execute_result"
    }
   ],
   "source": [
    "(_cn - _c) / _cn \n",
    "# the fraction of lost detections is about the same as the fraction of masked pixels\n",
    "# so I should compute completeness "
   ]
  },
  {
   "cell_type": "code",
   "execution_count": null,
   "id": "4b2f288d",
   "metadata": {},
   "outputs": [],
   "source": []
  }
 ],
 "metadata": {
  "kernelspec": {
   "display_name": "SALAD",
   "language": "python",
   "name": "salad"
  },
  "language_info": {
   "codemirror_mode": {
    "name": "ipython",
    "version": 3
   },
   "file_extension": ".py",
   "mimetype": "text/x-python",
   "name": "python",
   "nbconvert_exporter": "python",
   "pygments_lexer": "ipython3",
   "version": "3.11.7"
  }
 },
 "nbformat": 4,
 "nbformat_minor": 5
}
