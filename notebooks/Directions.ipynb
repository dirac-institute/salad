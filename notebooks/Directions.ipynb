{
 "cells": [
  {
   "cell_type": "code",
   "execution_count": 1,
   "id": "39657573",
   "metadata": {},
   "outputs": [],
   "source": [
    "from salad.directions import SearchDirections\n",
    "import astropy.units as u\n",
    "import matplotlib.pyplot as plt\n",
    "from salad.serialize import Serializable"
   ]
  },
  {
   "cell_type": "code",
   "execution_count": 9,
   "id": "902eb518",
   "metadata": {},
   "outputs": [],
   "source": [
    "import numpy as np\n",
    "\n",
    "class SearchDirections(Serializable):\n",
    "    def __init__(self, velocity_range, angle_range, dx, dt):\n",
    "        \"\"\"\n",
    "        specify two ranges and units\n",
    "        \"\"\"\n",
    "        self.velocity_range = velocity_range\n",
    "        self.angle_range = angle_range\n",
    "        self.dx = dx\n",
    "        self.dt = dt\n",
    "\n",
    "    @property\n",
    "    def v_min(self):\n",
    "        return min(self.velocity_range)\n",
    "    \n",
    "    @property\n",
    "    def v_max(self):\n",
    "        return max(self.velocity_range)\n",
    "        \n",
    "    @property\n",
    "    def phi_min(self):\n",
    "        return min(self.angle_range)\n",
    "    \n",
    "    @property\n",
    "    def phi_max(self):\n",
    "        return max(self.angle_range)\n",
    "\n",
    "        \n",
    "    @property\n",
    "    def b(self):\n",
    "        if not hasattr(self, \"_b\"):\n",
    "            _min = (-self.v_max * self.dt/self.dx).to(u.dimensionless_unscaled)\n",
    "            _max = (self.v_max * self.dt/self.dx).to(u.dimensionless_unscaled)\n",
    "            _v_x = np.arange(_min, _max + 1, 1)\n",
    "            _v_y = np.arange(_min, _max + 1, 1)\n",
    "            v_x_m, v_y_m = np.meshgrid(_v_x, _v_y)\n",
    "            b = (np.vstack([v_x_m.flatten(), v_y_m.flatten()]).T * (self.dx/self.dt)).to(self.v_max.unit)\n",
    "            _v = ((b**2).sum(axis=1)**0.5)\n",
    "            _phi = np.arctan2(b[:, 1], b[:, 0])\n",
    "\n",
    "            v_mask = (_v >= self.v_min) & (_v <= self.v_max)\n",
    "            phi_mask = (_phi >= self.phi_min) & (_phi <= self.phi_max)\n",
    "            b_m = b.reshape(len(_v_x), len(_v_y), 2)\n",
    "            adjacent_dx_width = (b_m - np.roll(np.roll(b_m, 1, axis=0), 1, axis=1))[1:, 1:] * self.dt/self.dx\n",
    "            assert(np.allclose(adjacent_dx_width[~np.isnan(adjacent_dx_width)], 1)) # all adjacent velocities are within 1 dx over timespan of dt\n",
    "            self._b = b[v_mask & phi_mask]\n",
    "        return self._b\n"
   ]
  },
  {
   "cell_type": "code",
   "execution_count": 4,
   "id": "8fac8525",
   "metadata": {},
   "outputs": [
    {
     "data": {
      "text/latex": [
       "$[0.0093333333,~0.03] \\; \\mathrm{\\frac{{}^{\\circ}}{d}}$"
      ],
      "text/plain": [
       "<Quantity [0.00933333, 0.03      ] deg / d>"
      ]
     },
     "execution_count": 4,
     "metadata": {},
     "output_type": "execute_result"
    }
   ],
   "source": [
    "([1.4, 4.5] * u.arcsec/u.hour).to(u.deg/u.day)"
   ]
  },
  {
   "cell_type": "code",
   "execution_count": 9,
   "id": "19980a2a",
   "metadata": {},
   "outputs": [
    {
     "data": {
      "image/png": "[encoded data removed]",
      "text/plain": [
       "<Figure size 640x480 with 1 Axes>"
      ]
     },
     "metadata": {},
     "output_type": "display_data"
    },
    {
     "name": "stdout",
     "output_type": "stream",
     "text": [
      "159\n"
     ]
    }
   ],
   "source": [
    "\n",
    "# 1.4 arcsec/hr to 4.5 arcsec/h\n",
    "directions = SearchDirections(\n",
    "    [1.4, 4.5] * u.arcsec/u.hour,\n",
    "    [120, 240] * u.deg,\n",
    "    1 * u.arcsec, \n",
    "    4/24 * u.day,\n",
    ")\n",
    "b = directions.b\n",
    "len(b)#, len(phi), len(v)\n",
    "\n",
    "fig = plt.figure()\n",
    "plt.scatter(b[:, 0], b[:, 1], s=1)\n",
    "# plt.xlim(-0.5, 0.5)\n",
    "# plt.ylim(-0.5, 0.5)\n",
    "plt.show()\n",
    "print(len(b))"
   ]
  },
  {
   "cell_type": "code",
   "execution_count": 18,
   "id": "f262d0ff",
   "metadata": {},
   "outputs": [
    {
     "data": {
      "text/plain": [
       "(144, 2)"
      ]
     },
     "execution_count": 18,
     "metadata": {},
     "output_type": "execute_result"
    }
   ],
   "source": [
    "b.shape"
   ]
  },
  {
   "cell_type": "code",
   "execution_count": 21,
   "id": "55d1e3d7",
   "metadata": {},
   "outputs": [
    {
     "data": {
      "text/latex": [
       "$[[0,~-4.5],~\n",
       " [-2,~-4],~\n",
       " [-1.5,~-4],~\n",
       " \\dots,~\n",
       " [3,~2.5],~\n",
       " [3.5,~2.5],~\n",
       " [3,~3]] \\; \\mathrm{\\frac{{}^{\\prime\\prime}}{h}}$"
      ],
      "text/plain": [
       "<Quantity [[ 0. , -4.5],\n",
       "           [-2. , -4. ],\n",
       "           [-1.5, -4. ],\n",
       "           [-1. , -4. ],\n",
       "           [-0.5, -4. ],\n",
       "           [ 0. , -4. ],\n",
       "           [ 0.5, -4. ],\n",
       "           [ 1. , -4. ],\n",
       "           [ 1.5, -4. ],\n",
       "           [ 2. , -4. ],\n",
       "           [-2.5, -3.5],\n",
       "           [-2. , -3.5],\n",
       "           [-1.5, -3.5],\n",
       "           [-1. , -3.5],\n",
       "           [-0.5, -3.5],\n",
       "           [ 0. , -3.5],\n",
       "           [ 0.5, -3.5],\n",
       "           [ 1. , -3.5],\n",
       "           [ 1.5, -3.5],\n",
       "           [ 2. , -3.5],\n",
       "           [ 2.5, -3.5],\n",
       "           [-3. , -3. ],\n",
       "           [-2.5, -3. ],\n",
       "           [-2. , -3. ],\n",
       "           [-1.5, -3. ],\n",
       "           [-1. , -3. ],\n",
       "           [-0.5, -3. ],\n",
       "           [ 0. , -3. ],\n",
       "           [ 0.5, -3. ],\n",
       "           [ 1. , -3. ],\n",
       "           [ 1.5, -3. ],\n",
       "           [ 2. , -3. ],\n",
       "           [ 2.5, -3. ],\n",
       "           [ 3. , -3. ],\n",
       "           [-3.5, -2.5],\n",
       "           [-3. , -2.5],\n",
       "           [-2.5, -2.5],\n",
       "           [-2. , -2.5],\n",
       "           [-1.5, -2.5],\n",
       "           [-1. , -2.5],\n",
       "           [-0.5, -2.5],\n",
       "           [ 0. , -2.5],\n",
       "           [ 0.5, -2.5],\n",
       "           [ 1. , -2.5],\n",
       "           [ 1.5, -2.5],\n",
       "           [ 2. , -2.5],\n",
       "           [ 2.5, -2.5],\n",
       "           [ 3. , -2.5],\n",
       "           [ 3.5, -2.5],\n",
       "           [-4. , -2. ],\n",
       "           [-3.5, -2. ],\n",
       "           [-3. , -2. ],\n",
       "           [-2.5, -2. ],\n",
       "           [-2. , -2. ],\n",
       "           [-1.5, -2. ],\n",
       "           [-1. , -2. ],\n",
       "           [-0.5, -2. ],\n",
       "           [ 0. , -2. ],\n",
       "           [ 0.5, -2. ],\n",
       "           [ 1. , -2. ],\n",
       "           [ 1.5, -2. ],\n",
       "           [ 2. , -2. ],\n",
       "           [ 2.5, -2. ],\n",
       "           [ 3. , -2. ],\n",
       "           [ 3.5, -2. ],\n",
       "           [ 4. , -2. ],\n",
       "           [-4. , -1.5],\n",
       "           [-3.5, -1.5],\n",
       "           [-3. , -1.5],\n",
       "           [-2.5, -1.5],\n",
       "           [-2. , -1.5],\n",
       "           [-1.5, -1.5],\n",
       "           [-1. , -1.5],\n",
       "           [-0.5, -1.5],\n",
       "           [ 0. , -1.5],\n",
       "           [ 0.5, -1.5],\n",
       "           [ 1. , -1.5],\n",
       "           [ 1.5, -1.5],\n",
       "           [ 2. , -1.5],\n",
       "           [ 2.5, -1.5],\n",
       "           [ 3. , -1.5],\n",
       "           [ 3.5, -1.5],\n",
       "           [ 4. , -1.5],\n",
       "           [-4. , -1. ],\n",
       "           [-3.5, -1. ],\n",
       "           [-3. , -1. ],\n",
       "           [-2.5, -1. ],\n",
       "           [-2. , -1. ],\n",
       "           [-1.5, -1. ],\n",
       "           [-1. , -1. ],\n",
       "           [ 1. , -1. ],\n",
       "           [ 1.5, -1. ],\n",
       "           [ 2. , -1. ],\n",
       "           [ 2.5, -1. ],\n",
       "           [ 3. , -1. ],\n",
       "           [ 3.5, -1. ],\n",
       "           [ 4. , -1. ],\n",
       "           [-4. , -0.5],\n",
       "           [-3.5, -0.5],\n",
       "           [-3. , -0.5],\n",
       "           [-2.5, -0.5],\n",
       "           [-2. , -0.5],\n",
       "           [-1.5, -0.5],\n",
       "           [ 1.5, -0.5],\n",
       "           [ 2. , -0.5],\n",
       "           [ 2.5, -0.5],\n",
       "           [ 3. , -0.5],\n",
       "           [ 3.5, -0.5],\n",
       "           [ 4. , -0.5],\n",
       "           [ 1.5,  0. ],\n",
       "           [ 2. ,  0. ],\n",
       "           [ 2.5,  0. ],\n",
       "           [ 3. ,  0. ],\n",
       "           [ 3.5,  0. ],\n",
       "           [ 4. ,  0. ],\n",
       "           [ 4.5,  0. ],\n",
       "           [ 1.5,  0.5],\n",
       "           [ 2. ,  0.5],\n",
       "           [ 2.5,  0.5],\n",
       "           [ 3. ,  0.5],\n",
       "           [ 3.5,  0.5],\n",
       "           [ 4. ,  0.5],\n",
       "           [ 1. ,  1. ],\n",
       "           [ 1.5,  1. ],\n",
       "           [ 2. ,  1. ],\n",
       "           [ 2.5,  1. ],\n",
       "           [ 3. ,  1. ],\n",
       "           [ 3.5,  1. ],\n",
       "           [ 4. ,  1. ],\n",
       "           [ 1.5,  1.5],\n",
       "           [ 2. ,  1.5],\n",
       "           [ 2.5,  1.5],\n",
       "           [ 3. ,  1.5],\n",
       "           [ 3.5,  1.5],\n",
       "           [ 4. ,  1.5],\n",
       "           [ 2. ,  2. ],\n",
       "           [ 2.5,  2. ],\n",
       "           [ 3. ,  2. ],\n",
       "           [ 3.5,  2. ],\n",
       "           [ 4. ,  2. ],\n",
       "           [ 2.5,  2.5],\n",
       "           [ 3. ,  2.5],\n",
       "           [ 3.5,  2.5],\n",
       "           [ 3. ,  3. ]] arcsec / h>"
      ]
     },
     "execution_count": 21,
     "metadata": {},
     "output_type": "execute_result"
    }
   ],
   "source": [
    "b"
   ]
  },
  {
   "cell_type": "code",
   "execution_count": 20,
   "id": "ae96e50c",
   "metadata": {},
   "outputs": [
    {
     "data": {
      "text/latex": [
       "$[-3.1415927,~-3.0828368,~-3.0172377,~\\dots,~0.12435499,~0.058755823,~0] \\; \\mathrm{rad}$"
      ],
      "text/plain": [
       "<Quantity [-3.14159265, -3.08283683, -3.01723766, -2.94419709, -2.86329299,\n",
       "           -2.77441882, -2.67794504, -2.57486344, -2.46685171, -2.35619449,\n",
       "           -2.24553727, -2.13752554, -2.03444394, -1.93797016, -1.84909599,\n",
       "           -1.76819189, -1.69515132, -1.62955215, -1.57079633, -3.20034848,\n",
       "           -3.14159265, -3.07502449, -2.9996956 , -2.91479381, -2.8198421 ,\n",
       "           -2.71496516, -2.60117315, -2.48054948, -2.35619449, -2.2318395 ,\n",
       "           -2.11121583, -1.99742382, -1.89254688, -1.79759517, -1.71269338,\n",
       "           -1.63736449, -1.57079633, -1.5120405 , -3.26594765, -3.20816082,\n",
       "           -3.14159265, -3.06482076, -2.97644398, -2.8753406 , -2.76108628,\n",
       "           -2.63449415, -2.49809154, -2.35619449, -2.21429744, -2.07789483,\n",
       "           -1.9513027 , -1.83704838, -1.735945  , -1.64756822, -1.57079633,\n",
       "           -1.50422816, -1.44644133, -3.33898821, -3.28348971, -3.21836454,\n",
       "           -3.14159265, -3.05093277, -2.94419709, -2.8198421 , -2.67794504,\n",
       "           -2.52134317, -2.35619449, -2.19104581, -2.03444394, -1.89254688,\n",
       "           -1.76819189, -1.66145621, -1.57079633, -1.49402444, -1.42889927,\n",
       "           -1.37340077, -3.41989231, -3.3683915 , -3.30674133, -3.23225254,\n",
       "           -3.14159265, -3.03093543, -2.89661399, -2.73670087, -2.55359005,\n",
       "           -2.35619449, -2.15879893, -1.97568811, -1.81577499, -1.68145355,\n",
       "           -1.57079633, -1.48013644, -1.40564765, -1.34399748, -1.29249667,\n",
       "           -3.50876649, -3.46334321, -3.4078447 , -3.33898821, -3.25224987,\n",
       "           -3.14159265, -2.9996956 , -2.8198421 , -2.60117315, -2.35619449,\n",
       "           -2.11121583, -1.89254688, -1.71269338, -1.57079633, -1.46013911,\n",
       "           -1.37340077, -1.30454428, -1.24904577, -1.20362249, -3.60524026,\n",
       "           -3.56822015, -3.52209903, -3.46334321, -3.38657132, -3.28348971,\n",
       "           -3.14159265, -2.94419709, -2.67794504, -2.35619449, -2.03444394,\n",
       "           -1.76819189, -1.57079633, -1.42889927, -1.32581766, -1.24904577,\n",
       "           -1.19028995, -1.14416883, -1.10714872, -3.70832187, -3.68201215,\n",
       "           -3.64869116, -3.60524026, -3.54648444, -3.46334321, -3.33898821,\n",
       "           -3.14159265, -2.8198421 , -2.35619449, -1.89254688, -1.57079633,\n",
       "           -1.37340077, -1.24904577, -1.16590454, -1.10714872, -1.06369782,\n",
       "           -1.03037683, -1.00406711, -3.8163336 , -3.80263582, -3.78509376,\n",
       "           -3.76184214, -3.72959526, -3.68201215, -3.60524026, -3.46334321,\n",
       "           -3.14159265, -2.35619449, -1.57079633, -1.24904577, -1.10714872,\n",
       "           -1.03037683, -0.98279372, -0.95054684, -0.92729522, -0.90975316,\n",
       "           -0.89605538,  2.35619449,  2.35619449,  2.35619449,  2.35619449,\n",
       "            2.35619449,  2.35619449,  2.35619449,  2.35619449,  2.35619449,\n",
       "           -0.78539816, -0.78539816, -0.78539816, -0.78539816, -0.78539816,\n",
       "           -0.78539816, -0.78539816, -0.78539816, -0.78539816, -0.78539816,\n",
       "            2.24553727,  2.2318395 ,  2.21429744,  2.19104581,  2.15879893,\n",
       "            2.11121583,  2.03444394,  1.89254688,  1.57079633,  0.78539816,\n",
       "            0.        , -0.32175055, -0.46364761, -0.5404195 , -0.5880026 ,\n",
       "           -0.62024949, -0.64350111, -0.66104317, -0.67474094,  2.13752554,\n",
       "            2.11121583,  2.07789483,  2.03444394,  1.97568811,  1.89254688,\n",
       "            1.76819189,  1.57079633,  1.24904577,  0.78539816,  0.32175055,\n",
       "            0.        , -0.19739556, -0.32175055, -0.40489179, -0.46364761,\n",
       "           -0.5070985 , -0.5404195 , -0.56672922,  2.03444394,  1.99742382,\n",
       "            1.9513027 ,  1.89254688,  1.81577499,  1.71269338,  1.57079633,\n",
       "            1.37340077,  1.10714872,  0.78539816,  0.46364761,  0.19739556,\n",
       "            0.        , -0.14189705, -0.24497866, -0.32175055, -0.38050638,\n",
       "           -0.42662749, -0.46364761,  1.93797016,  1.89254688,  1.83704838,\n",
       "            1.76819189,  1.68145355,  1.57079633,  1.42889927,  1.24904577,\n",
       "            1.03037683,  0.78539816,  0.5404195 ,  0.32175055,  0.14189705,\n",
       "            0.        , -0.11065722, -0.19739556, -0.26625205, -0.32175055,\n",
       "           -0.36717383,  1.84909599,  1.79759517,  1.735945  ,  1.66145621,\n",
       "            1.57079633,  1.46013911,  1.32581766,  1.16590454,  0.98279372,\n",
       "            0.78539816,  0.5880026 ,  0.40489179,  0.24497866,  0.11065722,\n",
       "            0.        , -0.09065989, -0.16514868, -0.22679885, -0.27829966,\n",
       "            1.76819189,  1.71269338,  1.64756822,  1.57079633,  1.48013644,\n",
       "            1.37340077,  1.24904577,  1.10714872,  0.95054684,  0.78539816,\n",
       "            0.62024949,  0.46364761,  0.32175055,  0.19739556,  0.09065989,\n",
       "            0.        , -0.07677189, -0.14189705, -0.19739556,  1.69515132,\n",
       "            1.63736449,  1.57079633,  1.49402444,  1.40564765,  1.30454428,\n",
       "            1.19028995,  1.06369782,  0.92729522,  0.78539816,  0.64350111,\n",
       "            0.5070985 ,  0.38050638,  0.26625205,  0.16514868,  0.07677189,\n",
       "            0.        , -0.06656816, -0.12435499,  1.62955215,  1.57079633,\n",
       "            1.50422816,  1.42889927,  1.34399748,  1.24904577,  1.14416883,\n",
       "            1.03037683,  0.90975316,  0.78539816,  0.66104317,  0.5404195 ,\n",
       "            0.42662749,  0.32175055,  0.22679885,  0.14189705,  0.06656816,\n",
       "            0.        , -0.05875582,  1.57079633,  1.5120405 ,  1.44644133,\n",
       "            1.37340077,  1.29249667,  1.20362249,  1.10714872,  1.00406711,\n",
       "            0.89605538,  0.78539816,  0.67474094,  0.56672922,  0.46364761,\n",
       "            0.36717383,  0.27829966,  0.19739556,  0.12435499,  0.05875582,\n",
       "            0.        ] rad>"
      ]
     },
     "execution_count": 20,
     "metadata": {},
     "output_type": "execute_result"
    }
   ],
   "source": [
    "phi"
   ]
  },
  {
   "cell_type": "code",
   "execution_count": 16,
   "id": "cffac795",
   "metadata": {},
   "outputs": [
    {
     "data": {
      "text/plain": [
       "1500"
      ]
     },
     "execution_count": 16,
     "metadata": {},
     "output_type": "execute_result"
    }
   ],
   "source": [
    "50*30"
   ]
  },
  {
   "cell_type": "code",
   "execution_count": 17,
   "id": "2d3e917e",
   "metadata": {},
   "outputs": [
    {
     "data": {
      "text/plain": [
       "39000"
      ]
     },
     "execution_count": 17,
     "metadata": {},
     "output_type": "execute_result"
    }
   ],
   "source": [
    "260*150"
   ]
  },
  {
   "cell_type": "code",
   "execution_count": 15,
   "id": "348a2276",
   "metadata": {},
   "outputs": [
    {
     "data": {
      "image/png": "[encoded data removed]",
      "text/plain": [
       "<Figure size 640x480 with 1 Axes>"
      ]
     },
     "metadata": {},
     "output_type": "display_data"
    },
    {
     "name": "stdout",
     "output_type": "stream",
     "text": [
      "144\n"
     ]
    }
   ],
   "source": []
  },
  {
   "cell_type": "code",
   "execution_count": 11,
   "id": "bb0d7cba",
   "metadata": {},
   "outputs": [
    {
     "data": {
      "text/plain": [
       "1500"
      ]
     },
     "execution_count": 11,
     "metadata": {},
     "output_type": "execute_result"
    }
   ],
   "source": [
    "50*30"
   ]
  },
  {
   "cell_type": "code",
   "execution_count": 6,
   "id": "b76b5de0",
   "metadata": {},
   "outputs": [],
   "source": [
    "directions = SearchDirections(\n",
    "    [0.1, 0.5] * u.deg/u.day,\n",
    "    [0, 90] * u.deg,\n",
    "    10 * u.arcsec, \n",
    "    4/24 * u.day,\n",
    ")\n",
    "b, phi, v = directions.b\n"
   ]
  },
  {
   "cell_type": "code",
   "execution_count": 7,
   "id": "575836a9",
   "metadata": {},
   "outputs": [
    {
     "data": {
      "text/plain": [
       "703"
      ]
     },
     "execution_count": 7,
     "metadata": {},
     "output_type": "execute_result"
    }
   ],
   "source": [
    "len(b)"
   ]
  },
  {
   "cell_type": "code",
   "execution_count": 89,
   "id": "c5e53f5c",
   "metadata": {},
   "outputs": [
    {
     "data": {
      "text/plain": [
       "60"
      ]
     },
     "execution_count": 89,
     "metadata": {},
     "output_type": "execute_result"
    }
   ],
   "source": [
    "240 % 180"
   ]
  },
  {
   "cell_type": "code",
   "execution_count": 109,
   "id": "d6ad4c02",
   "metadata": {},
   "outputs": [
    {
     "data": {
      "image/png": "[encoded data removed]",
      "text/plain": [
       "<Figure size 640x480 with 1 Axes>"
      ]
     },
     "metadata": {},
     "output_type": "display_data"
    },
    {
     "name": "stdout",
     "output_type": "stream",
     "text": [
      "703\n"
     ]
    }
   ],
   "source": [
    "directions = SearchDirections(\n",
    "    [0.1, 0.5] * u.deg/u.day,\n",
    "    [0, 90] * u.deg,\n",
    "    10 * u.arcsec, \n",
    "    4/24 * u.day,\n",
    ")\n",
    "b, phi, v = directions.b\n",
    "\n",
    "fig = plt.figure()\n",
    "plt.scatter(b[:, 0], b[:, 1], s=1)\n",
    "plt.xlim(-0.5, 0.5)\n",
    "plt.ylim(-0.5, 0.5)\n",
    "plt.show()\n",
    "print(len(b))"
   ]
  },
  {
   "cell_type": "code",
   "execution_count": 87,
   "id": "ee4f43a1",
   "metadata": {},
   "outputs": [
    {
     "data": {
      "image/png": "[encoded data removed]",
      "text/plain": [
       "<Figure size 640x480 with 1 Axes>"
      ]
     },
     "metadata": {},
     "output_type": "display_data"
    },
    {
     "data": {
      "image/png": "[encoded data removed]",
      "text/plain": [
       "<Figure size 640x480 with 1 Axes>"
      ]
     },
     "metadata": {},
     "output_type": "display_data"
    }
   ],
   "source": [
    "plt.hist(v)\n",
    "plt.show()\n",
    "plt.hist(phi)\n",
    "plt.show()"
   ]
  },
  {
   "cell_type": "code",
   "execution_count": 50,
   "id": "9fa61803",
   "metadata": {},
   "outputs": [
    {
     "data": {
      "text/latex": [
       "$[180,~180,~180,~\\dots,~123.69007,~122.34744,~120.96376] \\; \\mathrm{{}^{\\circ}}$"
      ],
      "text/plain": [
       "<Quantity [180.        , 180.        , 180.        , 180.        ,\n",
       "           180.        , 180.        , 180.        , 180.        ,\n",
       "           180.        , 180.        , 180.        , 180.        ,\n",
       "           180.        , 180.        , 180.        , 180.        ,\n",
       "           180.        , 180.        , 180.        , 180.        ,\n",
       "           180.        , 180.        , 180.        , 180.        ,\n",
       "           180.        , 180.        , 180.        , 180.        ,\n",
       "           180.        , 180.        , 178.09084757, 178.02506599,\n",
       "           177.95459151, 177.8789036 , 177.79740184, 177.70938996,\n",
       "           177.61405597, 177.51044708, 177.3974378 , 177.27368901,\n",
       "           177.13759477, 176.9872125 , 176.82016988, 176.63353934,\n",
       "           176.42366563, 176.18592517, 175.91438322, 175.60129465,\n",
       "           175.23635831, 174.80557109, 174.28940686, 173.65980825,\n",
       "           172.87498365, 171.86989765, 170.53767779, 168.69006753,\n",
       "           165.96375653, 161.56505118, 153.43494882, 135.        ,\n",
       "           176.18592517, 176.05481377, 175.91438322, 175.7636052 ,\n",
       "           175.60129465, 175.42607874, 175.23635831, 175.03025927,\n",
       "           174.80557109, 174.55966797, 174.28940686, 173.99099404,\n",
       "           173.65980825, 173.29016319, 172.87498365, 172.40535663,\n",
       "           171.86989765, 171.25383774, 170.53767779, 169.69515353,\n",
       "           168.69006753, 167.47119229, 165.96375653, 164.0546041 ,\n",
       "           161.56505118, 158.19859051, 153.43494882, 146.30993247,\n",
       "           135.        , 174.28940686, 174.09385889, 173.88449643,\n",
       "           173.65980825, 173.41805534, 173.15722659, 172.87498365,\n",
       "           172.56859203, 172.23483398, 171.86989765, 171.46923439,\n",
       "           171.02737339, 170.53767779, 169.9920202 , 169.38034472,\n",
       "           168.69006753, 167.90524292, 167.00538321, 165.96375653,\n",
       "           164.7448813 , 163.30075577, 161.56505118, 159.44395478,\n",
       "           156.80140949, 153.43494882, 149.03624347, 143.13010235,\n",
       "           135.        , 123.69006753, 172.40535663, 172.1466867 ,\n",
       "           171.86989765, 171.57303098, 171.25383774, 170.90972308,\n",
       "           170.53767779, 170.13419306, 169.69515353, 169.21570213,\n",
       "           168.69006753, 168.11134196, 167.47119229, 166.75948008,\n",
       "           165.96375653, 165.06858282, 164.0546041 , 162.89727103,\n",
       "           161.56505118, 160.01689348, 158.19859051, 156.03751103,\n",
       "           153.43494882, 150.2551187 , 146.30993247, 141.34019175,\n",
       "           135.        , 126.86989765, 170.53767779, 170.21759297,\n",
       "           169.87532834, 169.50852299, 169.11447295, 168.69006753,\n",
       "           168.23171107, 167.73522627, 167.19573393, 166.60750225,\n",
       "           165.96375653, 165.25643716, 164.475889  , 163.61045967,\n",
       "           162.64597536, 161.56505118, 160.34617594, 158.96248897,\n",
       "           157.38013505, 155.55604522, 153.43494882, 150.9453959 ,\n",
       "           147.99461679, 144.46232221, 140.19442891, 135.        ,\n",
       "           128.65980825, 120.96375653, 168.69006753, 168.31063082,\n",
       "           167.90524292, 167.47119229, 167.00538321, 166.50426672,\n",
       "           165.96375653, 165.37912601, 164.7448813 , 164.0546041 ,\n",
       "           163.30075577, 162.47443163, 161.56505118, 160.55996517,\n",
       "           159.44395478, 158.19859051, 156.80140949, 155.22485943,\n",
       "           153.43494882, 151.38954033, 149.03624347, 146.30993247,\n",
       "           143.13010235, 139.39870535, 135.        , 129.80557109,\n",
       "           123.69006753, 166.86597769, 166.42956561, 165.96375653,\n",
       "           165.46554492, 164.93151184, 164.35775354, 163.73979529,\n",
       "           163.07248694, 162.34987578, 161.56505118, 160.70995378,\n",
       "           159.77514057, 158.74949449, 157.61986495, 156.37062227,\n",
       "           154.98310652, 153.43494882, 151.69924423, 149.74356284,\n",
       "           147.52880771, 145.0079798 , 142.12501635, 138.81407483,\n",
       "           135.        , 130.60129465, 125.53767779, 165.06858282,\n",
       "           164.57783868, 164.0546041 , 163.49563862, 162.89727103,\n",
       "           162.25532837, 161.56505118, 160.82099197, 160.01689348,\n",
       "           159.14554196, 158.19859051, 157.16634582, 156.03751103,\n",
       "           154.79887635, 153.43494882, 151.92751306, 150.2551187 ,\n",
       "           148.39249775, 146.30993247, 143.97262661, 141.34019175,\n",
       "           138.36646066, 135.        , 131.18592517, 126.86989765,\n",
       "           122.00538321, 163.30075577, 162.7585406 , 162.18111109,\n",
       "           161.56505118, 160.906508  , 160.20112365, 159.44395478,\n",
       "           158.62937773, 157.75097634, 156.80140949, 155.77225468,\n",
       "           154.65382406, 153.43494882, 152.10272897, 150.64224646,\n",
       "           149.03624347, 147.26477373, 145.30484647, 143.13010235,\n",
       "           140.71059314, 138.0127875 , 135.        , 131.63353934,\n",
       "           127.87498365, 123.69006753, 161.56505118, 160.97439396,\n",
       "           160.34617594, 159.67686317, 158.96248897, 158.19859051,\n",
       "           157.38013505, 156.50143432, 155.55604522, 154.53665494,\n",
       "           153.43494882, 152.2414594 , 150.9453959 , 149.53445508,\n",
       "           147.99461679, 146.30993247, 144.46232221, 142.43140797,\n",
       "           140.19442891, 137.72631099, 135.        , 131.9872125 ,\n",
       "           128.65980825, 124.9920202 , 120.96375653, 159.86369657,\n",
       "           159.22774532, 158.55226367, 157.83365418, 157.06789956,\n",
       "           156.25050551, 155.37643521, 154.44003483, 153.43494882,\n",
       "           152.35402464, 151.18920626, 149.93141718, 148.57043439,\n",
       "           147.09475708, 145.49147701, 143.74616226, 141.84277341,\n",
       "           139.76364169, 137.48955292, 135.        , 132.27368901,\n",
       "           129.28940686, 126.02737339, 122.47119229, 158.19859051,\n",
       "           157.5205656 , 156.80140949, 156.03751103, 155.22485943,\n",
       "           154.35899418, 153.43494882, 152.44718842, 151.38954033,\n",
       "           150.2551187 , 149.03624347, 147.72435569, 146.30993247,\n",
       "           144.78240703, 143.13010235, 141.34019175, 139.39870535,\n",
       "           137.29061004, 135.        , 132.51044708, 129.80557109,\n",
       "           126.86989765, 123.69006753, 120.25643716, 156.57130719,\n",
       "           155.85445804, 155.09523119, 154.29004622, 153.43494882,\n",
       "           152.52556837, 151.55707138, 150.524111  , 149.42077313,\n",
       "           148.24051992, 146.97613244, 145.61965528, 144.16234705,\n",
       "           142.59464337, 140.90614111, 139.08561678, 137.1210964 ,\n",
       "           135.        , 132.70938996, 130.23635831, 127.56859203,\n",
       "           124.69515353, 121.60750225, 154.98310652, 154.23067238,\n",
       "           153.43494882, 152.59242456, 151.69924423, 150.75117366,\n",
       "           149.74356284, 148.67130713, 147.52880771, 146.30993247,\n",
       "           145.0079798 , 143.61564818, 142.12501635, 140.52754015,\n",
       "           138.81407483, 136.97493401, 135.        , 132.8789036 ,\n",
       "           130.60129465, 128.15722659, 125.53767779, 122.73522627,\n",
       "           153.43494882, 152.65012422, 151.82140989, 150.9453959 ,\n",
       "           150.01836063, 149.03624347, 147.99461679, 146.88865804,\n",
       "           145.71312302, 144.46232221, 143.13010235, 141.70983681,\n",
       "           140.19442891, 138.57633437, 136.84761027, 135.        ,\n",
       "           133.02506599, 130.91438322, 128.65980825, 126.25383774,\n",
       "           123.69006753, 120.96375653, 151.92751306, 151.11341823,\n",
       "           150.2551187 , 149.34933204, 148.39249775, 147.38075693,\n",
       "           146.30993247, 145.17551084, 143.97262661, 142.69605172,\n",
       "           141.34019175, 139.89909245, 138.36646066, 136.73570459,\n",
       "           135.        , 133.15238973, 131.18592517, 129.09385889,\n",
       "           126.86989765, 124.50852299, 122.00538321, 150.46121774,\n",
       "           149.62087399, 148.73626831, 147.80426607, 146.82148834,\n",
       "           145.78429787, 144.68878656, 143.53076561, 142.30575953,\n",
       "           141.00900596, 139.63546343, 138.17983012, 136.63657704,\n",
       "           135.        , 133.26429541, 131.42366563, 129.47245985,\n",
       "           127.40535663, 125.21759297, 122.90524292, 120.46554492,\n",
       "           149.03624347, 148.17255342, 147.26477373, 146.30993247,\n",
       "           145.30484647, 144.24611275, 143.13010235, 141.95295747,\n",
       "           140.71059314, 139.39870535, 138.0127875 , 136.5481577 ,\n",
       "           135.        , 133.36342296, 131.63353934, 129.80557109,\n",
       "           127.87498365, 125.83765295, 123.69006753, 121.42956561,\n",
       "           147.6525565 , 146.76828893, 145.84030545, 144.86580694,\n",
       "           143.84181456, 142.76516602, 141.63251462, 140.44033203,\n",
       "           139.18491613, 137.86240523, 136.46880071, 135.        ,\n",
       "           133.4518423 , 131.82016988, 130.10090755, 128.29016319,\n",
       "           126.38435182, 124.38034472, 122.27564431, 120.06858282,\n",
       "           146.30993247, 145.40771131, 144.46232221, 143.47114463,\n",
       "           142.43140797, 141.34019175, 140.19442891, 138.9909131 ,\n",
       "           137.72631099, 136.39718103, 135.        , 133.53119929,\n",
       "           131.9872125 , 130.36453657, 128.65980825, 126.86989765,\n",
       "           124.9920202 , 123.02386756, 120.96375653, 145.0079798 ,\n",
       "           144.09027692, 143.13010235, 142.12501635, 141.07245641,\n",
       "           139.96974073, 138.81407483, 137.6025622 , 136.33221985,\n",
       "           135.        , 133.60281897, 132.13759477, 130.60129465,\n",
       "           128.99099404, 127.30394828, 125.53767779, 123.69006753,\n",
       "           121.75948008, 143.74616226, 142.81529355, 141.84277341,\n",
       "           140.82634203, 139.76364169, 138.65222278, 137.48955292,\n",
       "           136.27303002, 135.        , 133.66778015, 132.27368901,\n",
       "           130.81508387, 129.28940686, 127.69424047, 126.02737339,\n",
       "           124.28687698, 122.47119229, 120.57922687, 142.52382044,\n",
       "           141.58194466, 140.59933934, 139.57392126, 138.50353164,\n",
       "           137.38594403, 136.21887524, 135.        , 133.72696998,\n",
       "           132.3974378 , 131.0090869 , 129.55966797, 128.04704253,\n",
       "           126.46923439, 124.82448916, 123.11134196, 121.32869287,\n",
       "           141.34019175, 140.38931176, 139.39870535, 138.36646066,\n",
       "           137.29061004, 136.16913933, 135.        , 133.78112476,\n",
       "           132.51044708, 131.18592517, 129.80557109, 128.36748538,\n",
       "           126.86989765, 125.31121344, 123.69006753, 122.00538321,\n",
       "           120.25643716, 140.19442891, 139.2363948 , 138.2397003 ,\n",
       "           137.20259816, 136.12330271, 135.        , 133.83086067,\n",
       "           132.61405597, 131.34777722, 130.03025927, 128.65980825,\n",
       "           127.23483398, 125.75388725, 124.21570213, 122.61924307,\n",
       "           120.96375653, 139.08561678, 138.12213046, 137.1210964 ,\n",
       "           136.08092419, 135.        , 133.87669729, 132.70938996,\n",
       "           131.49646836, 130.23635831, 128.92754359, 127.56859203,\n",
       "           126.15818544, 124.69515353, 123.17851166, 121.60750225,\n",
       "           138.0127875 , 137.04540849, 136.04162668, 135.        ,\n",
       "           133.91907581, 132.79740184, 131.63353934, 130.42607874,\n",
       "           129.17365797, 127.87498365, 126.52885537, 125.13419306,\n",
       "           123.69006753, 122.19573393, 120.65066796, 136.97493401,\n",
       "           136.00508601, 135.        , 133.95837332, 132.8789036 ,\n",
       "           131.7602997 , 130.60129465, 129.40066066, 128.15722659,\n",
       "           126.86989765, 125.53767779, 124.15969455, 122.73522627,\n",
       "           121.26373169, 135.97102193, 135.        , 133.99491399,\n",
       "           132.95459151, 131.87786954, 130.7636052 , 129.61068824,\n",
       "           128.41805534, 127.18470645, 125.90972308, 124.59228869,\n",
       "           123.23171107, 121.82744658, 120.37912601, 135.        ,\n",
       "           134.02897807, 133.02506599, 131.9872125 , 130.91438322,\n",
       "           129.80557109, 128.65980825, 127.47617956, 126.25383774,\n",
       "           124.9920202 , 123.69006753, 122.3474435 , 120.96375653] deg>"
      ]
     },
     "execution_count": 50,
     "metadata": {},
     "output_type": "execute_result"
    }
   ],
   "source": [
    "phi[(phi > (120 *u.deg).to(u.rad)) & (phi < (240 *u.deg).to(u.rad))].to(u.deg)"
   ]
  },
  {
   "cell_type": "code",
   "execution_count": null,
   "id": "3aa86d87",
   "metadata": {},
   "outputs": [],
   "source": []
  }
 ],
 "metadata": {
  "kernelspec": {
   "display_name": "SALAD",
   "language": "python",
   "name": "salad"
  },
  "language_info": {
   "codemirror_mode": {
    "name": "ipython",
    "version": 3
   },
   "file_extension": ".py",
   "mimetype": "text/x-python",
   "name": "python",
   "nbconvert_exporter": "python",
   "pygments_lexer": "ipython3",
   "version": "3.11.7"
  }
 },
 "nbformat": 4,
 "nbformat_minor": 5
}
