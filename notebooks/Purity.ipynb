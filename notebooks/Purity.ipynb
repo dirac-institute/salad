{
 "cells": [
  {
   "cell_type": "code",
   "execution_count": 10,
   "id": "efa1a2e8",
   "metadata": {},
   "outputs": [],
   "source": [
    "from pathlib import Path\n",
    "import astropy.table\n",
    "import numpy as np"
   ]
  },
  {
   "cell_type": "code",
   "execution_count": 17,
   "id": "c5bc5e27",
   "metadata": {},
   "outputs": [],
   "source": [
    "def num_noise_clusters(pg, detector, snr):\n",
    "    return len(\n",
    "        list(\n",
    "            Path(f\"../search/new_pipeline/DEEP/{pg}/detector_{detector}/snr_{snr}/shuffled/refined_clusters_2_filtered_joined_split\").rglob(\"*.pkl\")\n",
    "        )\n",
    "    )\n",
    "\n",
    "\n",
    "n = []\n",
    "for detector in range(1, 63):\n",
    "    for snr in map(lambda x : x/2, range(6, 11)):\n",
    "#         print(snr)\n",
    "        n.append(\n",
    "            dict(\n",
    "                detector=detector,\n",
    "                snr=snr,\n",
    "                n_clusters=num_noise_clusters(\"20190403/A0c\", detector, snr),\n",
    "            )\n",
    "        )\n",
    "    \n",
    "n = astropy.table.Table(n)"
   ]
  },
  {
   "cell_type": "code",
   "execution_count": 19,
   "id": "4f236379",
   "metadata": {},
   "outputs": [
    {
     "name": "stdout",
     "output_type": "stream",
     "text": [
      "3.0 n_clusters\n",
      "----------\n",
      "       0.0\n",
      "       0.0\n",
      "       0.0\n",
      "3.5 n_clusters\n",
      "----------\n",
      "       0.0\n",
      "       0.0\n",
      "       0.0\n",
      "4.0 n_clusters\n",
      "----------\n",
      "       0.0\n",
      "       0.0\n",
      "       3.0\n",
      "4.5 n_clusters\n",
      "----------\n",
      "       0.0\n",
      "       0.0\n",
      "       3.0\n",
      "5.0 n_clusters\n",
      "----------\n",
      "       0.0\n",
      "       0.0\n",
      "       0.0\n"
     ]
    }
   ],
   "source": [
    "for g in n.group_by(\"snr\").groups:\n",
    "    print(g[0]['snr'], np.percentile(g['n_clusters'], [0, 50, 100]))"
   ]
  },
  {
   "cell_type": "code",
   "execution_count": null,
   "id": "7f5903c3",
   "metadata": {},
   "outputs": [],
   "source": []
  }
 ],
 "metadata": {
  "kernelspec": {
   "display_name": "SALAD",
   "language": "python",
   "name": "salad"
  },
  "language_info": {
   "codemirror_mode": {
    "name": "ipython",
    "version": 3
   },
   "file_extension": ".py",
   "mimetype": "text/x-python",
   "name": "python",
   "nbconvert_exporter": "python",
   "pygments_lexer": "ipython3",
   "version": "3.11.7"
  }
 },
 "nbformat": 4,
 "nbformat_minor": 5
}
