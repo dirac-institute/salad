{
 "cells": [
  {
   "cell_type": "code",
   "execution_count": 4,
   "id": "61000e92",
   "metadata": {},
   "outputs": [],
   "source": [
    "from salad.serialize import read, write\n",
    "import matplotlib.pyplot as plt\n",
    "from astropy.timeseries import LombScargle\n",
    "import astropy.units as u\n",
    "from pathlib import Path\n",
    "import astropy.table\n",
    "import numpy as np\n",
    "\n",
    "def load_summary(search_prefix, detector, snr, time_type, search_label, step=\"filtered\"):\n",
    "    # get recoveries at a certain step\n",
    "    p = Path(f\"/epyc/projects/salad/search/{search_prefix}/DEEP/20190403/A0c/detector_{detector}/snr_{snr}/{time_type}/{search_label}\")\n",
    "    return read(list(p.rglob(f\"{step}_summary.pkl\"))[0])\n"
   ]
  },
  {
   "cell_type": "code",
   "execution_count": 3,
   "id": "5cf35a00",
   "metadata": {},
   "outputs": [],
   "source": [
    "summaries = {}\n",
    "for snr in [3.0]:\n",
    "    for detector in range(1, 63):\n",
    "        if detector in [2, 31, 61]:\n",
    "            continue\n",
    "        try:\n",
    "            clusters = load_summary(\"new\", detector, snr, \"regular\", \"asteroid\")\n",
    "            for c in clusters:\n",
    "                summaries[(detector, c)] = clusters[c].summary\n",
    "        except:\n",
    "            print(snr, detector)"
   ]
  },
  {
   "cell_type": "code",
   "execution_count": 5,
   "id": "3fb081f0",
   "metadata": {},
   "outputs": [],
   "source": [
    "write(summaries, \"../data/DEEP_20190403_A0c_objects.pkl\")"
   ]
  }
 ],
 "metadata": {
  "kernelspec": {
   "display_name": "SALAD",
   "language": "python",
   "name": "salad"
  },
  "language_info": {
   "codemirror_mode": {
    "name": "ipython",
    "version": 3
   },
   "file_extension": ".py",
   "mimetype": "text/x-python",
   "name": "python",
   "nbconvert_exporter": "python",
   "pygments_lexer": "ipython3",
   "version": "3.11.7"
  }
 },
 "nbformat": 4,
 "nbformat_minor": 5
}
