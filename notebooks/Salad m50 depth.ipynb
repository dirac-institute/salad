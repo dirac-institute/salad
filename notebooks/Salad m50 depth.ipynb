{
 "cells": [
  {
   "cell_type": "code",
   "execution_count": 2,
   "id": "8fc3d81c",
   "metadata": {},
   "outputs": [],
   "source": [
    "from salad.detection import detect\n",
    "from salad.directions import SearchDirections\n",
    "from salad.hough import Hough\n",
    "from salad.serialize import read"
   ]
  },
  {
   "cell_type": "code",
   "execution_count": null,
   "id": "d17a440e",
   "metadata": {},
   "outputs": [],
   "source": []
  }
 ],
 "metadata": {
  "kernelspec": {
   "display_name": "SALAD",
   "language": "python",
   "name": "salad"
  },
  "language_info": {
   "codemirror_mode": {
    "name": "ipython",
    "version": 3
   },
   "file_extension": ".py",
   "mimetype": "text/x-python",
   "name": "python",
   "nbconvert_exporter": "python",
   "pygments_lexer": "ipython3",
   "version": "3.11.7"
  }
 },
 "nbformat": 4,
 "nbformat_minor": 5
}
