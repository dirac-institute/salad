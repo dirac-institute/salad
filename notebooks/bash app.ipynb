{
 "cells": [
  {
   "cell_type": "code",
   "execution_count": 4,
   "id": "adf36734",
   "metadata": {},
   "outputs": [],
   "source": [
    "import argparse\n",
    "import sys\n",
    "from salad.single_search import parser\n",
    "# parser = argparse.ArgumentParser(prog=__name__)\n",
    "# parser.add_argument(\"input\", nargs=\"?\", type=argparse.FileType('rb'), default=sys.stdin)\n",
    "# parser.add_argument('output', type=str)\n",
    "# parser.add_argument(\"--fakes\", required=True)\n",
    "# parser.add_argument(\"--images\", required=True)\n",
    "# parser.add_argument(\"--velocity\", nargs=2, type=float, default=[0.1, 0.5])\n",
    "# parser.add_argument(\"--angle\", nargs=2, type=float, default=[120, 240])\n",
    "# parser.add_argument(\"--dx\", type=float, default=10)\n",
    "# parser.add_argument(\"--vote-threshold\", type=int, default=25)\n",
    "# parser.add_argument(\"--min-points\", type=int, default=15)\n",
    "# parser.add_argument(\"--processes\", \"-J\", type=int, default=1)\n",
    "# parser.add_argument(\"--gather-threshold\", nargs=\"+\", type=float, default=[1, 1, 1])\n"
   ]
  },
  {
   "cell_type": "code",
   "execution_count": 21,
   "id": "643118dd",
   "metadata": {},
   "outputs": [
    {
     "data": {
      "text/plain": [
       "_StoreAction(option_strings=[], dest='input', nargs='?', const=None, default=<_io.TextIOWrapper name='<stdin>' mode='r' encoding='utf-8'>, type=FileType('rb'), choices=None, required=False, help=None, metavar=None)"
      ]
     },
     "execution_count": 21,
     "metadata": {},
     "output_type": "execute_result"
    }
   ],
   "source": [
    "parser._actions[1]"
   ]
  },
  {
   "cell_type": "code",
   "execution_count": 55,
   "id": "03fd806f",
   "metadata": {},
   "outputs": [
    {
     "data": {
      "text/plain": [
       "'/bin/time --verbose salad single_search catalog.pkl single_search --fakes fakes.pkl --images images.pkl --velocity 0.1 0.5 --angle 120 240 --dx 10 --vote-threshold 25 --min-points 15 --processes 1 --gather-threshold 1 1 1'"
      ]
     },
     "execution_count": 55,
     "metadata": {},
     "output_type": "execute_result"
    }
   ],
   "source": [
    "def command_factory(parser, time=\"/bin/time --verbose\", prefix=\"salad\"):\n",
    "    def f(**kwargs):\n",
    "        cmd = []\n",
    "        if time:\n",
    "            cmd.append(time)\n",
    "        cmd.append(prefix)\n",
    "        cmd.append(parser.prog.split(f\"{prefix}.\")[1])\n",
    "        positional = []\n",
    "        optional = []\n",
    "        for action in parser._actions:\n",
    "            if isinstance(action, argparse._StoreAction):\n",
    "                if len(action.option_strings) == 0: # positional\n",
    "                    l = positional\n",
    "                else: # optional\n",
    "                    l = optional\n",
    "                    l.append(action.option_strings[0])\n",
    "\n",
    "                if action.dest in kwargs:\n",
    "                    v = kwargs[action.dest]\n",
    "                else:\n",
    "                    v = action.default\n",
    "\n",
    "                if v is not None:\n",
    "                    if v in [sys.stdin, sys.stdout, sys.stderr]:\n",
    "                        continue\n",
    "                    \n",
    "                    if isinstance(v, list):\n",
    "                        l.extend(v)\n",
    "                    else:\n",
    "                        l.append(v)\n",
    "                elif action.required:\n",
    "                    raise Exception(f\"must pass {action.dest} since it is a required argument and no default is specified\")\n",
    "\n",
    "        cmd = cmd + positional + optional\n",
    "\n",
    "        return \" \".join(map(str, cmd))\n",
    "    return f\n",
    "\n",
    "command_factory(parser)(\n",
    "    input=\"catalog.pkl\",\n",
    "    output=\"single_search\", \n",
    "    fakes=\"fakes.pkl\", \n",
    "    images=\"images.pkl\", \n",
    "    velocity=[0.1, 0.5]\n",
    ")"
   ]
  },
  {
   "cell_type": "code",
   "execution_count": 51,
   "id": "16e116cd",
   "metadata": {},
   "outputs": [],
   "source": [
    "from parsl import File, bash_app\n",
    "import parsl"
   ]
  },
  {
   "cell_type": "code",
   "execution_count": 56,
   "id": "15aefc6b",
   "metadata": {},
   "outputs": [
    {
     "ename": "RuntimeError",
     "evalue": "Must first load config",
     "output_type": "error",
     "traceback": [
      "\u001b[0;31m---------------------------------------------------------------------------\u001b[0m",
      "\u001b[0;31mRuntimeError\u001b[0m                              Traceback (most recent call last)",
      "Cell \u001b[0;32mIn[56], line 1\u001b[0m\n\u001b[0;32m----> 1\u001b[0m \u001b[43mbash_app\u001b[49m\u001b[43m(\u001b[49m\n\u001b[1;32m      2\u001b[0m \u001b[43m    \u001b[49m\u001b[43mcommand_factory\u001b[49m\u001b[43m(\u001b[49m\u001b[43mparser\u001b[49m\u001b[43m)\u001b[49m\n\u001b[1;32m      3\u001b[0m \u001b[43m)\u001b[49m\u001b[43m(\u001b[49m\n\u001b[1;32m      4\u001b[0m \u001b[43m        \u001b[49m\u001b[38;5;28;43minput\u001b[39;49m\u001b[38;5;241;43m=\u001b[39;49m\u001b[43mFile\u001b[49m\u001b[43m(\u001b[49m\u001b[38;5;124;43m\"\u001b[39;49m\u001b[38;5;124;43mcatalog.pkl\u001b[39;49m\u001b[38;5;124;43m\"\u001b[39;49m\u001b[43m)\u001b[49m\u001b[43m,\u001b[49m\n\u001b[1;32m      5\u001b[0m \u001b[43m        \u001b[49m\u001b[43moutput\u001b[49m\u001b[38;5;241;43m=\u001b[39;49m\u001b[38;5;124;43m\"\u001b[39;49m\u001b[38;5;124;43msingle_search\u001b[39;49m\u001b[38;5;124;43m\"\u001b[39;49m\u001b[43m,\u001b[49m\u001b[43m \u001b[49m\n\u001b[1;32m      6\u001b[0m \u001b[43m        \u001b[49m\u001b[43mfakes\u001b[49m\u001b[38;5;241;43m=\u001b[39;49m\u001b[38;5;124;43m\"\u001b[39;49m\u001b[38;5;124;43mfakes.pkl\u001b[39;49m\u001b[38;5;124;43m\"\u001b[39;49m\u001b[43m,\u001b[49m\u001b[43m \u001b[49m\n\u001b[1;32m      7\u001b[0m \u001b[43m        \u001b[49m\u001b[43mimages\u001b[49m\u001b[38;5;241;43m=\u001b[39;49m\u001b[38;5;124;43m\"\u001b[39;49m\u001b[38;5;124;43mimages.pkl\u001b[39;49m\u001b[38;5;124;43m\"\u001b[39;49m\u001b[43m,\u001b[49m\u001b[43m \u001b[49m\n\u001b[1;32m      8\u001b[0m \u001b[43m        \u001b[49m\u001b[43mvelocity\u001b[49m\u001b[38;5;241;43m=\u001b[39;49m\u001b[43m[\u001b[49m\u001b[38;5;241;43m0.1\u001b[39;49m\u001b[43m,\u001b[49m\u001b[43m \u001b[49m\u001b[38;5;241;43m0.5\u001b[39;49m\u001b[43m]\u001b[49m\n\u001b[1;32m      9\u001b[0m \u001b[43m)\u001b[49m\n",
      "File \u001b[0;32m/nvme/users/stevengs/opt_lsst/conda/envs/lsst-scipipe-8.0.0/lib/python3.11/site-packages/parsl/app/bash.py:144\u001b[0m, in \u001b[0;36mBashApp.__call__\u001b[0;34m(self, *args, **kwargs)\u001b[0m\n\u001b[1;32m    141\u001b[0m invocation_kwargs\u001b[38;5;241m.\u001b[39mupdate(kwargs)\n\u001b[1;32m    143\u001b[0m \u001b[38;5;28;01mif\u001b[39;00m \u001b[38;5;28mself\u001b[39m\u001b[38;5;241m.\u001b[39mdata_flow_kernel \u001b[38;5;129;01mis\u001b[39;00m \u001b[38;5;28;01mNone\u001b[39;00m:\n\u001b[0;32m--> 144\u001b[0m     dfk \u001b[38;5;241m=\u001b[39m \u001b[43mDataFlowKernelLoader\u001b[49m\u001b[38;5;241;43m.\u001b[39;49m\u001b[43mdfk\u001b[49m\u001b[43m(\u001b[49m\u001b[43m)\u001b[49m\n\u001b[1;32m    145\u001b[0m \u001b[38;5;28;01melse\u001b[39;00m:\n\u001b[1;32m    146\u001b[0m     dfk \u001b[38;5;241m=\u001b[39m \u001b[38;5;28mself\u001b[39m\u001b[38;5;241m.\u001b[39mdata_flow_kernel\n",
      "File \u001b[0;32m/nvme/users/stevengs/opt_lsst/conda/envs/lsst-scipipe-8.0.0/lib/python3.11/site-packages/parsl/dataflow/dflow.py:1432\u001b[0m, in \u001b[0;36mDataFlowKernelLoader.dfk\u001b[0;34m(cls)\u001b[0m\n\u001b[1;32m   1430\u001b[0m \u001b[38;5;250m\u001b[39m\u001b[38;5;124;03m\"\"\"Return the currently-loaded DataFlowKernel.\"\"\"\u001b[39;00m\n\u001b[1;32m   1431\u001b[0m \u001b[38;5;28;01mif\u001b[39;00m \u001b[38;5;28mcls\u001b[39m\u001b[38;5;241m.\u001b[39m_dfk \u001b[38;5;129;01mis\u001b[39;00m \u001b[38;5;28;01mNone\u001b[39;00m:\n\u001b[0;32m-> 1432\u001b[0m     \u001b[38;5;28;01mraise\u001b[39;00m \u001b[38;5;167;01mRuntimeError\u001b[39;00m(\u001b[38;5;124m'\u001b[39m\u001b[38;5;124mMust first load config\u001b[39m\u001b[38;5;124m'\u001b[39m)\n\u001b[1;32m   1433\u001b[0m \u001b[38;5;28;01mreturn\u001b[39;00m \u001b[38;5;28mcls\u001b[39m\u001b[38;5;241m.\u001b[39m_dfk\n",
      "\u001b[0;31mRuntimeError\u001b[0m: Must first load config"
     ]
    }
   ],
   "source": [
    "bash_app(\n",
    "    command_factory(parser)\n",
    ")(\n",
    "        input=File(\"catalog.pkl\"),\n",
    "        output=\"single_search\", \n",
    "        fakes=\"fakes.pkl\", \n",
    "        images=\"images.pkl\", \n",
    "        velocity=[0.1, 0.5]\n",
    ")"
   ]
  },
  {
   "cell_type": "code",
   "execution_count": null,
   "id": "645c76ae",
   "metadata": {},
   "outputs": [],
   "source": []
  }
 ],
 "metadata": {
  "kernelspec": {
   "display_name": "SALAD",
   "language": "python",
   "name": "salad"
  },
  "language_info": {
   "codemirror_mode": {
    "name": "ipython",
    "version": 3
   },
   "file_extension": ".py",
   "mimetype": "text/x-python",
   "name": "python",
   "nbconvert_exporter": "python",
   "pygments_lexer": "ipython3",
   "version": "3.11.7"
  }
 },
 "nbformat": 4,
 "nbformat_minor": 5
}
