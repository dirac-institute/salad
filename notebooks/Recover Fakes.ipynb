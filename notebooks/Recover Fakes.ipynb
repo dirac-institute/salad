{
 "cells": [
  {
   "cell_type": "code",
   "execution_count": 5,
   "id": "85e2333c",
   "metadata": {},
   "outputs": [],
   "source": [
    "from salad.cluster import Clusters\n",
    "from salad.serialize import Serializable"
   ]
  },
  {
   "cell_type": "code",
   "execution_count": null,
   "id": "eaffeeab",
   "metadata": {},
   "outputs": [],
   "source": []
  },
  {
   "cell_type": "code",
   "execution_count": 352,
   "id": "5f46aecd",
   "metadata": {},
   "outputs": [],
   "source": [
    "clusters = Clusters.read(\"/epyc/projects/salad/search/DEEP/20190403/A0c/detector_1/snr_5/gather_2.pkl\")\n",
    "catalog = Serializable.read(\"/epyc/projects/salad/search/DEEP/20190403/A0c/detector_1/snr_5/catalog.pkl\")\n",
    "pg_fakes = Serializable.read(\"/epyc/projects/salad/search/DEEP/20190403/A0c/fakes.pkl\")\n",
    "detector_fakes = Serializable.read(\"/epyc/projects/salad/search/DEEP/20190403/A0c/detector_1/fakes.pkl\")\n",
    "hough = Serializable.read(\"/epyc/projects/salad/search/DEEP/20190403/A0c/detector_1/snr_5/hough.pkl\")"
   ]
  },
  {
   "cell_type": "code",
   "execution_count": 181,
   "id": "a751bb92",
   "metadata": {},
   "outputs": [
    {
     "data": {
      "text/latex": [
       "$[[-0.4844277,~0.013885892],~\n",
       " [-0.4688554,~0.013885892],~\n",
       " [-0.4532831,~0.013885892],~\n",
       " \\dots,~\n",
       " [-0.2352709,~0.40319339],~\n",
       " [-0.2664155,~0.41876568],~\n",
       " [-0.2508432,~0.41876568]] \\; \\mathrm{\\frac{{}^{\\circ}}{d}}$"
      ],
      "text/plain": [
       "<Quantity [[-0.4844277 ,  0.01388589],\n",
       "           [-0.4688554 ,  0.01388589],\n",
       "           [-0.4532831 ,  0.01388589],\n",
       "           ...,\n",
       "           [-0.2352709 ,  0.40319339],\n",
       "           [-0.2664155 ,  0.41876568],\n",
       "           [-0.2508432 ,  0.41876568]] deg / d>"
      ]
     },
     "execution_count": 181,
     "metadata": {},
     "output_type": "execute_result"
    }
   ],
   "source": [
    "hough.projection.directions.b"
   ]
  },
  {
   "cell_type": "code",
   "execution_count": 322,
   "id": "208298b2",
   "metadata": {},
   "outputs": [
    {
     "data": {
      "text/plain": [
       "{13039521: False,\n",
       " 10564514: False,\n",
       " 14621325: True,\n",
       " 10053463: False,\n",
       " 13776855: True,\n",
       " 14813564: False,\n",
       " 10041343: False}"
      ]
     },
     "execution_count": 322,
     "metadata": {},
     "output_type": "execute_result"
    }
   ],
   "source": [
    "# loop over exposures\n",
    "\n",
    "def detections_in_catalog(fakes, catalog, match_threshold=1 * u.arcsec):\n",
    "    exposures = set(fakes['EXPNUM'])\n",
    "    orbits = set(fakes['ORBITID'])\n",
    "    catalog_coords = SkyCoord(catalog.ra, catalog.dec)\n",
    "    catalog_exposures = catalog.exposure\n",
    "    recoveries = {orbit: 0 for orbit in orbits}\n",
    "    for exposure in exposures:\n",
    "        exposure_catalog_coords = catalog_coords[catalog_exposures == exposure]\n",
    "        exposure_fakes = fakes[fakes['EXPNUM'] == exposure]\n",
    "        exposure_fakes_coords = SkyCoord(exposure_fakes['RA'] * u.deg, exposure_fakes['DEC'] * u.deg)\n",
    "        for fake, fake_coord in zip(exposure_fakes, exposure_fakes_coords):\n",
    "            sep = fake_coord.separation(exposure_catalog_coords)\n",
    "            matches = sep < match_threshold\n",
    "            num_matches = matches.sum()\n",
    "            if num_matches > 0:\n",
    "                recoveries[fake['ORBITID']] += num_matches\n",
    "                \n",
    "    return recoveries\n",
    "\n",
    "findable_detections = detections_in_catalog(detector_fakes, catalog)          \n",
    "    \n",
    "def velocity_in_hough(fakes, hough):\n",
    "    b = hough.projection.directions.b\n",
    "    recoveries = {}\n",
    "    for orbit in fakes.group_by(\"ORBITID\").groups:\n",
    "        dt = (orbit['mjd_mid'][-1] - orbit['mjd_mid'][0]) * u.day\n",
    "\n",
    "        if dt == 0:\n",
    "            vra = np.nan\n",
    "            vdec = np.nan\n",
    "        else:\n",
    "            dra = (orbit['RA'][-1] - orbit['RA'][0]) * u.deg\n",
    "            ddec = (orbit['DEC'][-1] - orbit['DEC'][0]) * u.deg\n",
    "            vra = dra / dt\n",
    "            vdec = ddec / dt\n",
    "        \n",
    "        dv = b - np.array([vra.value, vdec.value]) * u.deg/u.day\n",
    "        min_dv = ((dv**2).sum(axis=1)**0.5).min()\n",
    "        distance = min_dv * dt        \n",
    "        recoveries[orbit[0]['ORBITID']] = (distance < hough.dx * u.deg)\n",
    "    \n",
    "    return recoveries\n",
    "    \n",
    "findable_velocity = velocity_in_hough(detector_fakes, hough)\n",
    "\n",
    "# print(findable_detections, findable_velocity)\n",
    "findable = {}\n",
    "for orbit in findable_detections:\n",
    "    findable[orbit] = (findable_detections[orbit] > 25) and (findable_velocity[orbit])\n",
    "\n",
    "findable\n",
    "# exposure_catalog = catalog.X()[catalog.exposure]"
   ]
  },
  {
   "cell_type": "code",
   "execution_count": 330,
   "id": "4ed26ad7",
   "metadata": {},
   "outputs": [],
   "source": [
    "@lru_cache(maxsize=512)\n",
    "def match_time_to_exposure(t, catalog):\n",
    "    e = list(set(catalog.exposure[np.abs(catalog.time - t) < 1/(24*60*60)]))\n",
    "    return e"
   ]
  },
  {
   "cell_type": "code",
   "execution_count": 334,
   "id": "e29d3c31",
   "metadata": {},
   "outputs": [],
   "source": [
    "from salad.gather import gather"
   ]
  },
  {
   "cell_type": "code",
   "execution_count": 333,
   "id": "b9ac5f5a",
   "metadata": {},
   "outputs": [],
   "source": [
    "def recover(fakes, clusters, catalog, match_threshold=1 * u.arcsec):\n",
    "    \"\"\"\n",
    "    What I want to know is for each fake:\n",
    "    - how many clusters did it appear in\n",
    "    - which clusters did it appear in\n",
    "    - how often did it appear in those clusters?\n",
    "    The problem is that the match is on ra/dec/time but the connection is only implicit\n",
    "    unless the catalog is provided\n",
    "    \"\"\"\n",
    "    recoveries = {}\n",
    "    for orbit in fakes.group_by(\"ORBITID\").groups:\n",
    "        fake_coords = SkyCoord(orbit['RA'] * u.deg, orbit['DEC'] * u.deg)\n",
    "\n",
    "        fakes_lookup = {}\n",
    "        recovery = {}\n",
    "        for i, cluster in enumerate(clusters):\n",
    "            for x, y, t in cluster.points:\n",
    "                exposure = match_time_to_exposure(t, catalog)[0]\n",
    "                if exposure not in fakes_lookup:\n",
    "                    fakes_lookup[exposure] = fake_coords[orbit['EXPNUM'] == exposure]\n",
    "\n",
    "            cluster_coords = SkyCoord(cluster.points[:, 0] * u.deg, cluster.points[:, 1] * u.deg)\n",
    "            fakes_in_cluster = 0\n",
    "            for j, (coord, t) in enumerate(zip(cluster_coords, cluster.points[:, 2])):\n",
    "                exposure = match_time_to_exposure(t, catalog)[0]\n",
    "                fake_coord = fakes_lookup[exposure]\n",
    "                if len(fake_coord) == 0:\n",
    "                    continue\n",
    "\n",
    "                if len(fake_coord) > 1:\n",
    "                    print(orbit_id, exposure, len(fake_coord))\n",
    "                    \n",
    "                fake_coord = fake_coord[0]\n",
    "                sep = fake_coord.separation(coord)\n",
    "                if sep < match_threshold:\n",
    "                    fakes_in_cluster += 1\n",
    "\n",
    "            if fakes_in_cluster != 0:\n",
    "                recovery[i] = fakes_in_cluster\n",
    "        recoveries[orbit[0]['ORBITID']] = recovery\n",
    "\n",
    "    return recoveries\n",
    "\n",
    "fake_recoveries = recover(detector_fakes, clusters, catalog)"
   ]
  },
  {
   "cell_type": "code",
   "execution_count": 372,
   "id": "3df9a2c7",
   "metadata": {},
   "outputs": [
    {
     "name": "stderr",
     "output_type": "stream",
     "text": [
      "\n",
      "KeyboardInterrupt\n",
      "\n"
     ]
    }
   ],
   "source": [
    "def _recover(fakes, clusters, catalog, match_threshold=1 * u.arcsec, sky_units=u.deg, time_units=u.day):\n",
    "    exposures = set(fakes['EXPNUM'])\n",
    "    orbits = set(fakes['ORBITID'])\n",
    "    \n",
    "    X = catalog.X(columns=[\"ra\", \"dec\", \"time\"], sky_units=sky_units, time_units=time_units)\n",
    "\n",
    "    ra = X[:, 0] * sky_units\n",
    "    dec = X[:, 1] * sky_units\n",
    "    time = X[:, 2] * time_units\n",
    "    \n",
    "    catalog_coords = SkyCoord(catalog.ra, catalog.dec)\n",
    "    catalog_exposures = catalog.exposure\n",
    "    catalog_times = catalog.time\n",
    "    recoveries = {orbit: {} for orbit in orbits}\n",
    "    \n",
    "    for exposure in exposures:\n",
    "        catalog_mask = catalog_exposures == exposure\n",
    "        exposure_catalog_coords = catalog_coords[catalog_mask]\n",
    "        exposure_catalog_times = catalog_times[catalog_mask]\n",
    "        exposure_fakes = fakes[fakes['EXPNUM'] == exposure]\n",
    "        exposure_fakes_coords = SkyCoord(exposure_fakes['RA'] * u.deg, exposure_fakes['DEC'] * u.deg)\n",
    "        for fake, fake_coord in zip(exposure_fakes, exposure_fakes_coords):\n",
    "            for i, cluster in enumerate(clusters):\n",
    "                line = cluster.extra['line']\n",
    "                ra = exposure_catalog_coords.ra\n",
    "                dec = exposure_catalog_coords.dec\n",
    "                times = exposure_catalog_times.value * u.day\n",
    "#                 print(line.beta.unit, line.alpha.unit, times.unit)\n",
    "#                 print(np.dot(times[:, None] * u.day, line.beta).unit)\n",
    "#                 print(np.dot(times[:, None], line.beta) + line.alpha)\n",
    "                cluster_mask = gather(line, ra, dec, times, match_threshold)\n",
    "                cluster_coords = exposure_catalog_coords[cluster_mask]\n",
    "\n",
    "                sep = fake_coord.separation(cluster_coords)\n",
    "                matches = sep < match_threshold\n",
    "                num_matches = matches.sum()\n",
    "                if num_matches > 0:\n",
    "                    if i not in recoveries[fake['ORBITID']]:\n",
    "                        recoveries[fake['ORBITID']][i] = num_matches\n",
    "                    else:\n",
    "                        recoveries[fake['ORBITID']][i] += num_matches\n",
    "    \n",
    "    return recoveries\n",
    "            \n",
    "_recover(detector_fakes, clusters, catalog)"
   ]
  },
  {
   "cell_type": "code",
   "execution_count": 355,
   "id": "ecc0910f",
   "metadata": {},
   "outputs": [
    {
     "ename": "NameError",
     "evalue": "name 'times' is not defined",
     "output_type": "error",
     "traceback": [
      "\u001b[0;31m---------------------------------------------------------------------------\u001b[0m",
      "\u001b[0;31mNameError\u001b[0m                                 Traceback (most recent call last)",
      "Cell \u001b[0;32mIn[355], line 1\u001b[0m\n\u001b[0;32m----> 1\u001b[0m \u001b[43mtimes\u001b[49m\n",
      "\u001b[0;31mNameError\u001b[0m: name 'times' is not defined"
     ]
    }
   ],
   "source": [
    "times"
   ]
  },
  {
   "cell_type": "code",
   "execution_count": 318,
   "id": "cfcd9d9d",
   "metadata": {},
   "outputs": [
    {
     "name": "stdout",
     "output_type": "stream",
     "text": [
      "0.019610380472733942 deg 0.002777777777777778\n",
      "0.002254669904436475 deg 0.002777777777777778\n",
      "0.0002708780890078896 deg 0.002777777777777778\n",
      "0.001890712914422751 deg 0.002777777777777778\n",
      "0.00010674737135013097 deg 0.002777777777777778\n",
      "0.001274499346653099 deg 0.002777777777777778\n",
      "0.005704030264465074 deg 0.002777777777777778\n"
     ]
    },
    {
     "data": {
      "text/plain": [
       "{10041343: False,\n",
       " 10053463: True,\n",
       " 10564514: True,\n",
       " 13039521: True,\n",
       " 13776855: True,\n",
       " 14621325: True,\n",
       " 14813564: False}"
      ]
     },
     "execution_count": 318,
     "metadata": {},
     "output_type": "execute_result"
    }
   ],
   "source": [
    "\n",
    "            \n",
    "#         velocity_distance = np.array(\n",
    "#             [\n",
    "#                 (((b.value - np.array([d['vra'], d['vdec']]).T[i])**2).sum(axis=1)**0.5).min() for i in range(len(d))\n",
    "#             ]\n",
    "#         )\n",
    "#         dt = catalog.time.max() - catalog.time.min()\n",
    "\n",
    "#         velocity_detectable = (velocity_distance * dt) < dx\n",
    "\n",
    "    "
   ]
  },
  {
   "cell_type": "code",
   "execution_count": null,
   "id": "b5a2f90e",
   "metadata": {},
   "outputs": [],
   "source": [
    "from astropy.coordinates import SkyCoord\n",
    "\n",
    "def recover_fake(orbit_id, pg_fakes, search_exposures, points, results, match_threshold):\n",
    "    search_separations = dict()\n",
    "    search_detect = dict()\n",
    "    result_separations = dict()\n",
    "    result_detect = dict()\n",
    "    \n",
    "    fake = pg_fakes[pg_fakes['ORBITID'] == orbit_id]\n",
    "    fake_coords = SkyCoord(fake['RA'] * u.deg, fake['DEC'] * u.deg)\n",
    "\n",
    "    search_separations[orbit_id] = []\n",
    "    search_detect[orbit_id] = 0\n",
    "\n",
    "    result_separations[orbit_id] = [[] for result in results]\n",
    "    result_detect[orbit_id] = [0 for result in results]\n",
    "    \n",
    "    for i, expnum in enumerate(fake['EXPNUM']):\n",
    "        fake_coord = fake_coords[i]        \n",
    "        search_mask = search_exposures == expnum\n",
    "        search_points = points[search_mask]\n",
    "        search_coords = SkyCoord(search_points[:, 0] * u.deg, search_points[:, 1] * u.deg)\n",
    "        \n",
    "        search_separation = fake_coord.separation(search_coords)\n",
    "        search_match = (search_separation < match_threshold).sum()\n",
    "        \n",
    "        search_separations[orbit_id].append(search_separation)\n",
    "        search_detect[orbit_id] += search_match\n",
    "        for j, result in enumerate(results):\n",
    "            \n",
    "            result_mask = search_mask & result.close\n",
    "            result_points = points[result_mask]\n",
    "            result_coords = SkyCoord(result_points[:, 0] * u.deg, result_points[:, 1] * u.deg)\n",
    "            result_separation = fake_coord.separation(result_coords)\n",
    "            result_match = (result_separation < match_threshold).sum()\n",
    "\n",
    "            result_separations[orbit_id][j].append(result_separation)\n",
    "            result_detect[orbit_id][j] += result_match\n",
    "            \n",
    "    return search_separations, search_detect, result_separations, result_detect"
   ]
  },
  {
   "cell_type": "code",
   "execution_count": 55,
   "id": "26760ce7",
   "metadata": {},
   "outputs": [],
   "source": [
    "from astropy.coordinates import SkyCoord\n",
    "import astropy.units as u\n",
    "\n",
    "from functools import lru_cache\n",
    "import numpy as np\n",
    "\n",
    "@lru_cache(maxsize=512)\n",
    "def match_time_to_exposure(t):\n",
    "    e = list(set(catalog.exposure[np.abs(catalog.time - t) < 1/(24*60*60)]))\n",
    "    return e\n",
    "\n",
    "def recover_fake(orbit_id, pg_fakes, clusters, match_threshold):\n",
    "    fake = pg_fakes[pg_fakes['ORBITID'] == orbit_id]\n",
    "    fake_coords = SkyCoord(fake['RA'] * u.deg, fake['DEC'] * u.deg)\n",
    "    \n",
    "    fakes_lookup = {}\n",
    "    recovery = []\n",
    "    for i, cluster in enumerate(clusters):\n",
    "        for x, y, t in cluster.points:\n",
    "            exposure = match_time_to_exposure(t)[0]\n",
    "            if exposure not in fakes_lookup:\n",
    "                fakes_lookup[exposure] = fake_coords[fake['EXPNUM'] == exposure]\n",
    "                \n",
    "        cluster_coords = SkyCoord(cluster.points[:, 0] * u.deg, cluster.points[:, 1] * u.deg)\n",
    "        fakes_in_cluster = []\n",
    "        for j, (coord, t) in enumerate(zip(cluster_coords, cluster.points[:, 2])):\n",
    "            exposure = match_time_to_exposure(t)[0]\n",
    "            fake_coord = fakes_lookup[exposure]\n",
    "            if len(fake_coord) == 0:\n",
    "                continue\n",
    "                \n",
    "            if len(fake_coord) > 1:\n",
    "                print(orbit_id, exposure, len(fake_coord))\n",
    "            fake_coord = fake_coord[0]\n",
    "            sep = fake_coord.separation(coord)\n",
    "            if sep < match_threshold:\n",
    "                fakes_in_cluster.append((j, sep))\n",
    "        \n",
    "        recovery.append((i, fakes_in_cluster))\n",
    "    return recovery\n",
    "\n",
    "recoveries = {}\n",
    "for orbit in orbits:\n",
    "    recoveries[orbit] = recover_fake(orbit, pg_fakes, clusters, 1 * u.arcsec)"
   ]
  },
  {
   "cell_type": "code",
   "execution_count": 51,
   "id": "8a28af7f",
   "metadata": {},
   "outputs": [
    {
     "data": {
      "text/html": [
       "<div><i>Table length=7</i>\n",
       "<table id=\"table140389946792912\" class=\"table-striped table-bordered table-condensed\">\n",
       "<thead><tr><th>RA</th><th>DEC</th><th>EXPNUM</th><th>CCDNUM</th><th>ORBITID</th><th>aei</th><th>mjd_mid</th><th>TDB</th><th>xv</th><th>H_VR</th><th>AMP</th><th>PERIOD</th><th>PHASE</th><th>d</th><th>observatory</th><th>r</th><th>MAG</th><th>type</th></tr></thead>\n",
       "<thead><tr><th>float64</th><th>float64</th><th>int32</th><th>int64</th><th>int64</th><th>float64[6]</th><th>float64</th><th>float64</th><th>float64[6]</th><th>float64</th><th>float64</th><th>float64</th><th>float64</th><th>float64</th><th>float64[3]</th><th>float64</th><th>float64</th><th>str8</th></tr></thead>\n",
       "<tr><td>-143.72515360926803</td><td>-11.13808494705934</td><td>845964</td><td>1</td><td>10564514</td><td>4.744124923146405 .. 21.15054193472637</td><td>58577.373972736634</td><td>19.254961734419567</td><td>-3.9446562712288027 .. 1.0989200778250192</td><td>19.875462693294573</td><td>0.0173926475058557</td><td>665.1169914409637</td><td>3.20855259336801</td><td>4.646544109961093</td><td>-0.9716704729591126 .. -0.09358920446535941</td><td>3.7109126924668128</td><td>26.04136522995194</td><td>asteroid</td></tr>\n",
       "<tr><td>-143.96908432447114</td><td>-10.994978659780088</td><td>845964</td><td>1</td><td>13776855</td><td>4.604960583603774 .. 19.027256220603515</td><td>58577.373972736634</td><td>19.254961734419567</td><td>-3.240235124428043 .. 1.2445952448359225</td><td>18.916147877038295</td><td>0.26535089794784933</td><td>851.2908017572711</td><td>5.8763359899807295</td><td>3.755567515775062</td><td>-0.9716704729591126 .. -0.09358920446535941</td><td>2.8133556769716117</td><td>23.771487179199987</td><td>asteroid</td></tr>\n",
       "<tr><td>-143.80759095927417</td><td>-11.073198297661213</td><td>845964</td><td>1</td><td>10041343</td><td>2.71111629178837 .. 18.41855787530429</td><td>58577.373972736634</td><td>19.254961734419567</td><td>-2.421571146054563 .. -3.3211997804200095</td><td>19.121154628476752</td><td>0.0</td><td>0.0</td><td>0.0</td><td>2.676662924050746</td><td>-0.9716704729591126 .. -0.09358920446535941</td><td>1.7135546013824714</td><td>22.428612782624107</td><td>asteroid</td></tr>\n",
       "<tr><td>-143.81071329919916</td><td>-11.005962049344202</td><td>845964</td><td>1</td><td>14813564</td><td>4.813582190291083 .. 24.47630699787191</td><td>58577.373972736634</td><td>19.254961734419567</td><td>-4.2334007729886745 .. -2.425249823115864</td><td>17.626607257093205</td><td>0.0</td><td>0.0</td><td>0.0</td><td>5.032794602017321</td><td>-0.9716704729591126 .. -0.09358920446535941</td><td>4.102020766150644</td><td>24.200642562035306</td><td>asteroid</td></tr>\n",
       "<tr><td>-143.99750185305268</td><td>-10.998971037671753</td><td>845964</td><td>1</td><td>14621325</td><td>3.3506836355032688 .. 22.67246972153699</td><td>58577.373972736634</td><td>19.254961734419567</td><td>-3.4520510587674966 .. 0.9691793650608819</td><td>16.526482038360356</td><td>0.29709236982204834</td><td>608.5974010286963</td><td>3.997664281811296</td><td>4.027506743554383</td><td>-0.9716704729591126 .. -0.09358920446535941</td><td>3.0883013650925264</td><td>21.719748640176956</td><td>asteroid</td></tr>\n",
       "<tr><td>-143.74540805601396</td><td>-11.038597890286113</td><td>845964</td><td>1</td><td>10053463</td><td>4.185269708901746 .. 16.603446020387388</td><td>58577.373972736634</td><td>19.254961734419567</td><td>-3.6796048133265034 .. -1.9714708319724865</td><td>19.685265063034933</td><td>0.05371919848692803</td><td>709.6072870435283</td><td>5.868276430380363</td><td>4.3253985709038005</td><td>-0.9716704729591126 .. -0.09358920446535941</td><td>3.390066223050467</td><td>25.50263690102504</td><td>asteroid</td></tr>\n",
       "<tr><td>-143.8115003619338</td><td>-11.113263959776601</td><td>845964</td><td>1</td><td>13039521</td><td>4.483972210804367 .. 17.968228701022632</td><td>58577.373972736634</td><td>19.254961734419567</td><td>-3.7826960678926653 .. -1.9254621127723786</td><td>20.142308663612436</td><td>0.28363515991182864</td><td>1047.0235301096193</td><td>4.516134697461962</td><td>4.4524355789577745</td><td>-0.9716704729591126 .. -0.09358920446535941</td><td>3.5173896508776874</td><td>26.350221709239722</td><td>asteroid</td></tr>\n",
       "</table></div>"
      ],
      "text/plain": [
       "<Table length=7>\n",
       "         RA                 DEC         EXPNUM ...        MAG           type  \n",
       "      float64             float64       int32  ...      float64         str8  \n",
       "------------------- ------------------- ------ ... ------------------ --------\n",
       "-143.72515360926803  -11.13808494705934 845964 ...  26.04136522995194 asteroid\n",
       "-143.96908432447114 -10.994978659780088 845964 ... 23.771487179199987 asteroid\n",
       "-143.80759095927417 -11.073198297661213 845964 ... 22.428612782624107 asteroid\n",
       "-143.81071329919916 -11.005962049344202 845964 ... 24.200642562035306 asteroid\n",
       "-143.99750185305268 -10.998971037671753 845964 ... 21.719748640176956 asteroid\n",
       "-143.74540805601396 -11.038597890286113 845964 ...  25.50263690102504 asteroid\n",
       " -143.8115003619338 -11.113263959776601 845964 ... 26.350221709239722 asteroid"
      ]
     },
     "execution_count": 51,
     "metadata": {},
     "output_type": "execute_result"
    }
   ],
   "source": [
    "pg_fakes[pg_fakes['EXPNUM'] == 845964]"
   ]
  },
  {
   "cell_type": "code",
   "execution_count": 191,
   "id": "41559835",
   "metadata": {},
   "outputs": [
    {
     "name": "stdout",
     "output_type": "stream",
     "text": [
      "13039521 0 [] 0 []\n",
      "10564514 0 [] 0 []\n",
      "14621325 1 [(6, 85)] 85 [(6, 1.0)]\n",
      "10053463 0 [] 0 []\n",
      "13776855 2 [(16, 47), (94, 2)] 49 [(16, 0.9591836734693877), (94, 0.04081632653061224)]\n",
      "14813564 0 [] 0 []\n",
      "10041343 0 [] 0 []\n"
     ]
    },
    {
     "data": {
      "text/plain": [
       "{13039521: {'num_clusters': 0,\n",
       "  'num_per_cluster': [],\n",
       "  'num_detected': 0,\n",
       "  'purity': []},\n",
       " 10564514: {'num_clusters': 0,\n",
       "  'num_per_cluster': [],\n",
       "  'num_detected': 0,\n",
       "  'purity': []},\n",
       " 14621325: {'num_clusters': 1,\n",
       "  'num_per_cluster': [(6, 85)],\n",
       "  'num_detected': 85,\n",
       "  'purity': [(6, 1.0)]},\n",
       " 10053463: {'num_clusters': 0,\n",
       "  'num_per_cluster': [],\n",
       "  'num_detected': 0,\n",
       "  'purity': []},\n",
       " 13776855: {'num_clusters': 2,\n",
       "  'num_per_cluster': [(16, 47), (94, 2)],\n",
       "  'num_detected': 49,\n",
       "  'purity': [(16, 0.9591836734693877), (94, 0.04081632653061224)]},\n",
       " 14813564: {'num_clusters': 0,\n",
       "  'num_per_cluster': [],\n",
       "  'num_detected': 0,\n",
       "  'purity': []},\n",
       " 10041343: {'num_clusters': 0,\n",
       "  'num_per_cluster': [],\n",
       "  'num_detected': 0,\n",
       "  'purity': []}}"
      ]
     },
     "execution_count": 191,
     "metadata": {},
     "output_type": "execute_result"
    }
   ],
   "source": [
    "orbit_recoveries = {}\n",
    "for orbit in recoveries:\n",
    "    recovered_clusters = list(filter(lambda x : len(x[1]) > 0, recoveries[orbit]))\n",
    "    num_clusters = len(recovered_clusters)\n",
    "    num_per_cluster = list(map(lambda x : (x[0], len(x[1])), recovered_clusters))\n",
    "    num_detected = sum(map(lambda x : x[1], num_per_cluster))\n",
    "    purity = list(map(lambda x : (x[0], x[1]/num_detected), num_per_cluster))\n",
    "#     num_clusters = sum(map(lambda x : len(x[1]) > 0, recoveries[orbit]))\n",
    "#     num_detected = sum(map(lambda x : len(x[1]), recoveries[orbit]))\n",
    "#     clusters = list(map(lambda x : x[0], filter(lambda x : len(x[1]) > 0, recoveries[orbit])))\n",
    "    \n",
    "    print(orbit, num_clusters, num_per_cluster, num_detected, purity)\n",
    "    orbit_recoveries[orbit] = dict(\n",
    "        num_clusters=num_clusters, \n",
    "        num_per_cluster=num_per_cluster, \n",
    "        num_detected=num_detected, \n",
    "        purity=purity,\n",
    "    )\n",
    "orbit_recoveries"
   ]
  },
  {
   "cell_type": "code",
   "execution_count": 78,
   "id": "0c011f97",
   "metadata": {},
   "outputs": [
    {
     "data": {
      "text/latex": [
       "$[[-0.1489325,~0.15267518]] \\; \\mathrm{\\frac{{}^{\\circ}}{d}}$"
      ],
      "text/plain": [
       "<Quantity [[-0.1489325 ,  0.15267518]] deg / d>"
      ]
     },
     "execution_count": 78,
     "metadata": {},
     "output_type": "execute_result"
    }
   ],
   "source": [
    "clusters.clusters[6].extra['line'].beta"
   ]
  },
  {
   "cell_type": "code",
   "execution_count": 79,
   "id": "51bf2d9d",
   "metadata": {},
   "outputs": [
    {
     "data": {
      "text/latex": [
       "$[[-0.12583241,~0.18503595]] \\; \\mathrm{\\frac{{}^{\\circ}}{d}}$"
      ],
      "text/plain": [
       "<Quantity [[-0.12583241,  0.18503595]] deg / d>"
      ]
     },
     "execution_count": 79,
     "metadata": {},
     "output_type": "execute_result"
    }
   ],
   "source": [
    "clusters.clusters[16].extra['line'].beta"
   ]
  },
  {
   "cell_type": "code",
   "execution_count": 80,
   "id": "bed65c59",
   "metadata": {},
   "outputs": [
    {
     "data": {
      "text/latex": [
       "$[[-0.10722523,~0.029394507]] \\; \\mathrm{\\frac{{}^{\\circ}}{d}}$"
      ],
      "text/plain": [
       "<Quantity [[-0.10722523,  0.02939451]] deg / d>"
      ]
     },
     "execution_count": 80,
     "metadata": {},
     "output_type": "execute_result"
    }
   ],
   "source": [
    "clusters.clusters[94].extra['line'].beta"
   ]
  },
  {
   "cell_type": "code",
   "execution_count": 148,
   "id": "b90f2b36",
   "metadata": {},
   "outputs": [],
   "source": [
    "import matplotlib.pyplot as plt\n",
    "\n",
    "def plot_cluster(cluster, **kwargs):\n",
    "    p = cluster.points\n",
    "    x, y = p[:, 2][:, None], p[:, :2]\n",
    "#     regression_result = regression(x, y)\n",
    "    coord = (SkyCoord(y[:, 0] * u.deg, y[:, 1] * u.deg))\n",
    "    plt.scatter(coord.ra, coord.dec, **kwargs)\n",
    "\n",
    "def plot_result(result, x, **kwargs):\n",
    "    _x = np.linspace(x.min(), x.max(), 100)[:, None] * result.alpha.unit / result.beta.unit\n",
    "    _y = _x @ result.beta + result.alpha\n",
    "    coord = (SkyCoord(_y[:, 0], _y[:, 1]))\n",
    "    plt.plot(coord.ra, coord.dec, **kwargs)\n",
    "    \n",
    "def plot_fake(orbit, fakes, **kwargs):\n",
    "    r = fakes[fakes['ORBITID'] == orbit]\n",
    "    \n",
    "    coord = (SkyCoord(r['RA'] * u.deg, r['DEC'] * u.deg))\n",
    "    plt.scatter(coord.ra, coord.dec, **kwargs)\n",
    "#     plt.title(str(o) + \" VR~\" + str(r['H_VR'][0]))\n",
    "\n",
    "def plot_catalog(catalog, **kwargs):\n",
    "    coord = (SkyCoord(catalog.ra, catalog.dec))\n",
    "    \n",
    "    plt.scatter(coord.ra, coord.dec, **kwargs)"
   ]
  },
  {
   "cell_type": "code",
   "execution_count": null,
   "id": "b26b048a",
   "metadata": {},
   "outputs": [],
   "source": []
  },
  {
   "cell_type": "code",
   "execution_count": null,
   "id": "07da6520",
   "metadata": {},
   "outputs": [],
   "source": [
    "# for each fake, I should calculate\n",
    "# how often it was injected\n",
    "# how often it appeared in the detection catalog\n",
    "# its on-sky velocity\n",
    "# these can determine \"findability\""
   ]
  },
  {
   "cell_type": "code",
   "execution_count": 195,
   "id": "abf8df7b",
   "metadata": {},
   "outputs": [],
   "source": [
    "catalog_coords = {}\n",
    "for expnum in set(detector_fakes['EXPNUM']):\n",
    "    catalog_coords[expnum] = SkyCoord(\n",
    "        catalog.ra[catalog.exposure == expnum],\n",
    "        catalog.dec[catalog.exposure == expnum],\n",
    "    )\n",
    "\n",
    "\n",
    "d = []\n",
    "for orbit in detector_fakes.group_by(\"ORBITID\").groups:\n",
    "    orbit.sort(\"EXPNUM\")\n",
    "    n = len(orbit)\n",
    "    dt = orbit['mjd_mid'][-1] - orbit['mjd_mid'][0]\n",
    "    if dt == 0:\n",
    "        vra = np.nan\n",
    "        vdec = np.nan\n",
    "    else:\n",
    "        dra = orbit['RA'][-1] - orbit['RA'][0]\n",
    "        ddec = orbit['DEC'][-1] - orbit['DEC'][0]\n",
    "        vra = dra / dt\n",
    "        vdec = ddec / dt\n",
    "\n",
    "\n",
    "    in_catalog = 0\n",
    "    for row in orbit:\n",
    "        coord = SkyCoord(row['RA']*u.deg, row['DEC']*u.deg)\n",
    "        sep = coord.separation(catalog_coords[row['EXPNUM']])\n",
    "        matches = sep < 1 * u.arcsec\n",
    "        in_catalog += matches.sum()\n",
    "        \n",
    "    recovered_clusters = list(filter(lambda x : len(x[1]) > 0, recoveries[orbit[0]['ORBITID']]))\n",
    "    num_clusters = len(recovered_clusters)\n",
    "    num_per_cluster = list(map(lambda x : (x[0], len(x[1])), recovered_clusters))\n",
    "    num_detected = sum(map(lambda x : x[1], num_per_cluster))\n",
    "    purity = list(map(lambda x : (x[0], x[1]/num_detected), num_per_cluster))\n",
    "    max_purity = 0\n",
    "    for x in purity:\n",
    "        max_purity = max(x[1], max_purity)\n",
    "        \n",
    "    d.append(\n",
    "        dict(\n",
    "            ORBITID=orbit[0]['ORBITID'], \n",
    "            MAG=orbit[0]['MAG'], \n",
    "            n=n, \n",
    "            vra=vra, \n",
    "            vdec=vdec, \n",
    "            in_catalog=in_catalog,\n",
    "            num_clusters=num_clusters,\n",
    "            num_detected=num_detected,\n",
    "            max_purity=max_purity,\n",
    "        )\n",
    "    )\n",
    "d = astropy.table.Table(d)"
   ]
  },
  {
   "cell_type": "code",
   "execution_count": 196,
   "id": "64994f9c",
   "metadata": {},
   "outputs": [
    {
     "data": {
      "text/html": [
       "<div><i>Table length=7</i>\n",
       "<table id=\"table140389304110992\" class=\"table-striped table-bordered table-condensed\">\n",
       "<thead><tr><th>ORBITID</th><th>MAG</th><th>n</th><th>vra</th><th>vdec</th><th>in_catalog</th><th>num_clusters</th><th>num_detected</th><th>max_purity</th></tr></thead>\n",
       "<thead><tr><th>int64</th><th>float64</th><th>int64</th><th>float64</th><th>float64</th><th>int64</th><th>int64</th><th>int64</th><th>float64</th></tr></thead>\n",
       "<tr><td>10041343</td><td>22.42943705005781</td><td>104</td><td>-0.29713809493156784</td><td>-0.09604963855455591</td><td>100</td><td>0</td><td>0</td><td>0.0</td></tr>\n",
       "<tr><td>10053463</td><td>25.519660320084146</td><td>104</td><td>-0.15100897047828574</td><td>0.0029864641685746636</td><td>0</td><td>0</td><td>0</td><td>0.0</td></tr>\n",
       "<tr><td>10564514</td><td>26.041395418882704</td><td>21</td><td>-0.11873688880838078</td><td>0.12091516029456924</td><td>0</td><td>0</td><td>0</td><td>0.0</td></tr>\n",
       "<tr><td>13039521</td><td>26.39768282519579</td><td>104</td><td>-0.14286354030928058</td><td>0.0033363187450130703</td><td>0</td><td>0</td><td>0</td><td>0.0</td></tr>\n",
       "<tr><td>13776855</td><td>23.799304654954085</td><td>104</td><td>-0.1256695303635021</td><td>0.18511983953004849</td><td>47</td><td>2</td><td>49</td><td>0.9591836734693877</td></tr>\n",
       "<tr><td>14621325</td><td>21.755897962503614</td><td>104</td><td>-0.14885474993460884</td><td>0.1526942159246714</td><td>85</td><td>1</td><td>85</td><td>1.0</td></tr>\n",
       "<tr><td>14813564</td><td>24.2012042804041</td><td>104</td><td>-0.16369936876236016</td><td>-0.017466331230992248</td><td>7</td><td>0</td><td>0</td><td>0.0</td></tr>\n",
       "</table></div>"
      ],
      "text/plain": [
       "<Table length=7>\n",
       "ORBITID         MAG           n   ... num_detected     max_purity    \n",
       " int64        float64       int64 ...    int64          float64      \n",
       "-------- ------------------ ----- ... ------------ ------------------\n",
       "10041343  22.42943705005781   104 ...            0                0.0\n",
       "10053463 25.519660320084146   104 ...            0                0.0\n",
       "10564514 26.041395418882704    21 ...            0                0.0\n",
       "13039521  26.39768282519579   104 ...            0                0.0\n",
       "13776855 23.799304654954085   104 ...           49 0.9591836734693877\n",
       "14621325 21.755897962503614   104 ...           85                1.0\n",
       "14813564   24.2012042804041   104 ...            0                0.0"
      ]
     },
     "execution_count": 196,
     "metadata": {},
     "output_type": "execute_result"
    }
   ],
   "source": [
    "d"
   ]
  },
  {
   "cell_type": "code",
   "execution_count": 204,
   "id": "1470c2d8",
   "metadata": {},
   "outputs": [
    {
     "data": {
      "text/plain": [
       "104"
      ]
     },
     "execution_count": 204,
     "metadata": {},
     "output_type": "execute_result"
    }
   ],
   "source": [
    "catalog.num_times"
   ]
  },
  {
   "cell_type": "code",
   "execution_count": 288,
   "id": "1b4191e7",
   "metadata": {},
   "outputs": [],
   "source": [
    "velocity_distance = np.array(\n",
    "    [(((b.value - np.array([d['vra'], d['vdec']]).T[i])**2).sum(axis=1)**0.5).min() for i in range(len(d))]\n",
    ")\n",
    "dt = catalog.time.max() - catalog.time.min()\n",
    "\n",
    "velocity_detectable = (velocity_distance * dt * 3600) < 10\n",
    "catalog_detectable = d['in_catalog'] > catalog.num_times / 4\n",
    "\n",
    "detectable = velocity_detectable & catalog_detectable"
   ]
  },
  {
   "cell_type": "code",
   "execution_count": 289,
   "id": "43623f9d",
   "metadata": {},
   "outputs": [
    {
     "data": {
      "text/plain": [
       "array([False, False, False, False,  True,  True, False])"
      ]
     },
     "execution_count": 289,
     "metadata": {},
     "output_type": "execute_result"
    }
   ],
   "source": [
    "detectable"
   ]
  },
  {
   "cell_type": "code",
   "execution_count": 282,
   "id": "3f339bba",
   "metadata": {},
   "outputs": [],
   "source": []
  },
  {
   "cell_type": "code",
   "execution_count": 281,
   "id": "e5d360e9",
   "metadata": {},
   "outputs": [],
   "source": []
  },
  {
   "cell_type": "code",
   "execution_count": 285,
   "id": "7c0f9cea",
   "metadata": {},
   "outputs": [],
   "source": []
  },
  {
   "cell_type": "code",
   "execution_count": 252,
   "id": "9797f531",
   "metadata": {},
   "outputs": [
    {
     "data": {
      "text/plain": [
       "array([-0.18728961,  0.10993553])"
      ]
     },
     "execution_count": 252,
     "metadata": {},
     "output_type": "execute_result"
    }
   ],
   "source": [
    "np.diag(np.subtract.outer(b.value, np.array([d['vra'], d['vdec']]))[0, :, :, 0])"
   ]
  },
  {
   "cell_type": "code",
   "execution_count": 277,
   "id": "b6881171",
   "metadata": {},
   "outputs": [
    {
     "data": {
      "image/png": "[encoded data removed]",
      "text/plain": [
       "<Figure size 640x480 with 2 Axes>"
      ]
     },
     "metadata": {},
     "output_type": "display_data"
    }
   ],
   "source": [
    "b = hough.projection.directions.b\n",
    "plt.scatter(b[:, 0], b[:, 1])\n",
    "# plt.scatter(d['vra'], d['vdec'], c=d['in_catalog']/d['n'])\n",
    "plt.scatter(d['vra'], d['vdec'], c=distance)\n",
    "plt.colorbar()\n",
    "plt.show()"
   ]
  },
  {
   "cell_type": "code",
   "execution_count": 175,
   "id": "2178c475",
   "metadata": {},
   "outputs": [
    {
     "data": {
      "image/png": "[encoded data removed]",
      "text/plain": [
       "<Figure size 640x480 with 1 Axes>"
      ]
     },
     "metadata": {},
     "output_type": "display_data"
    }
   ],
   "source": [
    "import astropy.table\n",
    "d = astropy.table.Table(d)\n",
    "plt.scatter(d['MAG'], d['in_catalog']/d['n'])\n",
    "plt.show()"
   ]
  },
  {
   "cell_type": "code",
   "execution_count": 165,
   "id": "08f7b192",
   "metadata": {},
   "outputs": [
    {
     "data": {
      "image/png": "[encoded data removed]",
      "text/plain": [
       "<Figure size 640x480 with 1 Axes>"
      ]
     },
     "metadata": {},
     "output_type": "display_data"
    },
    {
     "data": {
      "image/png": "[encoded data removed]",
      "text/plain": [
       "<Figure size 640x480 with 1 Axes>"
      ]
     },
     "metadata": {},
     "output_type": "display_data"
    },
    {
     "data": {
      "image/png": "[encoded data removed]",
      "text/plain": [
       "<Figure size 640x480 with 1 Axes>"
      ]
     },
     "metadata": {},
     "output_type": "display_data"
    }
   ],
   "source": [
    "fig = plt.figure()\n",
    "plot_catalog(catalog, s=1)\n",
    "plt.xlim(catalog.ra.to(u.deg).min().value - 60/3600, catalog.ra.to(u.deg).max().value + 60/3600)\n",
    "plt.ylim(catalog.dec.to(u.deg).min().value - 60/3600, catalog.dec.to(u.deg).max().value + 60/3600)\n",
    "plt.show()\n",
    "\n",
    "fig = plt.figure()\n",
    "for cluster in clusters:\n",
    "    plot_cluster(cluster, s=1)\n",
    "    \n",
    "plt.xlim(catalog.ra.to(u.deg).min().value - 60/3600, catalog.ra.to(u.deg).max().value + 60/3600)\n",
    "plt.ylim(catalog.dec.to(u.deg).min().value - 60/3600, catalog.dec.to(u.deg).max().value + 60/3600)\n",
    "plt.show()\n",
    "\n",
    "fig = plt.figure()    \n",
    "for orbit in set(pg_fakes['ORBITID']):\n",
    "    plot_fake(orbit, pg_fakes, facecolors='none', edgecolors='k', s=1)\n",
    "    \n",
    "plt.xlim(catalog.ra.to(u.deg).min().value - 60/3600, catalog.ra.to(u.deg).max().value + 60/3600)\n",
    "plt.ylim(catalog.dec.to(u.deg).min().value - 60/3600, catalog.dec.to(u.deg).max().value + 60/3600)\n",
    "plt.show()"
   ]
  },
  {
   "cell_type": "code",
   "execution_count": 147,
   "id": "210c78a9",
   "metadata": {},
   "outputs": [
    {
     "ename": "ValueError",
     "evalue": "operands could not be broadcast together with shapes (129,) (104,) ",
     "output_type": "error",
     "traceback": [
      "\u001b[0;31m---------------------------------------------------------------------------\u001b[0m",
      "\u001b[0;31mValueError\u001b[0m                                Traceback (most recent call last)",
      "Cell \u001b[0;32mIn[147], line 4\u001b[0m\n\u001b[1;32m      1\u001b[0m \u001b[43mSkyCoord\u001b[49m\u001b[43m(\u001b[49m\n\u001b[1;32m      2\u001b[0m \u001b[43m    \u001b[49m\u001b[43morbit\u001b[49m\u001b[43m[\u001b[49m\u001b[38;5;124;43m'\u001b[39;49m\u001b[38;5;124;43mRA\u001b[39;49m\u001b[38;5;124;43m'\u001b[39;49m\u001b[43m]\u001b[49m\u001b[38;5;241;43m*\u001b[39;49m\u001b[43mu\u001b[49m\u001b[38;5;241;43m.\u001b[39;49m\u001b[43mdeg\u001b[49m\u001b[43m,\u001b[49m\u001b[43m \u001b[49m\n\u001b[1;32m      3\u001b[0m \u001b[43m    \u001b[49m\u001b[43morbit\u001b[49m\u001b[43m[\u001b[49m\u001b[38;5;124;43m'\u001b[39;49m\u001b[38;5;124;43mDEC\u001b[39;49m\u001b[38;5;124;43m'\u001b[39;49m\u001b[43m]\u001b[49m\u001b[38;5;241;43m*\u001b[39;49m\u001b[43mu\u001b[49m\u001b[38;5;241;43m.\u001b[39;49m\u001b[43mdeg\u001b[49m\n\u001b[0;32m----> 4\u001b[0m \u001b[43m)\u001b[49m\u001b[38;5;241;43m.\u001b[39;49m\u001b[43mseparation\u001b[49m\u001b[43m(\u001b[49m\n\u001b[1;32m      5\u001b[0m \u001b[43m    \u001b[49m\u001b[43mcatalog_coords\u001b[49m\u001b[43m[\u001b[49m\u001b[38;5;241;43m845872\u001b[39;49m\u001b[43m]\u001b[49m\n\u001b[1;32m      6\u001b[0m \u001b[43m)\u001b[49m\n",
      "File \u001b[0;32m/nvme/users/stevengs/opt_lsst/conda/envs/lsst-scipipe-8.0.0/lib/python3.11/site-packages/astropy/coordinates/sky_coordinate.py:1189\u001b[0m, in \u001b[0;36mSkyCoord.separation\u001b[0;34m(self, other)\u001b[0m\n\u001b[1;32m   1186\u001b[0m lat2 \u001b[38;5;241m=\u001b[39m other\u001b[38;5;241m.\u001b[39mspherical\u001b[38;5;241m.\u001b[39mlat\n\u001b[1;32m   1188\u001b[0m \u001b[38;5;66;03m# Get the separation as a Quantity, convert to Angle in degrees\u001b[39;00m\n\u001b[0;32m-> 1189\u001b[0m sep \u001b[38;5;241m=\u001b[39m \u001b[43mangular_separation\u001b[49m\u001b[43m(\u001b[49m\u001b[43mlon1\u001b[49m\u001b[43m,\u001b[49m\u001b[43m \u001b[49m\u001b[43mlat1\u001b[49m\u001b[43m,\u001b[49m\u001b[43m \u001b[49m\u001b[43mlon2\u001b[49m\u001b[43m,\u001b[49m\u001b[43m \u001b[49m\u001b[43mlat2\u001b[49m\u001b[43m)\u001b[49m\n\u001b[1;32m   1190\u001b[0m \u001b[38;5;28;01mreturn\u001b[39;00m Angle(sep, unit\u001b[38;5;241m=\u001b[39mu\u001b[38;5;241m.\u001b[39mdegree)\n",
      "File \u001b[0;32m/nvme/users/stevengs/opt_lsst/conda/envs/lsst-scipipe-8.0.0/lib/python3.11/site-packages/astropy/coordinates/angles/utils.py:54\u001b[0m, in \u001b[0;36mangular_separation\u001b[0;34m(lon1, lat1, lon2, lat2)\u001b[0m\n\u001b[1;32m     29\u001b[0m \u001b[38;5;28;01mdef\u001b[39;00m \u001b[38;5;21mangular_separation\u001b[39m(lon1, lat1, lon2, lat2):\n\u001b[1;32m     30\u001b[0m \u001b[38;5;250m    \u001b[39m\u001b[38;5;124;03m\"\"\"\u001b[39;00m\n\u001b[1;32m     31\u001b[0m \u001b[38;5;124;03m    Angular separation between two points on a sphere.\u001b[39;00m\n\u001b[1;32m     32\u001b[0m \n\u001b[0;32m   (...)\u001b[0m\n\u001b[1;32m     52\u001b[0m \u001b[38;5;124;03m    .. [1] https://en.wikipedia.org/wiki/Great-circle_distance\u001b[39;00m\n\u001b[1;32m     53\u001b[0m \u001b[38;5;124;03m    \"\"\"\u001b[39;00m\n\u001b[0;32m---> 54\u001b[0m     sdlon \u001b[38;5;241m=\u001b[39m np\u001b[38;5;241m.\u001b[39msin(\u001b[43mlon2\u001b[49m\u001b[43m \u001b[49m\u001b[38;5;241;43m-\u001b[39;49m\u001b[43m \u001b[49m\u001b[43mlon1\u001b[49m)\n\u001b[1;32m     55\u001b[0m     cdlon \u001b[38;5;241m=\u001b[39m np\u001b[38;5;241m.\u001b[39mcos(lon2 \u001b[38;5;241m-\u001b[39m lon1)\n\u001b[1;32m     56\u001b[0m     slat1 \u001b[38;5;241m=\u001b[39m np\u001b[38;5;241m.\u001b[39msin(lat1)\n",
      "File \u001b[0;32m/nvme/users/stevengs/opt_lsst/conda/envs/lsst-scipipe-8.0.0/lib/python3.11/site-packages/astropy/coordinates/angles/core.py:734\u001b[0m, in \u001b[0;36mLongitude.__array_ufunc__\u001b[0;34m(self, *args, **kwargs)\u001b[0m\n\u001b[1;32m    733\u001b[0m \u001b[38;5;28;01mdef\u001b[39;00m \u001b[38;5;21m__array_ufunc__\u001b[39m(\u001b[38;5;28mself\u001b[39m, \u001b[38;5;241m*\u001b[39margs, \u001b[38;5;241m*\u001b[39m\u001b[38;5;241m*\u001b[39mkwargs):\n\u001b[0;32m--> 734\u001b[0m     results \u001b[38;5;241m=\u001b[39m \u001b[38;5;28;43msuper\u001b[39;49m\u001b[43m(\u001b[49m\u001b[43m)\u001b[49m\u001b[38;5;241;43m.\u001b[39;49m\u001b[43m__array_ufunc__\u001b[49m\u001b[43m(\u001b[49m\u001b[38;5;241;43m*\u001b[39;49m\u001b[43margs\u001b[49m\u001b[43m,\u001b[49m\u001b[43m \u001b[49m\u001b[38;5;241;43m*\u001b[39;49m\u001b[38;5;241;43m*\u001b[39;49m\u001b[43mkwargs\u001b[49m\u001b[43m)\u001b[49m\n\u001b[1;32m    735\u001b[0m     \u001b[38;5;28;01mreturn\u001b[39;00m _no_angle_subclass(results)\n",
      "File \u001b[0;32m/nvme/users/stevengs/opt_lsst/conda/envs/lsst-scipipe-8.0.0/lib/python3.11/site-packages/astropy/units/quantity.py:691\u001b[0m, in \u001b[0;36mQuantity.__array_ufunc__\u001b[0;34m(self, function, method, *inputs, **kwargs)\u001b[0m\n\u001b[1;32m    689\u001b[0m     \u001b[38;5;28;01mreturn\u001b[39;00m \u001b[38;5;28mNotImplemented\u001b[39m\n\u001b[1;32m    690\u001b[0m \u001b[38;5;28;01melse\u001b[39;00m:\n\u001b[0;32m--> 691\u001b[0m     \u001b[38;5;28;01mraise\u001b[39;00m e\n",
      "File \u001b[0;32m/nvme/users/stevengs/opt_lsst/conda/envs/lsst-scipipe-8.0.0/lib/python3.11/site-packages/astropy/units/quantity.py:666\u001b[0m, in \u001b[0;36mQuantity.__array_ufunc__\u001b[0;34m(self, function, method, *inputs, **kwargs)\u001b[0m\n\u001b[1;32m    663\u001b[0m     arrays\u001b[38;5;241m.\u001b[39mappend(converter(input_) \u001b[38;5;28;01mif\u001b[39;00m converter \u001b[38;5;28;01melse\u001b[39;00m input_)\n\u001b[1;32m    665\u001b[0m \u001b[38;5;66;03m# Call our superclass's __array_ufunc__\u001b[39;00m\n\u001b[0;32m--> 666\u001b[0m result \u001b[38;5;241m=\u001b[39m \u001b[38;5;28;43msuper\u001b[39;49m\u001b[43m(\u001b[49m\u001b[43m)\u001b[49m\u001b[38;5;241;43m.\u001b[39;49m\u001b[43m__array_ufunc__\u001b[49m\u001b[43m(\u001b[49m\u001b[43mfunction\u001b[49m\u001b[43m,\u001b[49m\u001b[43m \u001b[49m\u001b[43mmethod\u001b[49m\u001b[43m,\u001b[49m\u001b[43m \u001b[49m\u001b[38;5;241;43m*\u001b[39;49m\u001b[43marrays\u001b[49m\u001b[43m,\u001b[49m\u001b[43m \u001b[49m\u001b[38;5;241;43m*\u001b[39;49m\u001b[38;5;241;43m*\u001b[39;49m\u001b[43mkwargs\u001b[49m\u001b[43m)\u001b[49m\n\u001b[1;32m    667\u001b[0m \u001b[38;5;66;03m# If unit is None, a plain array is expected (e.g., comparisons), which\u001b[39;00m\n\u001b[1;32m    668\u001b[0m \u001b[38;5;66;03m# means we're done.\u001b[39;00m\n\u001b[1;32m    669\u001b[0m \u001b[38;5;66;03m# We're also done if the result was None (for method 'at') or\u001b[39;00m\n\u001b[1;32m    670\u001b[0m \u001b[38;5;66;03m# NotImplemented, which can happen if other inputs/outputs override\u001b[39;00m\n\u001b[1;32m    671\u001b[0m \u001b[38;5;66;03m# __array_ufunc__; hopefully, they can then deal with us.\u001b[39;00m\n\u001b[1;32m    672\u001b[0m \u001b[38;5;28;01mif\u001b[39;00m unit \u001b[38;5;129;01mis\u001b[39;00m \u001b[38;5;28;01mNone\u001b[39;00m \u001b[38;5;129;01mor\u001b[39;00m result \u001b[38;5;129;01mis\u001b[39;00m \u001b[38;5;28;01mNone\u001b[39;00m \u001b[38;5;129;01mor\u001b[39;00m result \u001b[38;5;129;01mis\u001b[39;00m \u001b[38;5;28mNotImplemented\u001b[39m:\n",
      "\u001b[0;31mValueError\u001b[0m: operands could not be broadcast together with shapes (129,) (104,) "
     ]
    }
   ],
   "source": [
    "SkyCoord(\n",
    "    orbit['RA']*u.deg, \n",
    "    orbit['DEC']*u.deg\n",
    ").separation(\n",
    "    catalog_coords[845872]\n",
    ")"
   ]
  },
  {
   "cell_type": "code",
   "execution_count": 141,
   "id": "215360d8",
   "metadata": {},
   "outputs": [
    {
     "data": {
      "text/latex": [
       "[$812.214\\mathrm{{}^{\\prime\\prime}}$ $700.87\\mathrm{{}^{\\prime\\prime}}$\n",
       " $694.133\\mathrm{{}^{\\prime\\prime}}$ $692.188\\mathrm{{}^{\\prime\\prime}}$\n",
       " $683.606\\mathrm{{}^{\\prime\\prime}}$ $678.934\\mathrm{{}^{\\prime\\prime}}$\n",
       " $756.91\\mathrm{{}^{\\prime\\prime}}$ $690.932\\mathrm{{}^{\\prime\\prime}}$\n",
       " $665.443\\mathrm{{}^{\\prime\\prime}}$ $708.385\\mathrm{{}^{\\prime\\prime}}$\n",
       " $607.252\\mathrm{{}^{\\prime\\prime}}$ $657.941\\mathrm{{}^{\\prime\\prime}}$\n",
       " $585.026\\mathrm{{}^{\\prime\\prime}}$ $608.827\\mathrm{{}^{\\prime\\prime}}$\n",
       " $546.047\\mathrm{{}^{\\prime\\prime}}$ $551.711\\mathrm{{}^{\\prime\\prime}}$\n",
       " $670.182\\mathrm{{}^{\\prime\\prime}}$ $596.259\\mathrm{{}^{\\prime\\prime}}$\n",
       " $548.317\\mathrm{{}^{\\prime\\prime}}$ $671.96\\mathrm{{}^{\\prime\\prime}}$\n",
       " $513.753\\mathrm{{}^{\\prime\\prime}}$ $493.225\\mathrm{{}^{\\prime\\prime}}$\n",
       " $492.478\\mathrm{{}^{\\prime\\prime}}$ $490.238\\mathrm{{}^{\\prime\\prime}}$\n",
       " $509.098\\mathrm{{}^{\\prime\\prime}}$ $585.938\\mathrm{{}^{\\prime\\prime}}$\n",
       " $481.976\\mathrm{{}^{\\prime\\prime}}$ $526.992\\mathrm{{}^{\\prime\\prime}}$\n",
       " $467.015\\mathrm{{}^{\\prime\\prime}}$ $472.617\\mathrm{{}^{\\prime\\prime}}$\n",
       " $463.758\\mathrm{{}^{\\prime\\prime}}$ $484.589\\mathrm{{}^{\\prime\\prime}}$\n",
       " $409.112\\mathrm{{}^{\\prime\\prime}}$ $410.95\\mathrm{{}^{\\prime\\prime}}$\n",
       " $405.178\\mathrm{{}^{\\prime\\prime}}$ $365.561\\mathrm{{}^{\\prime\\prime}}$\n",
       " $361.516\\mathrm{{}^{\\prime\\prime}}$ $356.786\\mathrm{{}^{\\prime\\prime}}$\n",
       " $363.38\\mathrm{{}^{\\prime\\prime}}$ $352.794\\mathrm{{}^{\\prime\\prime}}$\n",
       " $339.425\\mathrm{{}^{\\prime\\prime}}$ $287.391\\mathrm{{}^{\\prime\\prime}}$\n",
       " $267.973\\mathrm{{}^{\\prime\\prime}}$ $267.949\\mathrm{{}^{\\prime\\prime}}$\n",
       " $260.391\\mathrm{{}^{\\prime\\prime}}$ $473.45\\mathrm{{}^{\\prime\\prime}}$\n",
       " $258.401\\mathrm{{}^{\\prime\\prime}}$ $229.775\\mathrm{{}^{\\prime\\prime}}$\n",
       " $249.373\\mathrm{{}^{\\prime\\prime}}$ $472.945\\mathrm{{}^{\\prime\\prime}}$\n",
       " $458\\mathrm{{}^{\\prime\\prime}}$ $220.966\\mathrm{{}^{\\prime\\prime}}$\n",
       " $330.154\\mathrm{{}^{\\prime\\prime}}$ $194.736\\mathrm{{}^{\\prime\\prime}}$\n",
       " $291.571\\mathrm{{}^{\\prime\\prime}}$ $288.412\\mathrm{{}^{\\prime\\prime}}$\n",
       " $370.885\\mathrm{{}^{\\prime\\prime}}$ $366.468\\mathrm{{}^{\\prime\\prime}}$\n",
       " $367.006\\mathrm{{}^{\\prime\\prime}}$ $368.438\\mathrm{{}^{\\prime\\prime}}$\n",
       " $150.139\\mathrm{{}^{\\prime\\prime}}$ $144.119\\mathrm{{}^{\\prime\\prime}}$\n",
       " $148.365\\mathrm{{}^{\\prime\\prime}}$ $146.099\\mathrm{{}^{\\prime\\prime}}$\n",
       " $143.939\\mathrm{{}^{\\prime\\prime}}$ $145.789\\mathrm{{}^{\\prime\\prime}}$\n",
       " $149.45\\mathrm{{}^{\\prime\\prime}}$ $145.406\\mathrm{{}^{\\prime\\prime}}$\n",
       " $151.589\\mathrm{{}^{\\prime\\prime}}$ $270.915\\mathrm{{}^{\\prime\\prime}}$\n",
       " $131.509\\mathrm{{}^{\\prime\\prime}}$ $137.423\\mathrm{{}^{\\prime\\prime}}$\n",
       " $343.192\\mathrm{{}^{\\prime\\prime}}$ $346.28\\mathrm{{}^{\\prime\\prime}}$\n",
       " $342.043\\mathrm{{}^{\\prime\\prime}}$ $341.967\\mathrm{{}^{\\prime\\prime}}$\n",
       " $352.923\\mathrm{{}^{\\prime\\prime}}$ $330.691\\mathrm{{}^{\\prime\\prime}}$\n",
       " $159.924\\mathrm{{}^{\\prime\\prime}}$ $186.537\\mathrm{{}^{\\prime\\prime}}$\n",
       " $167.79\\mathrm{{}^{\\prime\\prime}}$ $179.461\\mathrm{{}^{\\prime\\prime}}$\n",
       " $129.883\\mathrm{{}^{\\prime\\prime}}$ $130.402\\mathrm{{}^{\\prime\\prime}}$\n",
       " $133.557\\mathrm{{}^{\\prime\\prime}}$ $313.437\\mathrm{{}^{\\prime\\prime}}$\n",
       " $211.815\\mathrm{{}^{\\prime\\prime}}$ $290.454\\mathrm{{}^{\\prime\\prime}}$\n",
       " $247.387\\mathrm{{}^{\\prime\\prime}}$ $60.117\\mathrm{{}^{\\prime\\prime}}$\n",
       " $54.347\\mathrm{{}^{\\prime\\prime}}$ $59.7424\\mathrm{{}^{\\prime\\prime}}$\n",
       " $58.8248\\mathrm{{}^{\\prime\\prime}}$ $23.8046\\mathrm{{}^{\\prime\\prime}}$\n",
       " $278.342\\mathrm{{}^{\\prime\\prime}}$ $234.378\\mathrm{{}^{\\prime\\prime}}$\n",
       " $238.073\\mathrm{{}^{\\prime\\prime}}$ $239.192\\mathrm{{}^{\\prime\\prime}}$\n",
       " $237.568\\mathrm{{}^{\\prime\\prime}}$ $405.924\\mathrm{{}^{\\prime\\prime}}$\n",
       " $405.44\\mathrm{{}^{\\prime\\prime}}$ $69.4955\\mathrm{{}^{\\prime\\prime}}$\n",
       " $67.1432\\mathrm{{}^{\\prime\\prime}}$ $73.5392\\mathrm{{}^{\\prime\\prime}}$\n",
       " $222.777\\mathrm{{}^{\\prime\\prime}}$ $324.053\\mathrm{{}^{\\prime\\prime}}$\n",
       " $340.311\\mathrm{{}^{\\prime\\prime}}$ $345.627\\mathrm{{}^{\\prime\\prime}}$\n",
       " $220.911\\mathrm{{}^{\\prime\\prime}}$ $219.438\\mathrm{{}^{\\prime\\prime}}$\n",
       " $180.297\\mathrm{{}^{\\prime\\prime}}$ $250.741\\mathrm{{}^{\\prime\\prime}}$\n",
       " $461.03\\mathrm{{}^{\\prime\\prime}}$ $438.781\\mathrm{{}^{\\prime\\prime}}$\n",
       " $446.876\\mathrm{{}^{\\prime\\prime}}$ $204.87\\mathrm{{}^{\\prime\\prime}}$\n",
       " $201.444\\mathrm{{}^{\\prime\\prime}}$ $218.418\\mathrm{{}^{\\prime\\prime}}$\n",
       " $253.707\\mathrm{{}^{\\prime\\prime}}$ $261.316\\mathrm{{}^{\\prime\\prime}}$\n",
       " $244.42\\mathrm{{}^{\\prime\\prime}}$ $248.297\\mathrm{{}^{\\prime\\prime}}$\n",
       " $448.12\\mathrm{{}^{\\prime\\prime}}$ $310.294\\mathrm{{}^{\\prime\\prime}}$\n",
       " $396.075\\mathrm{{}^{\\prime\\prime}}$ $391.413\\mathrm{{}^{\\prime\\prime}}$\n",
       " $336.377\\mathrm{{}^{\\prime\\prime}}$ $368.832\\mathrm{{}^{\\prime\\prime}}$\n",
       " $447.402\\mathrm{{}^{\\prime\\prime}}$]"
      ],
      "text/plain": [
       "<Angle [812.21415236, 700.87020457, 694.13290851, 692.18802737,\n",
       "        683.60643571, 678.93355851, 756.90952079, 690.93218387,\n",
       "        665.44305712, 708.38523413, 607.25201491, 657.94077398,\n",
       "        585.0256354 , 608.82727423, 546.04748558, 551.71060964,\n",
       "        670.18173578, 596.25902634, 548.31695993, 671.95955982,\n",
       "        513.75278815, 493.22451732, 492.47783468, 490.23775915,\n",
       "        509.09812014, 585.93831871, 481.97587664, 526.99245944,\n",
       "        467.01507448, 472.61663608, 463.75844289, 484.58933093,\n",
       "        409.11185892, 410.95043117, 405.17849258, 365.56105327,\n",
       "        361.51647769, 356.78613609, 363.37983538, 352.79382365,\n",
       "        339.42510897, 287.39056966, 267.97324278, 267.94932168,\n",
       "        260.39087528, 473.45000336, 258.40076796, 229.77467118,\n",
       "        249.37328118, 472.94477272, 458.00011216, 220.96647946,\n",
       "        330.15403176, 194.73619058, 291.57125528, 288.41156328,\n",
       "        370.88505054, 366.46830753, 367.0057594 , 368.43814995,\n",
       "        150.13926376, 144.11851128, 148.3651127 , 146.09886931,\n",
       "        143.9385001 , 145.78851062, 149.44980584, 145.4055616 ,\n",
       "        151.58923342, 270.914572  , 131.50948797, 137.42275895,\n",
       "        343.19185182, 346.27985241, 342.04292865, 341.9672069 ,\n",
       "        352.92344207, 330.69090398, 159.92368807, 186.53741257,\n",
       "        167.78969503, 179.46093771, 129.88257494, 130.40241937,\n",
       "        133.55730087, 313.43703789, 211.81504278, 290.45362852,\n",
       "        247.38730582,  60.11703131,  54.34703642,  59.74241864,\n",
       "         58.82477317,  23.80463203, 278.34165386, 234.37819625,\n",
       "        238.07305973, 239.19208653, 237.56810099, 405.92405759,\n",
       "        405.43974573,  69.49548529,  67.14315021,  73.53917247,\n",
       "        222.77687416, 324.05266651, 340.31063895, 345.62733917,\n",
       "        220.91130769, 219.43817772, 180.29713436, 250.74094618,\n",
       "        461.02967795, 438.78052371, 446.87603611, 204.87007953,\n",
       "        201.44404644, 218.41844247, 253.70735919, 261.3162189 ,\n",
       "        244.42049961, 248.29650911, 448.12033085, 310.29408995,\n",
       "        396.07488425, 391.41338335, 336.3767712 , 368.83204701,\n",
       "        447.40213755] arcsec>"
      ]
     },
     "execution_count": 141,
     "metadata": {},
     "output_type": "execute_result"
    }
   ],
   "source": [
    "coord.separation(catalog_coords[845872]).to(u.arcsec)"
   ]
  },
  {
   "cell_type": "code",
   "execution_count": 123,
   "id": "ccc30bb5",
   "metadata": {},
   "outputs": [
    {
     "data": {
      "image/png": "[encoded data removed]",
      "text/plain": [
       "<Figure size 640x480 with 1 Axes>"
      ]
     },
     "metadata": {},
     "output_type": "display_data"
    }
   ],
   "source": [
    "plot_fake(13776855, pg_fakes, s=1, c='k')\n",
    "plot_cluster(clusters.clusters[16], s=4)\n",
    "plot_cluster(clusters.clusters[94], s=3)\n",
    "plot_result(clusters.clusters[16].extra['line'], clusters.clusters[16].points[:, 2])"
   ]
  },
  {
   "cell_type": "code",
   "execution_count": 18,
   "id": "cbbfd57c",
   "metadata": {},
   "outputs": [],
   "source": [
    "cluster = next(iter(clusters))"
   ]
  },
  {
   "cell_type": "code",
   "execution_count": 36,
   "id": "b2487bf4",
   "metadata": {},
   "outputs": [],
   "source": []
  },
  {
   "cell_type": "code",
   "execution_count": 37,
   "id": "ed5795cf",
   "metadata": {},
   "outputs": [
    {
     "name": "stdout",
     "output_type": "stream",
     "text": [
      "58577.236239315476 [845884]\n",
      "58577.26024303492 [845898]\n",
      "58577.31930518523 [845932]\n",
      "58577.32617918216 [845936]\n",
      "58577.2935738028 [845917]\n",
      "58577.22251877701 [845876]\n",
      "58577.21909338422 [845874]\n",
      "58577.35574921034 [845953]\n",
      "58577.28477227222 [845912]\n",
      "58577.26367424941 [845900]\n",
      "58577.36953355977 [845961]\n",
      "58577.393984940834 [845975]\n",
      "58577.22080451343 [845875]\n",
      "58577.32789804274 [845937]\n",
      "58577.243096433114 [845888]\n",
      "58577.2744987444 [845906]\n",
      "58577.35231478186 [845951]\n",
      "58577.376813050825 [845965]\n",
      "58577.309025622904 [845926]\n",
      "58577.33304221975 [845940]\n",
      "58577.28649721248 [845913]\n",
      "58577.350590350106 [845950]\n",
      "58577.27964247903 [845909]\n",
      "58577.22423474211 [845877]\n",
      "58577.366100089625 [845959]\n",
      "58577.21731682867 [845873]\n",
      "58577.37509831553 [845964]\n",
      "58577.23280570097 [845882]\n",
      "58577.367808049545 [845960]\n",
      "58577.35403168155 [845952]\n",
      "58577.3038813998 [845923]\n",
      "58577.322749470826 [845934]\n",
      "58577.23109729914 [845881]\n",
      "58577.26934225019 [845903]\n",
      "58577.25853315601 [845897]\n",
      "58577.33647356043 [845942]\n",
      "58577.24996029213 [845892]\n",
      "58577.28306610184 [845911]\n",
      "58577.25339507358 [845894]\n",
      "58577.267632504925 [845902]\n",
      "58577.33991330024 [845944]\n",
      "58577.390541809145 [845973]\n",
      "58577.39226360712 [845974]\n",
      "58577.33132773498 [845939]\n",
      "58577.23795545893 [845885]\n",
      "58577.31759259151 [845931]\n",
      "58577.38024196215 [845967]\n",
      "58577.28823456215 [845914]\n",
      "58577.33818823891 [845943]\n",
      "58577.36435971595 [845958]\n",
      "58577.22767416015 [845879]\n",
      "58577.25681393687 [845896]\n",
      "58577.21560552204 [845872]\n",
      "58577.388831184246 [845972]\n",
      "58577.357468087226 [845954]\n",
      "58577.22595066577 [845878]\n",
      "58577.239668010734 [845886]\n",
      "58577.28135578893 [845910]\n",
      "58577.3107364038 [845927]\n",
      "58577.387109267525 [845971]\n",
      "58577.3626282746 [845957]\n",
      "58577.295296105556 [845918]\n",
      "58577.24824256776 [845891]\n",
      "58577.29167612828 [845916]\n",
      "58577.26539428998 [845901]\n",
      "58577.26195997931 [845899]\n",
      "58577.33475460578 [845941]\n",
      "58577.314166565426 [845929]\n",
      "58577.36091073789 [845956]\n",
      "58577.300449041184 [845921]\n",
      "58577.315877085086 [845930]\n",
      "58577.32103756955 [845933]\n",
      "58577.324465583544 [845935]\n",
      "58577.24652480567 [845890]\n",
      "58577.373365429696 [845963]\n",
      "58577.37852532789 [845966]\n",
      "58577.28995492682 [845915]\n",
      "58577.24138312228 [845887]\n",
      "58577.30216465937 [845922]\n",
      "58577.24480912974 [845889]\n",
      "58577.27277321322 [845905]\n",
      "58577.29700846039 [845919]\n",
      "58577.298730730545 [845920]\n",
      "58577.34162331978 [845945]\n",
      "58577.38195688883 [845968]\n",
      "58577.25167098874 [845893]\n",
      "58577.27620981308 [845907]\n",
      "58577.25510205701 [845895]\n",
      "58577.31245103199 [845928]\n",
      "58577.34887263365 [845949]\n",
      "58577.38366577728 [845969]\n",
      "58577.277923052665 [845908]\n",
      "58577.385399164166 [845970]\n",
      "58577.32961164648 [845938]\n"
     ]
    }
   ],
   "source": [
    "import numpy as np\n",
    "\n",
    "for t in cluster.points[:, 2]:\n",
    "    e = match_time_to_exposure(t)\n",
    "    print(t, e)"
   ]
  },
  {
   "cell_type": "code",
   "execution_count": null,
   "id": "a9a8c042",
   "metadata": {},
   "outputs": [],
   "source": [
    "recover_fakes(orbits[0], pg_fakes, )"
   ]
  }
 ],
 "metadata": {
  "kernelspec": {
   "display_name": "SALAD",
   "language": "python",
   "name": "salad"
  },
  "language_info": {
   "codemirror_mode": {
    "name": "ipython",
    "version": 3
   },
   "file_extension": ".py",
   "mimetype": "text/x-python",
   "name": "python",
   "nbconvert_exporter": "python",
   "pygments_lexer": "ipython3",
   "version": "3.11.7"
  }
 },
 "nbformat": 4,
 "nbformat_minor": 5
}
