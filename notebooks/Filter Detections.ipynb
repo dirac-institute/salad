{
 "cells": [
  {
   "cell_type": "code",
   "execution_count": 11,
   "id": "6aea3748",
   "metadata": {},
   "outputs": [],
   "source": [
    "from salad.serialize import Serializable\n",
    "import matplotlib.pyplot as plt\n",
    "import numpy as np"
   ]
  },
  {
   "cell_type": "code",
   "execution_count": 15,
   "id": "e7b7e994",
   "metadata": {},
   "outputs": [],
   "source": [
    "snr_3 = Serializable.read(\"../search/tmp/DEEP/20190403/A0c/detector_3/snr_3/catalog.pkl\")\n",
    "snr_5 = Serializable.read(\"../search/tmp/DEEP/20190403/A0c/detector_3/snr_5/catalog.pkl\")"
   ]
  },
  {
   "cell_type": "code",
   "execution_count": 16,
   "id": "f5095c47",
   "metadata": {},
   "outputs": [
    {
     "data": {
      "text/plain": [
       "False"
      ]
     },
     "execution_count": 16,
     "metadata": {},
     "output_type": "execute_result"
    }
   ],
   "source": [
    "(snr_3.significance < 3).any()"
   ]
  },
  {
   "cell_type": "code",
   "execution_count": 19,
   "id": "462450cf",
   "metadata": {},
   "outputs": [
    {
     "data": {
      "text/plain": [
       "False"
      ]
     },
     "execution_count": 19,
     "metadata": {},
     "output_type": "execute_result"
    }
   ],
   "source": [
    "(snr_5.significance < 5).any()"
   ]
  },
  {
   "cell_type": "code",
   "execution_count": 25,
   "id": "83246e29",
   "metadata": {},
   "outputs": [],
   "source": [
    "snr_5_from_3 = snr_3.significance >= 5"
   ]
  },
  {
   "cell_type": "code",
   "execution_count": 28,
   "id": "5e8cd40a",
   "metadata": {},
   "outputs": [
    {
     "data": {
      "text/plain": [
       "9609"
      ]
     },
     "execution_count": 28,
     "metadata": {},
     "output_type": "execute_result"
    }
   ],
   "source": [
    "len(snr_5.ra)"
   ]
  },
  {
   "cell_type": "code",
   "execution_count": 36,
   "id": "a214e837",
   "metadata": {},
   "outputs": [],
   "source": [
    "snr_5_x = snr_5.X()"
   ]
  },
  {
   "cell_type": "code",
   "execution_count": 38,
   "id": "11c643b0",
   "metadata": {},
   "outputs": [],
   "source": [
    "snr_5_from_3_x = snr_3.X()[snr_5_from_3]"
   ]
  },
  {
   "cell_type": "code",
   "execution_count": 43,
   "id": "d88c924b",
   "metadata": {},
   "outputs": [
    {
     "data": {
      "text/plain": [
       "(9226, 3)"
      ]
     },
     "execution_count": 43,
     "metadata": {},
     "output_type": "execute_result"
    }
   ],
   "source": [
    "snr_5_from_3_x.shape"
   ]
  },
  {
   "cell_type": "code",
   "execution_count": 42,
   "id": "0e66a0a3",
   "metadata": {},
   "outputs": [
    {
     "data": {
      "text/plain": [
       "(9609, 3)"
      ]
     },
     "execution_count": 42,
     "metadata": {},
     "output_type": "execute_result"
    }
   ],
   "source": [
    "snr_5_x.shape"
   ]
  },
  {
   "cell_type": "code",
   "execution_count": null,
   "id": "a62cdf96",
   "metadata": {},
   "outputs": [],
   "source": [
    "snr_5_x"
   ]
  }
 ],
 "metadata": {
  "kernelspec": {
   "display_name": "SALAD",
   "language": "python",
   "name": "salad"
  },
  "language_info": {
   "codemirror_mode": {
    "name": "ipython",
    "version": 3
   },
   "file_extension": ".py",
   "mimetype": "text/x-python",
   "name": "python",
   "nbconvert_exporter": "python",
   "pygments_lexer": "ipython3",
   "version": "3.11.7"
  }
 },
 "nbformat": 4,
 "nbformat_minor": 5
}
