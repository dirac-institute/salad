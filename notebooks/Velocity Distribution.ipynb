{
 "cells": [
  {
   "cell_type": "code",
   "execution_count": 1,
   "id": "278bd325",
   "metadata": {},
   "outputs": [],
   "source": [
    "from salad.serialize import read, write\n",
    "import matplotlib.pyplot as plt\n",
    "from astropy.timeseries import LombScargle\n",
    "import astropy.units as u\n",
    "from pathlib import Path\n",
    "import astropy.table\n",
    "import numpy as np\n",
    "\n",
    "def load_summary(search_prefix, detector, snr, time_type, search_label, step=\"filtered\"):\n",
    "    # get recoveries at a certain step\n",
    "    p = Path(f\"/epyc/projects/salad/search/{search_prefix}/DEEP/20190403/A0c/detector_{detector}/snr_{snr}/{time_type}/{search_label}\")\n",
    "    return read(list(p.rglob(f\"{step}_summary.pkl\"))[0])\n"
   ]
  },
  {
   "cell_type": "code",
   "execution_count": 2,
   "id": "e54c93c9",
   "metadata": {},
   "outputs": [],
   "source": [
    "all_clusters = {}\n",
    "for snr in [3.0]:\n",
    "    for detector in range(1, 63):\n",
    "        if detector in [2, 31, 61]:\n",
    "            continue\n",
    "        try:\n",
    "            clusters = load_summary(\"new\", detector, snr, \"regular\", \"asteroid\")\n",
    "        except:\n",
    "            print(snr, detector)\n",
    "            continue\n",
    "        for c in clusters:\n",
    "            all_clusters[(detector, c)] = clusters[c]"
   ]
  },
  {
   "cell_type": "code",
   "execution_count": 3,
   "id": "8c85e637",
   "metadata": {},
   "outputs": [],
   "source": [
    "from salad.deduplicate import deduplicate"
   ]
  },
  {
   "cell_type": "code",
   "execution_count": 4,
   "id": "1e69ab99",
   "metadata": {},
   "outputs": [],
   "source": [
    "cluster = all_clusters[next(iter(all_clusters.keys()))]"
   ]
  },
  {
   "cell_type": "code",
   "execution_count": 5,
   "id": "e7a85269",
   "metadata": {},
   "outputs": [],
   "source": [
    "time_zero = cluster.summary['time'].min() * u.day\n",
    "time_max = cluster.summary['time'].max() * u.day"
   ]
  },
  {
   "cell_type": "code",
   "execution_count": 6,
   "id": "652bf361",
   "metadata": {},
   "outputs": [
    {
     "data": {
      "text/latex": [
       "$58577.216 \\; \\mathrm{d}$"
      ],
      "text/plain": [
       "<Quantity 58577.21560552 d>"
      ]
     },
     "execution_count": 6,
     "metadata": {},
     "output_type": "execute_result"
    }
   ],
   "source": [
    "time_zero"
   ]
  },
  {
   "cell_type": "code",
   "execution_count": 7,
   "id": "02dba12f",
   "metadata": {},
   "outputs": [
    {
     "data": {
      "text/latex": [
       "$[[216.08737,~-11.071211]] \\; \\mathrm{{}^{\\circ}}$"
      ],
      "text/plain": [
       "<Quantity [[216.08736933, -11.07121083]] deg>"
      ]
     },
     "execution_count": 7,
     "metadata": {},
     "output_type": "execute_result"
    }
   ],
   "source": [
    "cluster.line.predict(time_zero)"
   ]
  },
  {
   "cell_type": "code",
   "execution_count": 8,
   "id": "fe03b0f7",
   "metadata": {},
   "outputs": [],
   "source": [
    "deduplicated, duplicates = deduplicate(\n",
    "    all_clusters, time_zero, \n",
    "    5 * u.arcsec, \n",
    "    1 * u.arcsec/(time_max - time_zero)\n",
    ")"
   ]
  },
  {
   "cell_type": "code",
   "execution_count": 9,
   "id": "0b84cbbb",
   "metadata": {},
   "outputs": [
    {
     "data": {
      "text/plain": [
       "1260"
      ]
     },
     "execution_count": 9,
     "metadata": {},
     "output_type": "execute_result"
    }
   ],
   "source": [
    "len(deduplicated)"
   ]
  },
  {
   "cell_type": "code",
   "execution_count": 10,
   "id": "977a88b4",
   "metadata": {},
   "outputs": [
    {
     "data": {
      "text/plain": [
       "{(13, 819): (14, 491)}"
      ]
     },
     "execution_count": 10,
     "metadata": {},
     "output_type": "execute_result"
    }
   ],
   "source": [
    "duplicates"
   ]
  },
  {
   "cell_type": "code",
   "execution_count": 14,
   "id": "a40e0041",
   "metadata": {},
   "outputs": [
    {
     "data": {
      "text/latex": [
       "$[[-0.21564472,~0.028355862]] \\; \\mathrm{\\frac{{}^{\\circ}}{d}}$"
      ],
      "text/plain": [
       "<Quantity [[-0.21564472,  0.02835586]] deg / d>"
      ]
     },
     "execution_count": 14,
     "metadata": {},
     "output_type": "execute_result"
    }
   ],
   "source": [
    "all_clusters[(13, 819)].line.beta"
   ]
  },
  {
   "cell_type": "code",
   "execution_count": 15,
   "id": "3af68132",
   "metadata": {},
   "outputs": [
    {
     "data": {
      "text/latex": [
       "$[[-0.21661047,~0.028077201]] \\; \\mathrm{\\frac{{}^{\\circ}}{d}}$"
      ],
      "text/plain": [
       "<Quantity [[-0.21661047,  0.0280772 ]] deg / d>"
      ]
     },
     "execution_count": 15,
     "metadata": {},
     "output_type": "execute_result"
    }
   ],
   "source": [
    "all_clusters[(14, 491)].line.beta"
   ]
  },
  {
   "cell_type": "code",
   "execution_count": 11,
   "id": "bc8ba31a",
   "metadata": {},
   "outputs": [
    {
     "data": {
      "text/plain": [
       "1261"
      ]
     },
     "execution_count": 11,
     "metadata": {},
     "output_type": "execute_result"
    }
   ],
   "source": [
    "len(all_clusters)"
   ]
  },
  {
   "cell_type": "code",
   "execution_count": 18,
   "id": "f51fbfb5",
   "metadata": {},
   "outputs": [],
   "source": [
    "velocity = []\n",
    "for k in all_clusters:\n",
    "    vx = all_clusters[k].line.beta[0, 0]\n",
    "    vy = all_clusters[k].line.beta[0, 1]\n",
    "    velocity.append(\n",
    "        {\n",
    "            \"detector\": k[0],\n",
    "            \"cluster\": k[1],\n",
    "            \"vx\": vx,\n",
    "            \"vy\": vy,\n",
    "        }\n",
    "    )\n",
    "velocity = astropy.table.Table(velocity)"
   ]
  },
  {
   "cell_type": "code",
   "execution_count": 27,
   "id": "d8d491bf",
   "metadata": {},
   "outputs": [
    {
     "data": {
      "image/png": "[encoded data removed]",
      "text/plain": [
       "<Figure size 600x600 with 1 Axes>"
      ]
     },
     "metadata": {},
     "output_type": "display_data"
    }
   ],
   "source": [
    "fig = plt.figure(dpi=150, figsize=[4, 4])\n",
    "plt.scatter(velocity['vx'], velocity['vy'], s=1)\n",
    "plt.xlabel(\"v_RA (deg/day)\")\n",
    "plt.ylabel(\"v_Dec (deg/day)\")\n",
    "plt.show()"
   ]
  },
  {
   "cell_type": "code",
   "execution_count": null,
   "id": "9e9ebbf8",
   "metadata": {},
   "outputs": [],
   "source": []
  }
 ],
 "metadata": {
  "kernelspec": {
   "display_name": "SALAD",
   "language": "python",
   "name": "salad"
  },
  "language_info": {
   "codemirror_mode": {
    "name": "ipython",
    "version": 3
   },
   "file_extension": ".py",
   "mimetype": "text/x-python",
   "name": "python",
   "nbconvert_exporter": "python",
   "pygments_lexer": "ipython3",
   "version": "3.11.7"
  }
 },
 "nbformat": 4,
 "nbformat_minor": 5
}
