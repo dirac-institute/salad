{
 "cells": [
  {
   "cell_type": "code",
   "execution_count": 1,
   "id": "824b1b77",
   "metadata": {},
   "outputs": [
    {
     "name": "stdout",
     "output_type": "stream",
     "text": [
      "../search/single_search/DEEP/20190403/A0c/detector_1/snr_5.0/regular/gathered_0_recovery.pkl 7\n",
      "../search/single_search/DEEP/20190403/A0c/detector_1/snr_5.0/regular/clusters_recovery.pkl 7\n",
      "../search/single_search/DEEP/20190403/A0c/detector_1/snr_5.0/regular/filtered_recovery.pkl 7\n",
      "../search/single_search/DEEP/20190403/A0c/detector_1/snr_5.0/regular/gathered_1_recovery.pkl 7\n",
      "../search/single_search/DEEP/20190403/A0c/detector_1/snr_5.0/regular/gathered_2_recovery.pkl 7\n",
      "../search/single_search/DEEP/20190403/A0c/detector_1/snr_5.0/regular/deduplicated_recovery.pkl 7\n",
      "../search/single_search/DEEP/20190403/A0c/detector_1/snr_5.0/regular/gathered_3_recovery.pkl 7\n",
      "../search/single_search/DEEP/20190403/A0c/detector_1/snr_5.0/regular/gathered_4_recovery.pkl 7\n",
      "../search/single_search/DEEP/20190403/A0c/detector_1/snr_4.5/regular/gathered_0_recovery.pkl 7\n",
      "../search/single_search/DEEP/20190403/A0c/detector_1/snr_4.5/regular/clusters_recovery.pkl 7\n",
      "../search/single_search/DEEP/20190403/A0c/detector_1/snr_4.5/regular/gathered_2_recovery.pkl 7\n",
      "../search/single_search/DEEP/20190403/A0c/detector_1/snr_4.5/regular/gathered_1_recovery.pkl 7\n",
      "../search/single_search/DEEP/20190403/A0c/detector_1/snr_4.5/regular/gathered_3_recovery.pkl 7\n",
      "../search/single_search/DEEP/20190403/A0c/detector_1/snr_4.5/regular/gathered_4_recovery.pkl 7\n",
      "../search/single_search/DEEP/20190403/A0c/detector_1/snr_4.5/regular/filtered_recovery.pkl 7\n",
      "../search/single_search/DEEP/20190403/A0c/detector_1/snr_4.5/regular/deduplicated_recovery.pkl 7\n",
      "../search/single_search/DEEP/20190403/A0c/detector_1/snr_4.0/regular/clusters_recovery.pkl 7\n",
      "../search/single_search/DEEP/20190403/A0c/detector_1/snr_4.0/regular/gathered_0_recovery.pkl 7\n",
      "../search/single_search/DEEP/20190403/A0c/detector_1/snr_4.0/regular/gathered_1_recovery.pkl 7\n",
      "../search/single_search/DEEP/20190403/A0c/detector_1/snr_4.0/regular/gathered_2_recovery.pkl 7\n",
      "../search/single_search/DEEP/20190403/A0c/detector_1/snr_4.0/regular/gathered_3_recovery.pkl 7\n",
      "../search/single_search/DEEP/20190403/A0c/detector_1/snr_4.0/regular/filtered_recovery.pkl 7\n",
      "../search/single_search/DEEP/20190403/A0c/detector_1/snr_4.0/regular/gathered_4_recovery.pkl 7\n",
      "../search/single_search/DEEP/20190403/A0c/detector_1/snr_4.0/regular/deduplicated_recovery.pkl 7\n",
      "../search/single_search/DEEP/20190403/A0c/detector_1/snr_3.5/regular/clusters_recovery.pkl 7\n",
      "../search/single_search/DEEP/20190403/A0c/detector_1/snr_3.5/regular/gathered_0_recovery.pkl 7\n",
      "../search/single_search/DEEP/20190403/A0c/detector_1/snr_3.5/regular/gathered_1_recovery.pkl 7\n",
      "../search/single_search/DEEP/20190403/A0c/detector_1/snr_3.5/regular/gathered_2_recovery.pkl 7\n",
      "../search/single_search/DEEP/20190403/A0c/detector_1/snr_3.5/regular/gathered_3_recovery.pkl 7\n",
      "../search/single_search/DEEP/20190403/A0c/detector_1/snr_3.5/regular/gathered_4_recovery.pkl 7\n",
      "../search/single_search/DEEP/20190403/A0c/detector_1/snr_3.5/regular/filtered_recovery.pkl 7\n",
      "../search/single_search/DEEP/20190403/A0c/detector_1/snr_3.5/regular/deduplicated_recovery.pkl 7\n",
      "../search/single_search/DEEP/20190403/A0c/detector_1/snr_3.0/regular/clusters_recovery.pkl 7\n",
      "../search/single_search/DEEP/20190403/A0c/detector_1/snr_3.0/regular/gathered_0_recovery.pkl 7\n",
      "../search/single_search/DEEP/20190403/A0c/detector_1/snr_3.0/regular/gathered_1_recovery.pkl 7\n",
      "../search/single_search/DEEP/20190403/A0c/detector_1/snr_3.0/regular/gathered_2_recovery.pkl 7\n",
      "../search/single_search/DEEP/20190403/A0c/detector_1/snr_3.0/regular/gathered_4_recovery.pkl 7\n",
      "../search/single_search/DEEP/20190403/A0c/detector_1/snr_3.0/regular/gathered_3_recovery.pkl 7\n",
      "../search/single_search/DEEP/20190403/A0c/detector_1/snr_3.0/regular/filtered_recovery.pkl 7\n",
      "../search/single_search/DEEP/20190403/A0c/detector_1/snr_3.0/regular/deduplicated_recovery.pkl 7\n"
     ]
    }
   ],
   "source": [
    "from salad.serialize import read\n",
    "from pathlib import Path\n",
    "import numpy as np\n",
    "import matplotlib.pyplot as plt\n",
    "\n",
    "d = []\n",
    "for p in list(Path(\"../search/single_search\").rglob(\"regular/*_recovery.pkl\")):\n",
    "    d.append(read(p))\n",
    "    print(p, len(d[-1]))"
   ]
  },
  {
   "cell_type": "code",
   "execution_count": 2,
   "id": "f93f2647",
   "metadata": {},
   "outputs": [
    {
     "data": {
      "text/plain": [
       "{13039521: {'points': {},\n",
       "  'line': {},\n",
       "  'catalog': {'fake': 1, 'total': 104},\n",
       "  'info': {'vra': <Quantity -0.14286354 deg / d>,\n",
       "   'vdec': <Quantity 0.00333632 deg / d>,\n",
       "   'min_dv': <Quantity 0.01059939 deg / d>,\n",
       "   'distance': <Quantity 0.00189071 deg>,\n",
       "   'findable': True}},\n",
       " 10564514: {'points': {},\n",
       "  'line': {},\n",
       "  'catalog': {'fake': 0, 'total': 21},\n",
       "  'info': {'vra': <Quantity -0.11873689 deg / d>,\n",
       "   'vdec': <Quantity 0.12091516 deg / d>,\n",
       "   'min_dv': <Quantity 0.00778315 deg / d>,\n",
       "   'distance': <Quantity 0.00027088 deg>,\n",
       "   'findable': True}},\n",
       " 14621325: {'points': {7: {'fake': 85, 'total': 85}},\n",
       "  'line': {7: {'fake': 104, 'total': 104}},\n",
       "  'catalog': {'fake': 85, 'total': 104},\n",
       "  'info': {'vra': <Quantity -0.14885475 deg / d>,\n",
       "   'vdec': <Quantity 0.15269422 deg / d>,\n",
       "   'min_dv': <Quantity 0.00714488 deg / d>,\n",
       "   'distance': <Quantity 0.0012745 deg>,\n",
       "   'findable': True}},\n",
       " 10053463: {'points': {},\n",
       "  'line': {},\n",
       "  'catalog': {'fake': 3, 'total': 104},\n",
       "  'info': {'vra': <Quantity -0.15100897 deg / d>,\n",
       "   'vdec': <Quantity 0.00298646 deg / d>,\n",
       "   'min_dv': <Quantity 0.01263974 deg / d>,\n",
       "   'distance': <Quantity 0.00225467 deg>,\n",
       "   'findable': True}},\n",
       " 13776855: {'points': {10: {'fake': 72, 'total': 73}},\n",
       "  'line': {10: {'fake': 75, 'total': 104}},\n",
       "  'catalog': {'fake': 72, 'total': 104},\n",
       "  'info': {'vra': <Quantity -0.12566953 deg / d>,\n",
       "   'vdec': <Quantity 0.18511984 deg / d>,\n",
       "   'min_dv': <Quantity 0.00059843 deg / d>,\n",
       "   'distance': <Quantity 0.00010675 deg>,\n",
       "   'findable': True}},\n",
       " 14813564: {'points': {144: {'fake': 58, 'total': 59}},\n",
       "  'line': {14: {'fake': 104, 'total': 104}},\n",
       "  'catalog': {'fake': 61, 'total': 104},\n",
       "  'info': {'vra': <Quantity -0.16369937 deg / d>,\n",
       "   'vdec': <Quantity -0.01746633 deg / d>,\n",
       "   'min_dv': <Quantity 0.03197695 deg / d>,\n",
       "   'distance': <Quantity 0.00570403 deg>,\n",
       "   'findable': False}},\n",
       " 10041343: {'points': {103: {'fake': 99, 'total': 99}},\n",
       "  'line': {},\n",
       "  'catalog': {'fake': 100, 'total': 104},\n",
       "  'info': {'vra': <Quantity -0.29713809 deg / d>,\n",
       "   'vdec': <Quantity -0.09604964 deg / d>,\n",
       "   'min_dv': <Quantity 0.10993634 deg / d>,\n",
       "   'distance': <Quantity 0.01961038 deg>,\n",
       "   'findable': False}}}"
      ]
     },
     "execution_count": 2,
     "metadata": {},
     "output_type": "execute_result"
    }
   ],
   "source": [
    "d[-1]"
   ]
  },
  {
   "cell_type": "code",
   "execution_count": 3,
   "id": "b5b7cb6f",
   "metadata": {},
   "outputs": [
    {
     "name": "stdout",
     "output_type": "stream",
     "text": [
      "../search/single_search/DEEP/20190403/A0c/detector_1/snr_5.0/regular/deduplicated.pkl\n",
      "../search/single_search/DEEP/20190403/A0c/detector_1/snr_4.5/regular/deduplicated.pkl\n",
      "../search/single_search/DEEP/20190403/A0c/detector_1/snr_4.0/regular/deduplicated.pkl\n",
      "../search/single_search/DEEP/20190403/A0c/detector_1/snr_3.5/regular/deduplicated.pkl\n",
      "../search/single_search/DEEP/20190403/A0c/detector_1/snr_3.0/regular/deduplicated.pkl\n"
     ]
    }
   ],
   "source": [
    "for p in list(Path(\"../search/single_search\").rglob(\"regular/deduplicated.pkl\")):\n",
    "    print(p)"
   ]
  },
  {
   "cell_type": "code",
   "execution_count": 21,
   "id": "9bf6e370",
   "metadata": {},
   "outputs": [
    {
     "data": {
      "text/plain": [
       "21"
      ]
     },
     "execution_count": 21,
     "metadata": {},
     "output_type": "execute_result"
    }
   ],
   "source": [
    "len(read(\"../search/single_search/DEEP/20190403/A0c/detector_1/snr_3.0/regular/deduplicated.pkl\"))"
   ]
  },
  {
   "cell_type": "code",
   "execution_count": 19,
   "id": "16a5faa4",
   "metadata": {},
   "outputs": [],
   "source": [
    "from salad.deduplicate import deduplicate\n",
    "from salad.cluster.filter import filter_n, filter_velocity"
   ]
  },
  {
   "cell_type": "code",
   "execution_count": 8,
   "id": "c303f0f4",
   "metadata": {},
   "outputs": [],
   "source": [
    "images = read(\"../search/single_search/DEEP/20190403/A0c/detector_1/images.pkl\")\n",
    "times = [i.mjd_mid for i in images]"
   ]
  },
  {
   "cell_type": "code",
   "execution_count": 10,
   "id": "25399b8a",
   "metadata": {},
   "outputs": [],
   "source": [
    "c = read(\"../search/single_search/DEEP/20190403/A0c/detector_1/snr_3.0/regular/gathered_4.pkl\")"
   ]
  },
  {
   "cell_type": "code",
   "execution_count": 15,
   "id": "a4e99f3c",
   "metadata": {},
   "outputs": [
    {
     "data": {
      "text/plain": [
       "794"
      ]
     },
     "execution_count": 15,
     "metadata": {},
     "output_type": "execute_result"
    }
   ],
   "source": [
    "import astropy.units as u\n",
    "len(deduplicate(c, min(times)*u.day, 5*u.arcsec, 1*u.arcsec / ((max(times) - min(times)) * u.day)))"
   ]
  },
  {
   "cell_type": "code",
   "execution_count": 16,
   "id": "dadd46ad",
   "metadata": {},
   "outputs": [
    {
     "data": {
      "text/plain": [
       "848"
      ]
     },
     "execution_count": 16,
     "metadata": {},
     "output_type": "execute_result"
    }
   ],
   "source": [
    "len(c)"
   ]
  },
  {
   "cell_type": "code",
   "execution_count": 20,
   "id": "34fb359b",
   "metadata": {},
   "outputs": [
    {
     "data": {
      "text/plain": [
       "21"
      ]
     },
     "execution_count": 20,
     "metadata": {},
     "output_type": "execute_result"
    }
   ],
   "source": [
    "dedup = deduplicate(c, min(times)*u.day, 5*u.arcsec, 1*u.arcsec / ((max(times) - min(times)) * u.day))\n",
    "f = {}\n",
    "for k in dedup:\n",
    "    if filter_velocity(dedup[k], vmin=0.1, vmax=0.5) and filter_n(dedup[k], n=15):\n",
    "        f[k] = dedup[k]\n",
    "len(f)"
   ]
  },
  {
   "cell_type": "code",
   "execution_count": null,
   "id": "798a8e51",
   "metadata": {},
   "outputs": [],
   "source": []
  }
 ],
 "metadata": {
  "kernelspec": {
   "display_name": "SALAD",
   "language": "python",
   "name": "salad"
  },
  "language_info": {
   "codemirror_mode": {
    "name": "ipython",
    "version": 3
   },
   "file_extension": ".py",
   "mimetype": "text/x-python",
   "name": "python",
   "nbconvert_exporter": "python",
   "pygments_lexer": "ipython3",
   "version": "3.11.7"
  }
 },
 "nbformat": 4,
 "nbformat_minor": 5
}
