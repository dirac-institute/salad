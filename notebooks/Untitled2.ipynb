{
 "cells": [
  {
   "cell_type": "code",
   "execution_count": 35,
   "id": "7c2a4def",
   "metadata": {},
   "outputs": [],
   "source": [
    "from salad.serialize import read\n",
    "import numpy as np"
   ]
  },
  {
   "cell_type": "code",
   "execution_count": 19,
   "id": "eb258e3e",
   "metadata": {},
   "outputs": [],
   "source": [
    "detector = 1\n",
    "snr = 5.0\n",
    "\n",
    "images = read(f\"../search/new_pipeline/DEEP/20190403/A0c/detector_{detector}/images.pkl\")\n",
    "catalog = read(f\"../search/new_pipeline/DEEP/20190403/A0c/detector_{detector}/snr_{snr}/catalog.pkl\")\n",
    "search = read(f\"../search/new_pipeline/DEEP/20190403/A0c/detector_{detector}/snr_{snr}/search.pkl\")"
   ]
  },
  {
   "cell_type": "code",
   "execution_count": 25,
   "id": "9f332a03",
   "metadata": {},
   "outputs": [
    {
     "data": {
      "text/html": [
       "<div><i>Table length=94</i>\n",
       "<table id=\"table140573746274064\" class=\"table-striped table-bordered table-condensed\">\n",
       "<thead><tr><th>i_x</th><th>i_y</th><th>ra</th><th>dec</th><th>expnum</th><th>time</th><th>peakValue</th><th>significance</th></tr></thead>\n",
       "<thead><tr><th>float64</th><th>float64</th><th>float64</th><th>float64</th><th>float64</th><th>float64</th><th>float64</th><th>float64</th></tr></thead>\n",
       "<tr><td>163.0</td><td>2809.0</td><td>216.19189138530163</td><td>-11.002743309295953</td><td>845975.0</td><td>58577.393984940834</td><td>482.87158203125</td><td>309.4004821777344</td></tr>\n",
       "<tr><td>165.0</td><td>2807.0</td><td>216.19218334528878</td><td>-11.002912064298085</td><td>845974.0</td><td>58577.39226360712</td><td>477.5310974121094</td><td>309.7838134765625</td></tr>\n",
       "<tr><td>176.0</td><td>2818.0</td><td>216.19246938430845</td><td>-11.003112793424084</td><td>845973.0</td><td>58577.390541809145</td><td>427.37384033203125</td><td>299.43414306640625</td></tr>\n",
       "<tr><td>172.0</td><td>2824.0</td><td>216.1927128238547</td><td>-11.003253763594476</td><td>845972.0</td><td>58577.388831184246</td><td>533.734130859375</td><td>318.8716735839844</td></tr>\n",
       "<tr><td>176.0</td><td>2816.0</td><td>216.1930052891909</td><td>-11.003419652996946</td><td>845971.0</td><td>58577.387109267525</td><td>438.46514892578125</td><td>299.36322021484375</td></tr>\n",
       "<tr><td>178.0</td><td>2823.0</td><td>216.19328123094144</td><td>-11.003548144501922</td><td>845970.0</td><td>58577.385399164166</td><td>653.1431274414062</td><td>337.6451721191406</td></tr>\n",
       "<tr><td>187.0</td><td>2831.0</td><td>216.19351253945294</td><td>-11.00376495949218</td><td>845969.0</td><td>58577.38366577728</td><td>708.4180908203125</td><td>346.611083984375</td></tr>\n",
       "<tr><td>185.0</td><td>2829.0</td><td>216.19380772000193</td><td>-11.00390004640939</td><td>845968.0</td><td>58577.38195688883</td><td>504.4386901855469</td><td>316.5804443359375</td></tr>\n",
       "<tr><td>194.0</td><td>2838.0</td><td>216.19404887136682</td><td>-11.00408304889303</td><td>845967.0</td><td>58577.38024196215</td><td>660.9109497070312</td><td>346.3147277832031</td></tr>\n",
       "<tr><td>198.0</td><td>2830.0</td><td>216.19433065366897</td><td>-11.00421743126917</td><td>845966.0</td><td>58577.37852532789</td><td>556.0927124023438</td><td>327.156494140625</td></tr>\n",
       "<tr><td>...</td><td>...</td><td>...</td><td>...</td><td>...</td><td>...</td><td>...</td><td>...</td></tr>\n",
       "<tr><td>351.0</td><td>3115.0</td><td>216.21742847899114</td><td>-11.018246216672445</td><td>845882.0</td><td>58577.23280570097</td><td>608.2444458007812</td><td>383.2348937988281</td></tr>\n",
       "<tr><td>354.0</td><td>3116.0</td><td>216.2177270328554</td><td>-11.018458106832549</td><td>845881.0</td><td>58577.23109729914</td><td>715.8843994140625</td><td>393.791015625</td></tr>\n",
       "<tr><td>360.0</td><td>3124.0</td><td>216.21825201864993</td><td>-11.018758680525108</td><td>845879.0</td><td>58577.22767416015</td><td>780.3750610351562</td><td>404.15045166015625</td></tr>\n",
       "<tr><td>362.0</td><td>3122.0</td><td>216.21851045571384</td><td>-11.018926225539756</td><td>845878.0</td><td>58577.22595066577</td><td>904.6939697265625</td><td>417.8272705078125</td></tr>\n",
       "<tr><td>368.0</td><td>3129.0</td><td>216.21880223048646</td><td>-11.019134977354755</td><td>845877.0</td><td>58577.22423474211</td><td>846.2197875976562</td><td>413.31378173828125</td></tr>\n",
       "<tr><td>370.0</td><td>3134.0</td><td>216.21910148646126</td><td>-11.019303981433223</td><td>845876.0</td><td>58577.22251877701</td><td>681.7964477539062</td><td>389.9315185546875</td></tr>\n",
       "<tr><td>373.0</td><td>3133.0</td><td>216.2193032688503</td><td>-11.01942894881083</td><td>845875.0</td><td>58577.22080451343</td><td>798.0198364257812</td><td>404.5895080566406</td></tr>\n",
       "<tr><td>372.0</td><td>3130.0</td><td>216.2196081029462</td><td>-11.019611738445509</td><td>845874.0</td><td>58577.21909338422</td><td>710.8356323242188</td><td>398.14642333984375</td></tr>\n",
       "<tr><td>374.0</td><td>3128.0</td><td>216.219874755738</td><td>-11.01977373349382</td><td>845873.0</td><td>58577.21731682867</td><td>779.8258056640625</td><td>398.74462890625</td></tr>\n",
       "<tr><td>383.0</td><td>3131.0</td><td>216.2201427829152</td><td>-11.019911675277973</td><td>845872.0</td><td>58577.21560552204</td><td>1140.963623046875</td><td>432.5069885253906</td></tr>\n",
       "</table></div>"
      ],
      "text/plain": [
       "<Table length=94>\n",
       "  i_x     i_y           ra         ...     peakValue         significance   \n",
       "float64 float64      float64       ...      float64            float64      \n",
       "------- ------- ------------------ ... ------------------ ------------------\n",
       "  163.0  2809.0 216.19189138530163 ...    482.87158203125  309.4004821777344\n",
       "  165.0  2807.0 216.19218334528878 ...  477.5310974121094  309.7838134765625\n",
       "  176.0  2818.0 216.19246938430845 ... 427.37384033203125 299.43414306640625\n",
       "  172.0  2824.0  216.1927128238547 ...   533.734130859375  318.8716735839844\n",
       "  176.0  2816.0  216.1930052891909 ... 438.46514892578125 299.36322021484375\n",
       "  178.0  2823.0 216.19328123094144 ...  653.1431274414062  337.6451721191406\n",
       "  187.0  2831.0 216.19351253945294 ...  708.4180908203125   346.611083984375\n",
       "  185.0  2829.0 216.19380772000193 ...  504.4386901855469  316.5804443359375\n",
       "  194.0  2838.0 216.19404887136682 ...  660.9109497070312  346.3147277832031\n",
       "  198.0  2830.0 216.19433065366897 ...  556.0927124023438   327.156494140625\n",
       "    ...     ...                ... ...                ...                ...\n",
       "  351.0  3115.0 216.21742847899114 ...  608.2444458007812  383.2348937988281\n",
       "  354.0  3116.0  216.2177270328554 ...  715.8843994140625      393.791015625\n",
       "  360.0  3124.0 216.21825201864993 ...  780.3750610351562 404.15045166015625\n",
       "  362.0  3122.0 216.21851045571384 ...  904.6939697265625  417.8272705078125\n",
       "  368.0  3129.0 216.21880223048646 ...  846.2197875976562 413.31378173828125\n",
       "  370.0  3134.0 216.21910148646126 ...  681.7964477539062  389.9315185546875\n",
       "  373.0  3133.0  216.2193032688503 ...  798.0198364257812  404.5895080566406\n",
       "  372.0  3130.0  216.2196081029462 ...  710.8356323242188 398.14642333984375\n",
       "  374.0  3128.0   216.219874755738 ...  779.8258056640625    398.74462890625\n",
       "  383.0  3131.0  216.2201427829152 ...  1140.963623046875  432.5069885253906"
      ]
     },
     "execution_count": 25,
     "metadata": {},
     "output_type": "execute_result"
    }
   ],
   "source": [
    "read(\"/epyc/projects/salad/search/new_pipeline/DEEP/20190403/A0c/detector_1/snr_5.0/unshuffled/refined_clusters_2_filtered_joined_split/0/cluster.pkl\").extra['join']"
   ]
  },
  {
   "cell_type": "code",
   "execution_count": null,
   "id": "992cd163",
   "metadata": {},
   "outputs": [],
   "source": [
    "# 1) cluster\n",
    "# 2) refine\n",
    "# 3) refine\n",
    "# 4) filter velocity\n",
    "# 5) filter n detections\n",
    "# 6) fit line on the cutouts\n",
    "# 7) by-eye filter on coadd and light curves\n",
    "\n",
    "# I should keep track of what clusters were lost at each stage\n",
    "\n",
    "# A cluster is:\n",
    "# - a set of points that support a line\n",
    "\n",
    "# A line is: \n",
    "# - a predictor of ra/dec at a point in time\n"
   ]
  },
  {
   "cell_type": "code",
   "execution_count": 29,
   "id": "e7f03072",
   "metadata": {},
   "outputs": [],
   "source": [
    "forced_line = read(\"/epyc/projects/salad/search/new_pipeline/DEEP/20190403/A0c/detector_1/snr_5.0/unshuffled/refined_clusters_2_filtered_joined_split/0/forced_line.pkl\")\n"
   ]
  },
  {
   "cell_type": "code",
   "execution_count": 38,
   "id": "24dfdbca",
   "metadata": {},
   "outputs": [],
   "source": [
    "cutouts = np.array(forced_line.extra['cutouts'])[~ np.array(forced_line.extra['clipped'])]"
   ]
  },
  {
   "cell_type": "code",
   "execution_count": 42,
   "id": "928bfadd",
   "metadata": {},
   "outputs": [
    {
     "data": {
      "image/png": "[encoded data removed]",
      "text/plain": [
       "<Figure size 640x480 with 1 Axes>"
      ]
     },
     "metadata": {},
     "output_type": "display_data"
    }
   ],
   "source": [
    "import matplotlib.pyplot as plt\n",
    "\n",
    "plt.imshow(np.sum(list(map(lambda x : x.image.array, cutouts)), axis=0))\n",
    "plt.show()"
   ]
  },
  {
   "cell_type": "code",
   "execution_count": 17,
   "id": "9a7de414",
   "metadata": {},
   "outputs": [],
   "source": [
    "from salad.measure.forced_line import forced_line\n",
    "from salad.cutouts.get import get_cutouts\n",
    "from salad.cluster.join import join"
   ]
  },
  {
   "cell_type": "code",
   "execution_count": 23,
   "id": "3f655534",
   "metadata": {},
   "outputs": [],
   "source": [
    "cluster = search['filtered'][0]\n",
    "cluster.extra['join'] = join(cluster, catalog)"
   ]
  },
  {
   "cell_type": "code",
   "execution_count": null,
   "id": "52559b8a",
   "metadata": {},
   "outputs": [],
   "source": [
    "get_cutouts()"
   ]
  }
 ],
 "metadata": {
  "kernelspec": {
   "display_name": "SALAD",
   "language": "python",
   "name": "salad"
  },
  "language_info": {
   "codemirror_mode": {
    "name": "ipython",
    "version": 3
   },
   "file_extension": ".py",
   "mimetype": "text/x-python",
   "name": "python",
   "nbconvert_exporter": "python",
   "pygments_lexer": "ipython3",
   "version": "3.11.7"
  }
 },
 "nbformat": 4,
 "nbformat_minor": 5
}
